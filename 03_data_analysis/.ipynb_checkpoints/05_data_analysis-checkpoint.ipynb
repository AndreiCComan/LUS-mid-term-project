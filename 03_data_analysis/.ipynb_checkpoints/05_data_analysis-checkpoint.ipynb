{
 "cells": [
  {
   "cell_type": "markdown",
   "metadata": {},
   "source": [
    "![DISI](./DISI.jpeg)"
   ]
  },
  {
   "cell_type": "markdown",
   "metadata": {},
   "source": [
    "### Import"
   ]
  },
  {
   "cell_type": "code",
   "execution_count": 218,
   "metadata": {},
   "outputs": [
    {
     "data": {
      "text/html": [
       "<script>requirejs.config({paths: { 'plotly': ['https://cdn.plot.ly/plotly-latest.min']},});if(!window.Plotly) {{require(['plotly'],function(plotly) {window.Plotly=plotly;});}}</script>"
      ],
      "text/vnd.plotly.v1+html": [
       "<script>requirejs.config({paths: { 'plotly': ['https://cdn.plot.ly/plotly-latest.min']},});if(!window.Plotly) {{require(['plotly'],function(plotly) {window.Plotly=plotly;});}}</script>"
      ]
     },
     "metadata": {},
     "output_type": "display_data"
    }
   ],
   "source": [
    "import plotly\n",
    "from plotly.graph_objs import Bar, Layout, Margin\n",
    "plotly.offline.init_notebook_mode(connected=True)\n",
    "from operator import itemgetter"
   ]
  },
  {
   "cell_type": "code",
   "execution_count": 220,
   "metadata": {},
   "outputs": [],
   "source": [
    "TRAIN_FILE = \"NLSPARQL.train.data\"\n",
    "TRAIN_FEATS_FILE = \"NLSPARQL.train.feats.txt\"\n",
    "TEST_FILE = \"NLSPARQL.test.data\"\n",
    "TEST_FEATS_FILE = \"NLSPARQL.test.feats.txt\""
   ]
  },
  {
   "cell_type": "markdown",
   "metadata": {},
   "source": [
    "### Train file analysis"
   ]
  },
  {
   "cell_type": "code",
   "execution_count": 221,
   "metadata": {},
   "outputs": [],
   "source": [
    "train_file = open(TRAIN_FILE, \"r\", encoding=\"utf8\")\n",
    "\n",
    "token_count_dictionary = {}\n",
    "concept_including_prefix_count_dictionary = {}\n",
    "concept_without_prefix_count_dictionary = {}\n",
    "sentences_count = 0\n",
    "train_file_lines = []\n",
    "\n",
    "for line in train_file:\n",
    "    line = line.replace(\"\\n\", \"\")\n",
    "    train_file_lines.append(line)\n",
    "    \n",
    "    if len(line) == 0: #check if end of sentence\n",
    "        sentences_count += 1\n",
    "        continue\n",
    "    \n",
    "    line_split = line.split(\"\\t\")\n",
    "    assert(len(line_split) == 2)\n",
    "    \n",
    "    token = line_split[0]\n",
    "    concept_including_prefix = line_split[1]\n",
    "    concept_without_prefix = \"X\"\n",
    "    \n",
    "    if concept_including_prefix.startswith(\"B\") or\\\n",
    "       concept_including_prefix.startswith(\"I\") or\\\n",
    "       concept_including_prefix.startswith(\"E\"):\n",
    "        concept_without_prefix = concept_including_prefix[2:]\n",
    "    else:\n",
    "        concept_without_prefix = concept_including_prefix\n",
    "    assert(concept_without_prefix != \"X\")\n",
    "    \n",
    "    if token not in token_count_dictionary:\n",
    "        token_count_dictionary[token] = 1\n",
    "    else:\n",
    "        token_count_dictionary[token] += 1\n",
    "        \n",
    "    if concept_including_prefix not in concept_including_prefix_count_dictionary:\n",
    "        concept_including_prefix_count_dictionary[concept_including_prefix] = 1\n",
    "    else:\n",
    "        concept_including_prefix_count_dictionary[concept_including_prefix] += 1\n",
    "    \n",
    "    if concept_without_prefix not in concept_without_prefix_count_dictionary:\n",
    "        concept_without_prefix_count_dictionary[concept_without_prefix] = 1\n",
    "    else:\n",
    "        concept_without_prefix_count_dictionary[concept_without_prefix] += 1        \n",
    "\n",
    "train_file.close()    "
   ]
  },
  {
   "cell_type": "code",
   "execution_count": 222,
   "metadata": {},
   "outputs": [
    {
     "name": "stdout",
     "output_type": "stream",
     "text": [
      "> length of the train file:\t24791\n"
     ]
    }
   ],
   "source": [
    "train_file_length = len(train_file_lines)\n",
    "print(\"> length of the train file:\\t{0}\".format(train_file_length))"
   ]
  },
  {
   "cell_type": "code",
   "execution_count": 223,
   "metadata": {},
   "outputs": [
    {
     "name": "stdout",
     "output_type": "stream",
     "text": [
      "> number of sentences:\t3338\n"
     ]
    }
   ],
   "source": [
    "print(\"> number of sentences:\\t{0}\".format(sentences_count))"
   ]
  },
  {
   "cell_type": "code",
   "execution_count": 224,
   "metadata": {},
   "outputs": [
    {
     "name": "stdout",
     "output_type": "stream",
     "text": [
      "> number of tokens:\t1728\n"
     ]
    }
   ],
   "source": [
    "number_of_tokens = len(token_count_dictionary)\n",
    "print(\"> number of tokens:\\t{0}\".format(number_of_tokens))"
   ]
  },
  {
   "cell_type": "code",
   "execution_count": 225,
   "metadata": {},
   "outputs": [
    {
     "name": "stdout",
     "output_type": "stream",
     "text": [
      "> number of concepts including prefix:\t41\n"
     ]
    }
   ],
   "source": [
    "number_of_concepts_including_prefix = len(concept_including_prefix_count_dictionary)\n",
    "print(\"> number of concepts including prefix:\\t{0}\".format(number_of_concepts_including_prefix))"
   ]
  },
  {
   "cell_type": "code",
   "execution_count": 226,
   "metadata": {},
   "outputs": [
    {
     "name": "stdout",
     "output_type": "stream",
     "text": [
      "> number of concepts without prefix:\t24\n"
     ]
    }
   ],
   "source": [
    "number_of_concepts_without_prefix = len(concept_without_prefix_count_dictionary)\n",
    "print(\"> number of concepts without prefix:\\t{0}\".format(number_of_concepts_without_prefix))"
   ]
  },
  {
   "cell_type": "code",
   "execution_count": 227,
   "metadata": {},
   "outputs": [
    {
     "data": {
      "application/vnd.plotly.v1+json": {
       "data": [
        {
         "marker": {
          "color": "#1abc9c"
         },
         "orientation": "v",
         "type": "bar",
         "x": [
          "O",
          "I-movie.name",
          "B-movie.name",
          "B-director.name",
          "B-actor.name",
          "I-director.name",
          "I-actor.name",
          "B-rating.name",
          "B-producer.name",
          "B-country.name",
          "B-movie.language",
          "B-movie.subject",
          "B-person.name",
          "I-producer.name",
          "I-person.name",
          "I-movie.release_date",
          "B-movie.genre",
          "B-movie.release_date",
          "I-movie.subject",
          "B-character.name",
          "I-character.name",
          "I-rating.name",
          "I-movie.language",
          "I-movie.gross_revenue",
          "I-country.name",
          "B-movie.location",
          "B-award.ceremony",
          "B-movie.release_region",
          "B-movie.gross_revenue",
          "B-actor.nationality",
          "I-movie.location",
          "I-movie.genre",
          "B-actor.type",
          "I-award.ceremony",
          "B-director.nationality",
          "B-movie.description",
          "B-person.nationality",
          "B-movie.star_rating",
          "I-movie.release_region",
          "I-actor.nationality",
          "B-award.category"
         ],
         "y": [
          15391,
          1755,
          1402,
          237,
          227,
          218,
          210,
          200,
          195,
          190,
          174,
          172,
          151,
          141,
          129,
          114,
          94,
          87,
          75,
          49,
          48,
          40,
          33,
          26,
          22,
          17,
          10,
          9,
          8,
          5,
          4,
          4,
          3,
          3,
          2,
          2,
          2,
          1,
          1,
          1,
          1
         ]
        }
       ],
       "layout": {
        "margin": {
         "b": 150
        },
        "title": "concepts including prefix distribution",
        "xaxis": {
         "title": "concepts"
        },
        "yaxis": {
         "dtick": 1000,
         "title": "frequency"
        }
       }
      },
      "text/html": [
       "<div id=\"749029ac-c15a-4b4c-8cf5-13395bc6bc77\" style=\"height: 525px; width: 100%;\" class=\"plotly-graph-div\"></div><script type=\"text/javascript\">require([\"plotly\"], function(Plotly) { window.PLOTLYENV=window.PLOTLYENV || {};window.PLOTLYENV.BASE_URL=\"https://plot.ly\";Plotly.newPlot(\"749029ac-c15a-4b4c-8cf5-13395bc6bc77\", [{\"marker\": {\"color\": \"#1abc9c\"}, \"x\": [\"O\", \"I-movie.name\", \"B-movie.name\", \"B-director.name\", \"B-actor.name\", \"I-director.name\", \"I-actor.name\", \"B-rating.name\", \"B-producer.name\", \"B-country.name\", \"B-movie.language\", \"B-movie.subject\", \"B-person.name\", \"I-producer.name\", \"I-person.name\", \"I-movie.release_date\", \"B-movie.genre\", \"B-movie.release_date\", \"I-movie.subject\", \"B-character.name\", \"I-character.name\", \"I-rating.name\", \"I-movie.language\", \"I-movie.gross_revenue\", \"I-country.name\", \"B-movie.location\", \"B-award.ceremony\", \"B-movie.release_region\", \"B-movie.gross_revenue\", \"B-actor.nationality\", \"I-movie.location\", \"I-movie.genre\", \"B-actor.type\", \"I-award.ceremony\", \"B-director.nationality\", \"B-movie.description\", \"B-person.nationality\", \"B-movie.star_rating\", \"I-movie.release_region\", \"I-actor.nationality\", \"B-award.category\"], \"type\": \"bar\", \"y\": [15391, 1755, 1402, 237, 227, 218, 210, 200, 195, 190, 174, 172, 151, 141, 129, 114, 94, 87, 75, 49, 48, 40, 33, 26, 22, 17, 10, 9, 8, 5, 4, 4, 3, 3, 2, 2, 2, 1, 1, 1, 1], \"orientation\": \"v\"}], {\"margin\": {\"b\": 150}, \"xaxis\": {\"title\": \"concepts\"}, \"title\": \"concepts including prefix distribution\", \"yaxis\": {\"title\": \"frequency\", \"dtick\": 1000}}, {\"linkText\": \"Export to plot.ly\", \"showLink\": true})});</script>"
      ],
      "text/vnd.plotly.v1+html": [
       "<div id=\"749029ac-c15a-4b4c-8cf5-13395bc6bc77\" style=\"height: 525px; width: 100%;\" class=\"plotly-graph-div\"></div><script type=\"text/javascript\">require([\"plotly\"], function(Plotly) { window.PLOTLYENV=window.PLOTLYENV || {};window.PLOTLYENV.BASE_URL=\"https://plot.ly\";Plotly.newPlot(\"749029ac-c15a-4b4c-8cf5-13395bc6bc77\", [{\"marker\": {\"color\": \"#1abc9c\"}, \"x\": [\"O\", \"I-movie.name\", \"B-movie.name\", \"B-director.name\", \"B-actor.name\", \"I-director.name\", \"I-actor.name\", \"B-rating.name\", \"B-producer.name\", \"B-country.name\", \"B-movie.language\", \"B-movie.subject\", \"B-person.name\", \"I-producer.name\", \"I-person.name\", \"I-movie.release_date\", \"B-movie.genre\", \"B-movie.release_date\", \"I-movie.subject\", \"B-character.name\", \"I-character.name\", \"I-rating.name\", \"I-movie.language\", \"I-movie.gross_revenue\", \"I-country.name\", \"B-movie.location\", \"B-award.ceremony\", \"B-movie.release_region\", \"B-movie.gross_revenue\", \"B-actor.nationality\", \"I-movie.location\", \"I-movie.genre\", \"B-actor.type\", \"I-award.ceremony\", \"B-director.nationality\", \"B-movie.description\", \"B-person.nationality\", \"B-movie.star_rating\", \"I-movie.release_region\", \"I-actor.nationality\", \"B-award.category\"], \"type\": \"bar\", \"y\": [15391, 1755, 1402, 237, 227, 218, 210, 200, 195, 190, 174, 172, 151, 141, 129, 114, 94, 87, 75, 49, 48, 40, 33, 26, 22, 17, 10, 9, 8, 5, 4, 4, 3, 3, 2, 2, 2, 1, 1, 1, 1], \"orientation\": \"v\"}], {\"margin\": {\"b\": 150}, \"xaxis\": {\"title\": \"concepts\"}, \"title\": \"concepts including prefix distribution\", \"yaxis\": {\"title\": \"frequency\", \"dtick\": 1000}}, {\"linkText\": \"Export to plot.ly\", \"showLink\": true})});</script>"
      ]
     },
     "metadata": {},
     "output_type": "display_data"
    }
   ],
   "source": [
    "X_axis = []\n",
    "Y_axis = []\n",
    "sorted_dict = sorted(concept_including_prefix_count_dictionary.items(), key=itemgetter(1), reverse=True)\n",
    "\n",
    "for concept_including_prefix, concept_including_prefix_count in sorted_dict:\n",
    "        X_axis.append(concept_including_prefix)\n",
    "        Y_axis.append(concept_including_prefix_count)\n",
    "\n",
    "assert(len(X_axis) == len(Y_axis)) \n",
    "\n",
    "plotly.offline.iplot({\n",
    "    \"data\": [Bar(orientation = 'v',\n",
    "                 x = X_axis,\n",
    "                 y = Y_axis,\n",
    "                 marker = dict(color = \"#1abc9c\"))],\n",
    "    \"layout\": Layout(title=\"concepts including prefix distribution\", \n",
    "                     xaxis=dict(title='concepts'),\n",
    "                     yaxis=dict(title='frequency', dtick = 1000),\n",
    "                     margin=Margin(b=150)\n",
    "                    )\n",
    "})"
   ]
  },
  {
   "cell_type": "code",
   "execution_count": 228,
   "metadata": {},
   "outputs": [
    {
     "data": {
      "application/vnd.plotly.v1+json": {
       "data": [
        {
         "marker": {
          "color": "#1abc9c"
         },
         "orientation": "v",
         "type": "bar",
         "x": [
          "O",
          "movie.name",
          "director.name",
          "actor.name",
          "producer.name",
          "person.name",
          "movie.subject",
          "rating.name",
          "country.name",
          "movie.language",
          "movie.release_date",
          "movie.genre",
          "character.name",
          "movie.gross_revenue",
          "movie.location",
          "award.ceremony",
          "movie.release_region",
          "actor.nationality",
          "actor.type",
          "movie.description",
          "director.nationality",
          "person.nationality",
          "award.category",
          "movie.star_rating"
         ],
         "y": [
          15391,
          3157,
          455,
          437,
          336,
          280,
          247,
          240,
          212,
          207,
          201,
          98,
          97,
          34,
          21,
          13,
          10,
          6,
          3,
          2,
          2,
          2,
          1,
          1
         ]
        }
       ],
       "layout": {
        "margin": {
         "b": 150
        },
        "title": "concepts without prefix distribution",
        "xaxis": {
         "tickangle": 90,
         "title": "concepts"
        },
        "yaxis": {
         "dtick": 1000,
         "title": "frequency"
        }
       }
      },
      "text/html": [
       "<div id=\"1ec20438-9699-4789-b23a-04045c141b53\" style=\"height: 525px; width: 100%;\" class=\"plotly-graph-div\"></div><script type=\"text/javascript\">require([\"plotly\"], function(Plotly) { window.PLOTLYENV=window.PLOTLYENV || {};window.PLOTLYENV.BASE_URL=\"https://plot.ly\";Plotly.newPlot(\"1ec20438-9699-4789-b23a-04045c141b53\", [{\"marker\": {\"color\": \"#1abc9c\"}, \"x\": [\"O\", \"movie.name\", \"director.name\", \"actor.name\", \"producer.name\", \"person.name\", \"movie.subject\", \"rating.name\", \"country.name\", \"movie.language\", \"movie.release_date\", \"movie.genre\", \"character.name\", \"movie.gross_revenue\", \"movie.location\", \"award.ceremony\", \"movie.release_region\", \"actor.nationality\", \"actor.type\", \"movie.description\", \"director.nationality\", \"person.nationality\", \"award.category\", \"movie.star_rating\"], \"type\": \"bar\", \"y\": [15391, 3157, 455, 437, 336, 280, 247, 240, 212, 207, 201, 98, 97, 34, 21, 13, 10, 6, 3, 2, 2, 2, 1, 1], \"orientation\": \"v\"}], {\"margin\": {\"b\": 150}, \"xaxis\": {\"tickangle\": 90, \"title\": \"concepts\"}, \"title\": \"concepts without prefix distribution\", \"yaxis\": {\"title\": \"frequency\", \"dtick\": 1000}}, {\"linkText\": \"Export to plot.ly\", \"showLink\": true})});</script>"
      ],
      "text/vnd.plotly.v1+html": [
       "<div id=\"1ec20438-9699-4789-b23a-04045c141b53\" style=\"height: 525px; width: 100%;\" class=\"plotly-graph-div\"></div><script type=\"text/javascript\">require([\"plotly\"], function(Plotly) { window.PLOTLYENV=window.PLOTLYENV || {};window.PLOTLYENV.BASE_URL=\"https://plot.ly\";Plotly.newPlot(\"1ec20438-9699-4789-b23a-04045c141b53\", [{\"marker\": {\"color\": \"#1abc9c\"}, \"x\": [\"O\", \"movie.name\", \"director.name\", \"actor.name\", \"producer.name\", \"person.name\", \"movie.subject\", \"rating.name\", \"country.name\", \"movie.language\", \"movie.release_date\", \"movie.genre\", \"character.name\", \"movie.gross_revenue\", \"movie.location\", \"award.ceremony\", \"movie.release_region\", \"actor.nationality\", \"actor.type\", \"movie.description\", \"director.nationality\", \"person.nationality\", \"award.category\", \"movie.star_rating\"], \"type\": \"bar\", \"y\": [15391, 3157, 455, 437, 336, 280, 247, 240, 212, 207, 201, 98, 97, 34, 21, 13, 10, 6, 3, 2, 2, 2, 1, 1], \"orientation\": \"v\"}], {\"margin\": {\"b\": 150}, \"xaxis\": {\"tickangle\": 90, \"title\": \"concepts\"}, \"title\": \"concepts without prefix distribution\", \"yaxis\": {\"title\": \"frequency\", \"dtick\": 1000}}, {\"linkText\": \"Export to plot.ly\", \"showLink\": true})});</script>"
      ]
     },
     "metadata": {},
     "output_type": "display_data"
    }
   ],
   "source": [
    "X_axis = []\n",
    "Y_axis = []\n",
    "sorted_dict = sorted(concept_without_prefix_count_dictionary.items(), key=itemgetter(1), reverse=True)\n",
    "\n",
    "for concept_without_prefix, concept_without_prefix_count in sorted_dict:\n",
    "        X_axis.append(concept_without_prefix)\n",
    "        Y_axis.append(concept_without_prefix_count)\n",
    "\n",
    "assert(len(X_axis) == len(Y_axis)) \n",
    "\n",
    "plotly.offline.iplot({\n",
    "    \"data\": [Bar(orientation = 'v',\n",
    "                 x = X_axis,\n",
    "                 y = Y_axis,\n",
    "                 marker = dict(color = \"#1abc9c\"))],\n",
    "    \"layout\": Layout(title=\"concepts without prefix distribution\", \n",
    "                     xaxis=dict(title='concepts', tickangle=90),\n",
    "                     yaxis=dict(title='frequency', dtick = 1000),\n",
    "                     margin=Margin(b=150)\n",
    "                    )\n",
    "})"
   ]
  },
  {
   "cell_type": "markdown",
   "metadata": {},
   "source": [
    "### Train with features file analysis"
   ]
  },
  {
   "cell_type": "code",
   "execution_count": 229,
   "metadata": {},
   "outputs": [],
   "source": [
    "train_file = open(TRAIN_FEATS_FILE, \"r\", encoding=\"utf8\")\n",
    "\n",
    "token_count_dictionary = {}\n",
    "pos_count_dictionary = {}\n",
    "sentences_count = 0\n",
    "train_file_lines = []\n",
    "\n",
    "for line in train_file:\n",
    "    line = line.replace(\"\\n\", \"\")\n",
    "    train_file_lines.append(line)\n",
    "    \n",
    "    if len(line) == 0: #check if end of sentence\n",
    "        sentences_count += 1\n",
    "        continue\n",
    "    \n",
    "    line_split = line.split(\"\\t\")\n",
    "    assert(len(line_split) == 3)\n",
    "    \n",
    "    token = line_split[0]\n",
    "    pos = line_split[1]\n",
    "    \n",
    "    if token not in token_count_dictionary:\n",
    "        token_count_dictionary[token] = 1\n",
    "    else:\n",
    "        token_count_dictionary[token] += 1\n",
    "        \n",
    "    if pos not in pos_count_dictionary:\n",
    "        pos_count_dictionary[pos] = 1\n",
    "    else:\n",
    "        pos_count_dictionary[pos] += 1\n",
    "    \n",
    "train_file.close()"
   ]
  },
  {
   "cell_type": "code",
   "execution_count": 230,
   "metadata": {},
   "outputs": [
    {
     "name": "stdout",
     "output_type": "stream",
     "text": [
      "> length of the train file:\t24791\n"
     ]
    }
   ],
   "source": [
    "train_file_length = len(train_file_lines)\n",
    "print(\"> length of the train file:\\t{0}\".format(train_file_length))"
   ]
  },
  {
   "cell_type": "code",
   "execution_count": 231,
   "metadata": {},
   "outputs": [
    {
     "name": "stdout",
     "output_type": "stream",
     "text": [
      "> number of sentences:\t3338\n"
     ]
    }
   ],
   "source": [
    "print(\"> number of sentences:\\t{0}\".format(sentences_count))"
   ]
  },
  {
   "cell_type": "code",
   "execution_count": 232,
   "metadata": {},
   "outputs": [
    {
     "name": "stdout",
     "output_type": "stream",
     "text": [
      "> number of tokens:\t1728\n"
     ]
    }
   ],
   "source": [
    "number_of_tokens = len(token_count_dictionary)\n",
    "print(\"> number of tokens:\\t{0}\".format(number_of_tokens))"
   ]
  },
  {
   "cell_type": "code",
   "execution_count": 233,
   "metadata": {},
   "outputs": [
    {
     "name": "stdout",
     "output_type": "stream",
     "text": [
      "> number of pos:\t49\n"
     ]
    }
   ],
   "source": [
    "number_of_pos = len(pos_count_dictionary)\n",
    "print(\"> number of pos:\\t{0}\".format(number_of_pos))"
   ]
  },
  {
   "cell_type": "code",
   "execution_count": 234,
   "metadata": {},
   "outputs": [
    {
     "data": {
      "application/vnd.plotly.v1+json": {
       "data": [
        {
         "marker": {
          "color": "#1abc9c"
         },
         "orientation": "v",
         "type": "bar",
         "x": [
          "NN",
          "IN",
          "NNS",
          "DT",
          "VV",
          "JJ",
          "WP",
          "PP",
          "VVN",
          "VVD",
          "VBZ",
          "WRB",
          "TO",
          "VVP",
          "VBD",
          "RB",
          "MD",
          "CD",
          "NP",
          "VVG",
          "VBP",
          "WDT",
          "VVZ",
          "RP",
          "POS",
          "CC",
          "VHZ",
          "VHP",
          "UH",
          "JJR",
          "VB",
          "PP$",
          "JJS",
          "VBN",
          "PDT",
          "IN/that",
          "FW",
          ":",
          "SYM",
          "RBS",
          "SENT",
          "RBR",
          "VHD",
          "EX",
          "VHG",
          "''",
          "LS",
          "WP$",
          "VH"
         ],
         "y": [
          5796,
          2502,
          2322,
          1871,
          1472,
          1140,
          847,
          721,
          576,
          510,
          344,
          297,
          271,
          268,
          261,
          259,
          254,
          251,
          235,
          181,
          177,
          124,
          98,
          83,
          82,
          78,
          78,
          60,
          47,
          35,
          33,
          31,
          29,
          25,
          21,
          17,
          12,
          12,
          10,
          8,
          3,
          2,
          2,
          2,
          2,
          1,
          1,
          1,
          1
         ]
        }
       ],
       "layout": {
        "margin": {
         "b": 150
        },
        "title": "pos distribution",
        "xaxis": {
         "title": "pos"
        },
        "yaxis": {
         "dtick": 1000,
         "title": "frequency"
        }
       }
      },
      "text/html": [
       "<div id=\"edf62420-ccfc-46ad-9246-1d47b4a5af4b\" style=\"height: 525px; width: 100%;\" class=\"plotly-graph-div\"></div><script type=\"text/javascript\">require([\"plotly\"], function(Plotly) { window.PLOTLYENV=window.PLOTLYENV || {};window.PLOTLYENV.BASE_URL=\"https://plot.ly\";Plotly.newPlot(\"edf62420-ccfc-46ad-9246-1d47b4a5af4b\", [{\"marker\": {\"color\": \"#1abc9c\"}, \"x\": [\"NN\", \"IN\", \"NNS\", \"DT\", \"VV\", \"JJ\", \"WP\", \"PP\", \"VVN\", \"VVD\", \"VBZ\", \"WRB\", \"TO\", \"VVP\", \"VBD\", \"RB\", \"MD\", \"CD\", \"NP\", \"VVG\", \"VBP\", \"WDT\", \"VVZ\", \"RP\", \"POS\", \"CC\", \"VHZ\", \"VHP\", \"UH\", \"JJR\", \"VB\", \"PP$\", \"JJS\", \"VBN\", \"PDT\", \"IN/that\", \"FW\", \":\", \"SYM\", \"RBS\", \"SENT\", \"RBR\", \"VHD\", \"EX\", \"VHG\", \"''\", \"LS\", \"WP$\", \"VH\"], \"type\": \"bar\", \"y\": [5796, 2502, 2322, 1871, 1472, 1140, 847, 721, 576, 510, 344, 297, 271, 268, 261, 259, 254, 251, 235, 181, 177, 124, 98, 83, 82, 78, 78, 60, 47, 35, 33, 31, 29, 25, 21, 17, 12, 12, 10, 8, 3, 2, 2, 2, 2, 1, 1, 1, 1], \"orientation\": \"v\"}], {\"margin\": {\"b\": 150}, \"xaxis\": {\"title\": \"pos\"}, \"title\": \"pos distribution\", \"yaxis\": {\"title\": \"frequency\", \"dtick\": 1000}}, {\"linkText\": \"Export to plot.ly\", \"showLink\": true})});</script>"
      ],
      "text/vnd.plotly.v1+html": [
       "<div id=\"edf62420-ccfc-46ad-9246-1d47b4a5af4b\" style=\"height: 525px; width: 100%;\" class=\"plotly-graph-div\"></div><script type=\"text/javascript\">require([\"plotly\"], function(Plotly) { window.PLOTLYENV=window.PLOTLYENV || {};window.PLOTLYENV.BASE_URL=\"https://plot.ly\";Plotly.newPlot(\"edf62420-ccfc-46ad-9246-1d47b4a5af4b\", [{\"marker\": {\"color\": \"#1abc9c\"}, \"x\": [\"NN\", \"IN\", \"NNS\", \"DT\", \"VV\", \"JJ\", \"WP\", \"PP\", \"VVN\", \"VVD\", \"VBZ\", \"WRB\", \"TO\", \"VVP\", \"VBD\", \"RB\", \"MD\", \"CD\", \"NP\", \"VVG\", \"VBP\", \"WDT\", \"VVZ\", \"RP\", \"POS\", \"CC\", \"VHZ\", \"VHP\", \"UH\", \"JJR\", \"VB\", \"PP$\", \"JJS\", \"VBN\", \"PDT\", \"IN/that\", \"FW\", \":\", \"SYM\", \"RBS\", \"SENT\", \"RBR\", \"VHD\", \"EX\", \"VHG\", \"''\", \"LS\", \"WP$\", \"VH\"], \"type\": \"bar\", \"y\": [5796, 2502, 2322, 1871, 1472, 1140, 847, 721, 576, 510, 344, 297, 271, 268, 261, 259, 254, 251, 235, 181, 177, 124, 98, 83, 82, 78, 78, 60, 47, 35, 33, 31, 29, 25, 21, 17, 12, 12, 10, 8, 3, 2, 2, 2, 2, 1, 1, 1, 1], \"orientation\": \"v\"}], {\"margin\": {\"b\": 150}, \"xaxis\": {\"title\": \"pos\"}, \"title\": \"pos distribution\", \"yaxis\": {\"title\": \"frequency\", \"dtick\": 1000}}, {\"linkText\": \"Export to plot.ly\", \"showLink\": true})});</script>"
      ]
     },
     "metadata": {},
     "output_type": "display_data"
    }
   ],
   "source": [
    "X_axis = []\n",
    "Y_axis = []\n",
    "sorted_dict = sorted(pos_count_dictionary.items(), key=itemgetter(1), reverse=True)\n",
    "\n",
    "for pos, pos_count in sorted_dict:\n",
    "        X_axis.append(pos)\n",
    "        Y_axis.append(pos_count)\n",
    "\n",
    "assert(len(X_axis) == len(Y_axis)) \n",
    "\n",
    "plotly.offline.iplot({\n",
    "    \"data\": [Bar(orientation = 'v',\n",
    "                 x = X_axis,\n",
    "                 y = Y_axis,\n",
    "                 marker = dict(color = \"#1abc9c\"))],\n",
    "    \"layout\": Layout(title=\"pos distribution\", \n",
    "                     xaxis=dict(title='pos'),\n",
    "                     yaxis=dict(title='frequency', dtick = 1000),\n",
    "                     margin=Margin(b=150)\n",
    "                    )\n",
    "})"
   ]
  },
  {
   "cell_type": "markdown",
   "metadata": {},
   "source": [
    "### Test file analysis"
   ]
  },
  {
   "cell_type": "code",
   "execution_count": 235,
   "metadata": {},
   "outputs": [],
   "source": [
    "test_file = open(TEST_FILE, \"r\", encoding=\"utf8\")\n",
    "\n",
    "token_count_dictionary = {}\n",
    "concept_including_prefix_count_dictionary = {}\n",
    "concept_without_prefix_count_dictionary = {}\n",
    "sentences_count = 0\n",
    "test_file_lines = []\n",
    "\n",
    "for line in test_file:\n",
    "    line = line.replace(\"\\n\", \"\")\n",
    "    test_file_lines.append(line)\n",
    "    \n",
    "    if len(line) == 0: #check if end of sentence\n",
    "        sentences_count += 1\n",
    "        continue\n",
    "    \n",
    "    line_split = line.split(\"\\t\")\n",
    "    assert(len(line_split) == 2)\n",
    "    \n",
    "    token = line_split[0]\n",
    "    concept_including_prefix = line_split[1]\n",
    "    concept_without_prefix = \"X\"\n",
    "    \n",
    "    if concept_including_prefix.startswith(\"B\") or\\\n",
    "       concept_including_prefix.startswith(\"I\") or\\\n",
    "       concept_including_prefix.startswith(\"E\"):\n",
    "        concept_without_prefix = concept_including_prefix[2:]\n",
    "    else:\n",
    "        concept_without_prefix = concept_including_prefix\n",
    "    assert(concept_without_prefix != \"X\")\n",
    "    \n",
    "    if token not in token_count_dictionary:\n",
    "        token_count_dictionary[token] = 1\n",
    "    else:\n",
    "        token_count_dictionary[token] += 1\n",
    "        \n",
    "    if concept_including_prefix not in concept_including_prefix_count_dictionary:\n",
    "        concept_including_prefix_count_dictionary[concept_including_prefix] = 1\n",
    "    else:\n",
    "        concept_including_prefix_count_dictionary[concept_including_prefix] += 1\n",
    "    \n",
    "    if concept_without_prefix not in concept_without_prefix_count_dictionary:\n",
    "        concept_without_prefix_count_dictionary[concept_without_prefix] = 1\n",
    "    else:\n",
    "        concept_without_prefix_count_dictionary[concept_without_prefix] += 1        \n",
    "\n",
    "test_file.close() "
   ]
  },
  {
   "cell_type": "code",
   "execution_count": 236,
   "metadata": {},
   "outputs": [
    {
     "name": "stdout",
     "output_type": "stream",
     "text": [
      "> length of the test file:\t8201\n"
     ]
    }
   ],
   "source": [
    "test_file_length = len(test_file_lines)\n",
    "print(\"> length of the test file:\\t{0}\".format(test_file_length))"
   ]
  },
  {
   "cell_type": "code",
   "execution_count": 237,
   "metadata": {},
   "outputs": [
    {
     "name": "stdout",
     "output_type": "stream",
     "text": [
      "> number of sentences:\t1084\n"
     ]
    }
   ],
   "source": [
    "print(\"> number of sentences:\\t{0}\".format(sentences_count))"
   ]
  },
  {
   "cell_type": "code",
   "execution_count": 238,
   "metadata": {},
   "outputs": [
    {
     "name": "stdout",
     "output_type": "stream",
     "text": [
      "> number of tokens:\t1039\n"
     ]
    }
   ],
   "source": [
    "number_of_tokens = len(token_count_dictionary)\n",
    "print(\"> number of tokens:\\t{0}\".format(number_of_tokens))"
   ]
  },
  {
   "cell_type": "code",
   "execution_count": 239,
   "metadata": {},
   "outputs": [
    {
     "name": "stdout",
     "output_type": "stream",
     "text": [
      "> number of concepts including prefix:\t39\n"
     ]
    }
   ],
   "source": [
    "number_of_concepts_including_prefix = len(concept_including_prefix_count_dictionary)\n",
    "print(\"> number of concepts including prefix:\\t{0}\".format(number_of_concepts_including_prefix))"
   ]
  },
  {
   "cell_type": "code",
   "execution_count": 240,
   "metadata": {},
   "outputs": [
    {
     "name": "stdout",
     "output_type": "stream",
     "text": [
      "> number of concepts without prefix:\t23\n"
     ]
    }
   ],
   "source": [
    "number_of_concepts_without_prefix = len(concept_without_prefix_count_dictionary)\n",
    "print(\"> number of concepts without prefix:\\t{0}\".format(number_of_concepts_without_prefix))"
   ]
  },
  {
   "cell_type": "code",
   "execution_count": 241,
   "metadata": {},
   "outputs": [
    {
     "data": {
      "application/vnd.plotly.v1+json": {
       "data": [
        {
         "marker": {
          "color": "#3498db"
         },
         "orientation": "v",
         "type": "bar",
         "x": [
          "O",
          "I-movie.name",
          "B-movie.name",
          "B-actor.name",
          "I-director.name",
          "B-director.name",
          "I-actor.name",
          "B-producer.name",
          "B-movie.language",
          "B-country.name",
          "B-rating.name",
          "I-producer.name",
          "B-movie.subject",
          "I-movie.release_date",
          "B-movie.genre",
          "B-person.name",
          "I-person.name",
          "B-movie.release_date",
          "I-movie.gross_revenue",
          "I-movie.subject",
          "B-character.name",
          "I-rating.name",
          "B-movie.location",
          "B-award.ceremony",
          "I-character.name",
          "I-country.name",
          "B-movie.gross_revenue",
          "B-movie.release_region",
          "I-movie.location",
          "B-movie.type",
          "I-movie.language",
          "B-actor.type",
          "I-movie.release_region",
          "B-award.category",
          "I-award.category",
          "B-actor.nationality",
          "B-director.nationality",
          "B-movie.star_rating",
          "I-movie.genre"
         ],
         "y": [
          5135,
          557,
          473,
          80,
          78,
          78,
          77,
          73,
          69,
          62,
          61,
          48,
          44,
          42,
          36,
          34,
          32,
          28,
          15,
          15,
          15,
          8,
          7,
          7,
          6,
          5,
          5,
          4,
          4,
          4,
          3,
          2,
          2,
          2,
          2,
          1,
          1,
          1,
          1
         ]
        }
       ],
       "layout": {
        "margin": {
         "b": 150
        },
        "title": "concepts including prefix distribution",
        "xaxis": {
         "title": "concepts"
        },
        "yaxis": {
         "dtick": 1000,
         "title": "frequency"
        }
       }
      },
      "text/html": [
       "<div id=\"834043f4-0011-4789-b7fa-b7732d710a31\" style=\"height: 525px; width: 100%;\" class=\"plotly-graph-div\"></div><script type=\"text/javascript\">require([\"plotly\"], function(Plotly) { window.PLOTLYENV=window.PLOTLYENV || {};window.PLOTLYENV.BASE_URL=\"https://plot.ly\";Plotly.newPlot(\"834043f4-0011-4789-b7fa-b7732d710a31\", [{\"marker\": {\"color\": \"#3498db\"}, \"x\": [\"O\", \"I-movie.name\", \"B-movie.name\", \"B-actor.name\", \"I-director.name\", \"B-director.name\", \"I-actor.name\", \"B-producer.name\", \"B-movie.language\", \"B-country.name\", \"B-rating.name\", \"I-producer.name\", \"B-movie.subject\", \"I-movie.release_date\", \"B-movie.genre\", \"B-person.name\", \"I-person.name\", \"B-movie.release_date\", \"I-movie.gross_revenue\", \"I-movie.subject\", \"B-character.name\", \"I-rating.name\", \"B-movie.location\", \"B-award.ceremony\", \"I-character.name\", \"I-country.name\", \"B-movie.gross_revenue\", \"B-movie.release_region\", \"I-movie.location\", \"B-movie.type\", \"I-movie.language\", \"B-actor.type\", \"I-movie.release_region\", \"B-award.category\", \"I-award.category\", \"B-actor.nationality\", \"B-director.nationality\", \"B-movie.star_rating\", \"I-movie.genre\"], \"type\": \"bar\", \"y\": [5135, 557, 473, 80, 78, 78, 77, 73, 69, 62, 61, 48, 44, 42, 36, 34, 32, 28, 15, 15, 15, 8, 7, 7, 6, 5, 5, 4, 4, 4, 3, 2, 2, 2, 2, 1, 1, 1, 1], \"orientation\": \"v\"}], {\"margin\": {\"b\": 150}, \"xaxis\": {\"title\": \"concepts\"}, \"title\": \"concepts including prefix distribution\", \"yaxis\": {\"title\": \"frequency\", \"dtick\": 1000}}, {\"linkText\": \"Export to plot.ly\", \"showLink\": true})});</script>"
      ],
      "text/vnd.plotly.v1+html": [
       "<div id=\"834043f4-0011-4789-b7fa-b7732d710a31\" style=\"height: 525px; width: 100%;\" class=\"plotly-graph-div\"></div><script type=\"text/javascript\">require([\"plotly\"], function(Plotly) { window.PLOTLYENV=window.PLOTLYENV || {};window.PLOTLYENV.BASE_URL=\"https://plot.ly\";Plotly.newPlot(\"834043f4-0011-4789-b7fa-b7732d710a31\", [{\"marker\": {\"color\": \"#3498db\"}, \"x\": [\"O\", \"I-movie.name\", \"B-movie.name\", \"B-actor.name\", \"I-director.name\", \"B-director.name\", \"I-actor.name\", \"B-producer.name\", \"B-movie.language\", \"B-country.name\", \"B-rating.name\", \"I-producer.name\", \"B-movie.subject\", \"I-movie.release_date\", \"B-movie.genre\", \"B-person.name\", \"I-person.name\", \"B-movie.release_date\", \"I-movie.gross_revenue\", \"I-movie.subject\", \"B-character.name\", \"I-rating.name\", \"B-movie.location\", \"B-award.ceremony\", \"I-character.name\", \"I-country.name\", \"B-movie.gross_revenue\", \"B-movie.release_region\", \"I-movie.location\", \"B-movie.type\", \"I-movie.language\", \"B-actor.type\", \"I-movie.release_region\", \"B-award.category\", \"I-award.category\", \"B-actor.nationality\", \"B-director.nationality\", \"B-movie.star_rating\", \"I-movie.genre\"], \"type\": \"bar\", \"y\": [5135, 557, 473, 80, 78, 78, 77, 73, 69, 62, 61, 48, 44, 42, 36, 34, 32, 28, 15, 15, 15, 8, 7, 7, 6, 5, 5, 4, 4, 4, 3, 2, 2, 2, 2, 1, 1, 1, 1], \"orientation\": \"v\"}], {\"margin\": {\"b\": 150}, \"xaxis\": {\"title\": \"concepts\"}, \"title\": \"concepts including prefix distribution\", \"yaxis\": {\"title\": \"frequency\", \"dtick\": 1000}}, {\"linkText\": \"Export to plot.ly\", \"showLink\": true})});</script>"
      ]
     },
     "metadata": {},
     "output_type": "display_data"
    }
   ],
   "source": [
    "X_axis = []\n",
    "Y_axis = []\n",
    "sorted_dict = sorted(concept_including_prefix_count_dictionary.items(), key=itemgetter(1), reverse=True)\n",
    "\n",
    "for concept_including_prefix, concept_including_prefix_count in sorted_dict:\n",
    "        X_axis.append(concept_including_prefix)\n",
    "        Y_axis.append(concept_including_prefix_count)\n",
    "\n",
    "assert(len(X_axis) == len(Y_axis)) \n",
    "\n",
    "plotly.offline.iplot({\n",
    "    \"data\": [Bar(orientation = 'v',\n",
    "                 x = X_axis,\n",
    "                 y = Y_axis,\n",
    "                 marker = dict(color = \"#3498db\"))],\n",
    "    \"layout\": Layout(title=\"concepts including prefix distribution\", \n",
    "                     xaxis=dict(title='concepts'),\n",
    "                     yaxis=dict(title='frequency', dtick = 1000),\n",
    "                     margin=Margin(b=150)\n",
    "                    )\n",
    "})"
   ]
  },
  {
   "cell_type": "code",
   "execution_count": 242,
   "metadata": {},
   "outputs": [
    {
     "data": {
      "application/vnd.plotly.v1+json": {
       "data": [
        {
         "marker": {
          "color": "#3498db"
         },
         "orientation": "v",
         "type": "bar",
         "x": [
          "O",
          "movie.name",
          "actor.name",
          "director.name",
          "producer.name",
          "movie.language",
          "movie.release_date",
          "rating.name",
          "country.name",
          "person.name",
          "movie.subject",
          "movie.genre",
          "character.name",
          "movie.gross_revenue",
          "movie.location",
          "award.ceremony",
          "movie.release_region",
          "award.category",
          "movie.type",
          "actor.type",
          "director.nationality",
          "actor.nationality",
          "movie.star_rating"
         ],
         "y": [
          5135,
          1030,
          157,
          156,
          121,
          72,
          70,
          69,
          67,
          66,
          59,
          37,
          21,
          20,
          11,
          7,
          6,
          4,
          4,
          2,
          1,
          1,
          1
         ]
        }
       ],
       "layout": {
        "margin": {
         "b": 150
        },
        "title": "concepts without prefix distribution",
        "xaxis": {
         "tickangle": 90,
         "title": "concepts"
        },
        "yaxis": {
         "dtick": 1000,
         "title": "frequency"
        }
       }
      },
      "text/html": [
       "<div id=\"2e685415-43e5-4a58-aaf9-e11b58e0345f\" style=\"height: 525px; width: 100%;\" class=\"plotly-graph-div\"></div><script type=\"text/javascript\">require([\"plotly\"], function(Plotly) { window.PLOTLYENV=window.PLOTLYENV || {};window.PLOTLYENV.BASE_URL=\"https://plot.ly\";Plotly.newPlot(\"2e685415-43e5-4a58-aaf9-e11b58e0345f\", [{\"marker\": {\"color\": \"#3498db\"}, \"x\": [\"O\", \"movie.name\", \"actor.name\", \"director.name\", \"producer.name\", \"movie.language\", \"movie.release_date\", \"rating.name\", \"country.name\", \"person.name\", \"movie.subject\", \"movie.genre\", \"character.name\", \"movie.gross_revenue\", \"movie.location\", \"award.ceremony\", \"movie.release_region\", \"award.category\", \"movie.type\", \"actor.type\", \"director.nationality\", \"actor.nationality\", \"movie.star_rating\"], \"type\": \"bar\", \"y\": [5135, 1030, 157, 156, 121, 72, 70, 69, 67, 66, 59, 37, 21, 20, 11, 7, 6, 4, 4, 2, 1, 1, 1], \"orientation\": \"v\"}], {\"margin\": {\"b\": 150}, \"xaxis\": {\"tickangle\": 90, \"title\": \"concepts\"}, \"title\": \"concepts without prefix distribution\", \"yaxis\": {\"title\": \"frequency\", \"dtick\": 1000}}, {\"linkText\": \"Export to plot.ly\", \"showLink\": true})});</script>"
      ],
      "text/vnd.plotly.v1+html": [
       "<div id=\"2e685415-43e5-4a58-aaf9-e11b58e0345f\" style=\"height: 525px; width: 100%;\" class=\"plotly-graph-div\"></div><script type=\"text/javascript\">require([\"plotly\"], function(Plotly) { window.PLOTLYENV=window.PLOTLYENV || {};window.PLOTLYENV.BASE_URL=\"https://plot.ly\";Plotly.newPlot(\"2e685415-43e5-4a58-aaf9-e11b58e0345f\", [{\"marker\": {\"color\": \"#3498db\"}, \"x\": [\"O\", \"movie.name\", \"actor.name\", \"director.name\", \"producer.name\", \"movie.language\", \"movie.release_date\", \"rating.name\", \"country.name\", \"person.name\", \"movie.subject\", \"movie.genre\", \"character.name\", \"movie.gross_revenue\", \"movie.location\", \"award.ceremony\", \"movie.release_region\", \"award.category\", \"movie.type\", \"actor.type\", \"director.nationality\", \"actor.nationality\", \"movie.star_rating\"], \"type\": \"bar\", \"y\": [5135, 1030, 157, 156, 121, 72, 70, 69, 67, 66, 59, 37, 21, 20, 11, 7, 6, 4, 4, 2, 1, 1, 1], \"orientation\": \"v\"}], {\"margin\": {\"b\": 150}, \"xaxis\": {\"tickangle\": 90, \"title\": \"concepts\"}, \"title\": \"concepts without prefix distribution\", \"yaxis\": {\"title\": \"frequency\", \"dtick\": 1000}}, {\"linkText\": \"Export to plot.ly\", \"showLink\": true})});</script>"
      ]
     },
     "metadata": {},
     "output_type": "display_data"
    }
   ],
   "source": [
    "X_axis = []\n",
    "Y_axis = []\n",
    "sorted_dict = sorted(concept_without_prefix_count_dictionary.items(), key=itemgetter(1), reverse=True)\n",
    "\n",
    "for concept_without_prefix, concept_without_prefix_count in sorted_dict:\n",
    "        X_axis.append(concept_without_prefix)\n",
    "        Y_axis.append(concept_without_prefix_count)\n",
    "\n",
    "assert(len(X_axis) == len(Y_axis)) \n",
    "\n",
    "plotly.offline.iplot({\n",
    "    \"data\": [Bar(orientation = 'v',\n",
    "                 x = X_axis,\n",
    "                 y = Y_axis,\n",
    "                 marker = dict(color = \"#3498db\"))],\n",
    "    \"layout\": Layout(title=\"concepts without prefix distribution\", \n",
    "                     xaxis=dict(title='concepts', tickangle=90),\n",
    "                     yaxis=dict(title='frequency', dtick = 1000),\n",
    "                     margin=Margin(b=150)\n",
    "                    )\n",
    "})"
   ]
  },
  {
   "cell_type": "markdown",
   "metadata": {},
   "source": [
    "### Test with features file analysis"
   ]
  },
  {
   "cell_type": "code",
   "execution_count": 243,
   "metadata": {},
   "outputs": [],
   "source": [
    "test_file = open(TEST_FEATS_FILE, \"r\", encoding=\"utf8\")\n",
    "\n",
    "token_count_dictionary = {}\n",
    "pos_count_dictionary = {}\n",
    "sentences_count = 0\n",
    "test_file_lines = []\n",
    "\n",
    "for line in test_file:\n",
    "    line = line.replace(\"\\n\", \"\")\n",
    "    test_file_lines.append(line)\n",
    "    \n",
    "    if len(line) == 0: #check if end of sentence\n",
    "        sentences_count += 1\n",
    "        continue\n",
    "    \n",
    "    line_split = line.split(\"\\t\")\n",
    "    assert(len(line_split) == 3)\n",
    "    \n",
    "    token = line_split[0]\n",
    "    pos = line_split[1]\n",
    "    \n",
    "    if token not in token_count_dictionary:\n",
    "        token_count_dictionary[token] = 1\n",
    "    else:\n",
    "        token_count_dictionary[token] += 1\n",
    "        \n",
    "    if pos not in pos_count_dictionary:\n",
    "        pos_count_dictionary[pos] = 1\n",
    "    else:\n",
    "        pos_count_dictionary[pos] += 1\n",
    "    \n",
    "test_file.close()"
   ]
  },
  {
   "cell_type": "code",
   "execution_count": 244,
   "metadata": {},
   "outputs": [
    {
     "name": "stdout",
     "output_type": "stream",
     "text": [
      "> length of the test file:\t8201\n"
     ]
    }
   ],
   "source": [
    "test_file_length = len(test_file_lines)\n",
    "print(\"> length of the test file:\\t{0}\".format(test_file_length))"
   ]
  },
  {
   "cell_type": "code",
   "execution_count": 245,
   "metadata": {},
   "outputs": [
    {
     "name": "stdout",
     "output_type": "stream",
     "text": [
      "> number of sentences:\t1084\n"
     ]
    }
   ],
   "source": [
    "print(\"> number of sentences:\\t{0}\".format(sentences_count))"
   ]
  },
  {
   "cell_type": "code",
   "execution_count": 246,
   "metadata": {},
   "outputs": [
    {
     "name": "stdout",
     "output_type": "stream",
     "text": [
      "> number of tokens:\t1039\n"
     ]
    }
   ],
   "source": [
    "number_of_tokens = len(token_count_dictionary)\n",
    "print(\"> number of tokens:\\t{0}\".format(number_of_tokens))"
   ]
  },
  {
   "cell_type": "code",
   "execution_count": 247,
   "metadata": {},
   "outputs": [
    {
     "name": "stdout",
     "output_type": "stream",
     "text": [
      "> number of pos:\t46\n"
     ]
    }
   ],
   "source": [
    "number_of_pos = len(pos_count_dictionary)\n",
    "print(\"> number of pos:\\t{0}\".format(number_of_pos))"
   ]
  },
  {
   "cell_type": "code",
   "execution_count": 248,
   "metadata": {},
   "outputs": [
    {
     "data": {
      "application/vnd.plotly.v1+json": {
       "data": [
        {
         "marker": {
          "color": "#3498db"
         },
         "orientation": "v",
         "type": "bar",
         "x": [
          "NN",
          "IN",
          "NNS",
          "DT",
          "VV",
          "JJ",
          "WP",
          "PP",
          "VVN",
          "VVD",
          "VBZ",
          "CD",
          "TO",
          "VVP",
          "WRB",
          "NP",
          "MD",
          "VBD",
          "RB",
          "VVG",
          "VBP",
          "CC",
          "WDT",
          "RP",
          "VVZ",
          "VHZ",
          "POS",
          "VHP",
          "UH",
          "PP$",
          "JJS",
          "VB",
          "JJR",
          "VBN",
          "IN/that",
          ":",
          "FW",
          "SYM",
          "RBS",
          "PDT",
          "VH",
          "SENT",
          "VBG",
          "VHD",
          "LS",
          "VHG"
         ],
         "y": [
          1933,
          804,
          768,
          590,
          503,
          360,
          275,
          214,
          188,
          175,
          112,
          109,
          105,
          99,
          96,
          91,
          86,
          85,
          83,
          66,
          44,
          37,
          35,
          34,
          33,
          27,
          26,
          22,
          14,
          13,
          11,
          11,
          11,
          11,
          8,
          8,
          8,
          6,
          4,
          4,
          2,
          2,
          1,
          1,
          1,
          1
         ]
        }
       ],
       "layout": {
        "margin": {
         "b": 150
        },
        "title": "pos distribution",
        "xaxis": {
         "title": "pos"
        },
        "yaxis": {
         "dtick": 500,
         "title": "frequency"
        }
       }
      },
      "text/html": [
       "<div id=\"8ae4c8c3-72fe-4780-ba97-295a536fc131\" style=\"height: 525px; width: 100%;\" class=\"plotly-graph-div\"></div><script type=\"text/javascript\">require([\"plotly\"], function(Plotly) { window.PLOTLYENV=window.PLOTLYENV || {};window.PLOTLYENV.BASE_URL=\"https://plot.ly\";Plotly.newPlot(\"8ae4c8c3-72fe-4780-ba97-295a536fc131\", [{\"marker\": {\"color\": \"#3498db\"}, \"x\": [\"NN\", \"IN\", \"NNS\", \"DT\", \"VV\", \"JJ\", \"WP\", \"PP\", \"VVN\", \"VVD\", \"VBZ\", \"CD\", \"TO\", \"VVP\", \"WRB\", \"NP\", \"MD\", \"VBD\", \"RB\", \"VVG\", \"VBP\", \"CC\", \"WDT\", \"RP\", \"VVZ\", \"VHZ\", \"POS\", \"VHP\", \"UH\", \"PP$\", \"JJS\", \"VB\", \"JJR\", \"VBN\", \"IN/that\", \":\", \"FW\", \"SYM\", \"RBS\", \"PDT\", \"VH\", \"SENT\", \"VBG\", \"VHD\", \"LS\", \"VHG\"], \"type\": \"bar\", \"y\": [1933, 804, 768, 590, 503, 360, 275, 214, 188, 175, 112, 109, 105, 99, 96, 91, 86, 85, 83, 66, 44, 37, 35, 34, 33, 27, 26, 22, 14, 13, 11, 11, 11, 11, 8, 8, 8, 6, 4, 4, 2, 2, 1, 1, 1, 1], \"orientation\": \"v\"}], {\"margin\": {\"b\": 150}, \"xaxis\": {\"title\": \"pos\"}, \"title\": \"pos distribution\", \"yaxis\": {\"title\": \"frequency\", \"dtick\": 500}}, {\"linkText\": \"Export to plot.ly\", \"showLink\": true})});</script>"
      ],
      "text/vnd.plotly.v1+html": [
       "<div id=\"8ae4c8c3-72fe-4780-ba97-295a536fc131\" style=\"height: 525px; width: 100%;\" class=\"plotly-graph-div\"></div><script type=\"text/javascript\">require([\"plotly\"], function(Plotly) { window.PLOTLYENV=window.PLOTLYENV || {};window.PLOTLYENV.BASE_URL=\"https://plot.ly\";Plotly.newPlot(\"8ae4c8c3-72fe-4780-ba97-295a536fc131\", [{\"marker\": {\"color\": \"#3498db\"}, \"x\": [\"NN\", \"IN\", \"NNS\", \"DT\", \"VV\", \"JJ\", \"WP\", \"PP\", \"VVN\", \"VVD\", \"VBZ\", \"CD\", \"TO\", \"VVP\", \"WRB\", \"NP\", \"MD\", \"VBD\", \"RB\", \"VVG\", \"VBP\", \"CC\", \"WDT\", \"RP\", \"VVZ\", \"VHZ\", \"POS\", \"VHP\", \"UH\", \"PP$\", \"JJS\", \"VB\", \"JJR\", \"VBN\", \"IN/that\", \":\", \"FW\", \"SYM\", \"RBS\", \"PDT\", \"VH\", \"SENT\", \"VBG\", \"VHD\", \"LS\", \"VHG\"], \"type\": \"bar\", \"y\": [1933, 804, 768, 590, 503, 360, 275, 214, 188, 175, 112, 109, 105, 99, 96, 91, 86, 85, 83, 66, 44, 37, 35, 34, 33, 27, 26, 22, 14, 13, 11, 11, 11, 11, 8, 8, 8, 6, 4, 4, 2, 2, 1, 1, 1, 1], \"orientation\": \"v\"}], {\"margin\": {\"b\": 150}, \"xaxis\": {\"title\": \"pos\"}, \"title\": \"pos distribution\", \"yaxis\": {\"title\": \"frequency\", \"dtick\": 500}}, {\"linkText\": \"Export to plot.ly\", \"showLink\": true})});</script>"
      ]
     },
     "metadata": {},
     "output_type": "display_data"
    }
   ],
   "source": [
    "X_axis = []\n",
    "Y_axis = []\n",
    "sorted_dict = sorted(pos_count_dictionary.items(), key=itemgetter(1), reverse=True)\n",
    "\n",
    "for pos, pos_count in sorted_dict:\n",
    "        X_axis.append(pos)\n",
    "        Y_axis.append(pos_count)\n",
    "\n",
    "assert(len(X_axis) == len(Y_axis)) \n",
    "\n",
    "plotly.offline.iplot({\n",
    "    \"data\": [Bar(orientation = 'v',\n",
    "                 x = X_axis,\n",
    "                 y = Y_axis,\n",
    "                 marker = dict(color = \"#3498db\"))],\n",
    "    \"layout\": Layout(title=\"pos distribution\", \n",
    "                     xaxis=dict(title='pos'),\n",
    "                     yaxis=dict(title='frequency', dtick = 500),\n",
    "                     margin=Margin(b=150)\n",
    "                    )\n",
    "})"
   ]
  },
  {
   "cell_type": "markdown",
   "metadata": {},
   "source": [
    "### Compute OOV rate"
   ]
  },
  {
   "cell_type": "code",
   "execution_count": 254,
   "metadata": {},
   "outputs": [
    {
     "name": "stdout",
     "output_type": "stream",
     "text": [
      "> OOV rate:\t0.15046296296296297\n"
     ]
    }
   ],
   "source": [
    "train_file = open(TRAIN_FILE, \"r\", encoding=\"utf8\")\n",
    "\n",
    "train_tokens = []\n",
    "\n",
    "for line in train_file:\n",
    "    line = line.replace(\"\\n\", \"\")\n",
    "    \n",
    "    if len(line) == 0: #check if end of sentence\n",
    "        continue\n",
    "    \n",
    "    line_split = line.split(\"\\t\")\n",
    "    assert(len(line_split) == 2)\n",
    "    \n",
    "    token = line_split[0]\n",
    "    \n",
    "    if token not in train_tokens:\n",
    "        train_tokens.append(token)\n",
    "        \n",
    "train_file.close()\n",
    "\n",
    "oov_tokens = []\n",
    "\n",
    "test_file = open(TEST_FILE, \"r\", encoding=\"utf8\")\n",
    "\n",
    "for line in test_file:\n",
    "    line = line.replace(\"\\n\", \"\")\n",
    "    \n",
    "    if len(line) == 0: #check if end of sentence\n",
    "        continue\n",
    "    \n",
    "    line_split = line.split(\"\\t\")\n",
    "    assert(len(line_split) == 2)\n",
    "    \n",
    "    token = line_split[0]\n",
    "    \n",
    "    if token not in train_tokens:\n",
    "        oov_tokens.append(token)\n",
    "        \n",
    "test_file.close()\n",
    "\n",
    "print(\"> OOV rate:\\t{0}\".format(len(oov_tokens)/len(train_tokens)))"
   ]
  },
  {
   "cell_type": "code",
   "execution_count": null,
   "metadata": {},
   "outputs": [],
   "source": []
  }
 ],
 "metadata": {
  "kernelspec": {
   "display_name": "Python 3",
   "language": "python",
   "name": "python3"
  },
  "language_info": {
   "codemirror_mode": {
    "name": "ipython",
    "version": 3
   },
   "file_extension": ".py",
   "mimetype": "text/x-python",
   "name": "python",
   "nbconvert_exporter": "python",
   "pygments_lexer": "ipython3",
   "version": "3.5.2"
  }
 },
 "nbformat": 4,
 "nbformat_minor": 2
}
