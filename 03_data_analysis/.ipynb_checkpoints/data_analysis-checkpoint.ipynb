{
 "cells": [
  {
   "cell_type": "markdown",
   "metadata": {},
   "source": [
    "![DISI](../resources/DISI.jpeg)"
   ]
  },
  {
   "cell_type": "markdown",
   "metadata": {},
   "source": [
    "### Import"
   ]
  },
  {
   "cell_type": "code",
   "execution_count": 223,
   "metadata": {},
   "outputs": [
    {
     "data": {
      "text/html": [
       "<script>requirejs.config({paths: { 'plotly': ['https://cdn.plot.ly/plotly-latest.min']},});if(!window.Plotly) {{require(['plotly'],function(plotly) {window.Plotly=plotly;});}}</script>"
      ],
      "text/vnd.plotly.v1+html": [
       "<script>requirejs.config({paths: { 'plotly': ['https://cdn.plot.ly/plotly-latest.min']},});if(!window.Plotly) {{require(['plotly'],function(plotly) {window.Plotly=plotly;});}}</script>"
      ]
     },
     "metadata": {},
     "output_type": "display_data"
    }
   ],
   "source": [
    "import plotly\n",
    "from plotly.graph_objs import Scatter, Bar, Layout, Margin\n",
    "plotly.offline.init_notebook_mode(connected=True)\n",
    "from operator import itemgetter"
   ]
  },
  {
   "cell_type": "code",
   "execution_count": 224,
   "metadata": {},
   "outputs": [],
   "source": [
    "TRAIN_FILE = \"NLSPARQL.train.data\"\n",
    "TRAIN_FEATS_FILE = \"NLSPARQL.train.feats.txt\"\n",
    "TEST_FILE = \"NLSPARQL.test.data\"\n",
    "TEST_FEATS_FILE = \"NLSPARQL.test.feats.txt\""
   ]
  },
  {
   "cell_type": "markdown",
   "metadata": {},
   "source": [
    "### Train file analysis"
   ]
  },
  {
   "cell_type": "code",
   "execution_count": 225,
   "metadata": {},
   "outputs": [],
   "source": [
    "train_file = open(TRAIN_FILE, \"r\", encoding=\"utf8\")\n",
    "\n",
    "token_count_dictionary = {}\n",
    "concept_including_prefix_count_dictionary = {}\n",
    "concept_without_prefix_count_dictionary = {}\n",
    "sentences_count = 0\n",
    "train_file_lines = []\n",
    "\n",
    "for line in train_file:\n",
    "    line = line.replace(\"\\n\", \"\")\n",
    "    train_file_lines.append(line)\n",
    "    \n",
    "    if len(line) == 0: #check if end of sentence\n",
    "        sentences_count += 1\n",
    "        continue\n",
    "    \n",
    "    line_split = line.split(\"\\t\")\n",
    "    assert(len(line_split) == 2)\n",
    "    \n",
    "    token = line_split[0]\n",
    "    concept_including_prefix = line_split[1]\n",
    "    concept_without_prefix = \"X\"\n",
    "    \n",
    "    if concept_including_prefix.startswith(\"B\") or\\\n",
    "       concept_including_prefix.startswith(\"I\") or\\\n",
    "       concept_including_prefix.startswith(\"E\"):\n",
    "        concept_without_prefix = concept_including_prefix[2:]\n",
    "    else:\n",
    "        concept_without_prefix = concept_including_prefix\n",
    "    assert(concept_without_prefix != \"X\")\n",
    "    \n",
    "    if token not in token_count_dictionary:\n",
    "        token_count_dictionary[token] = 1\n",
    "    else:\n",
    "        token_count_dictionary[token] += 1\n",
    "        \n",
    "    if concept_including_prefix not in concept_including_prefix_count_dictionary:\n",
    "        concept_including_prefix_count_dictionary[concept_including_prefix] = 1\n",
    "    else:\n",
    "        concept_including_prefix_count_dictionary[concept_including_prefix] += 1\n",
    "    \n",
    "    if concept_without_prefix not in concept_without_prefix_count_dictionary:\n",
    "        concept_without_prefix_count_dictionary[concept_without_prefix] = 1\n",
    "    else:\n",
    "        concept_without_prefix_count_dictionary[concept_without_prefix] += 1        \n",
    "\n",
    "train_file.close()    "
   ]
  },
  {
   "cell_type": "code",
   "execution_count": 227,
   "metadata": {},
   "outputs": [
    {
     "name": "stdout",
     "output_type": "stream",
     "text": [
      "> length of the train file:\t24791\n"
     ]
    }
   ],
   "source": [
    "train_file_length = len(train_file_lines)\n",
    "print(\"> length of the train file:\\t{0}\".format(train_file_length))"
   ]
  },
  {
   "cell_type": "code",
   "execution_count": 228,
   "metadata": {},
   "outputs": [
    {
     "name": "stdout",
     "output_type": "stream",
     "text": [
      "> number of sentences:\t3338\n"
     ]
    }
   ],
   "source": [
    "print(\"> number of sentences:\\t{0}\".format(sentences_count))"
   ]
  },
  {
   "cell_type": "code",
   "execution_count": 229,
   "metadata": {},
   "outputs": [
    {
     "name": "stdout",
     "output_type": "stream",
     "text": [
      "> number of tokens:\t21453\n"
     ]
    }
   ],
   "source": [
    "total_number_of_tokens = 0\n",
    "for token_count in token_count_dictionary.values():\n",
    "    total_number_of_tokens += token_count\n",
    "print(\"> number of tokens:\\t{0}\".format(total_number_of_tokens)) "
   ]
  },
  {
   "cell_type": "code",
   "execution_count": 138,
   "metadata": {},
   "outputs": [
    {
     "name": "stdout",
     "output_type": "stream",
     "text": [
      "> number of unique tokens:\t1728\n"
     ]
    }
   ],
   "source": [
    "number_of_tokens = len(token_count_dictionary)\n",
    "print(\"> number of unique tokens:\\t{0}\".format(number_of_tokens))"
   ]
  },
  {
   "cell_type": "code",
   "execution_count": 140,
   "metadata": {},
   "outputs": [
    {
     "name": "stdout",
     "output_type": "stream",
     "text": [
      "> number of unique concepts including prefix:\t41\n"
     ]
    }
   ],
   "source": [
    "number_of_concepts_including_prefix = len(concept_including_prefix_count_dictionary)\n",
    "print(\"> number of unique concepts including prefix:\\t{0}\".format(number_of_concepts_including_prefix))"
   ]
  },
  {
   "cell_type": "code",
   "execution_count": 142,
   "metadata": {},
   "outputs": [
    {
     "name": "stdout",
     "output_type": "stream",
     "text": [
      "> number of unique concepts without prefix:\t24\n"
     ]
    }
   ],
   "source": [
    "number_of_concepts_without_prefix = len(concept_without_prefix_count_dictionary)\n",
    "print(\"> number of unique concepts without prefix:\\t{0}\".format(number_of_concepts_without_prefix))"
   ]
  },
  {
   "cell_type": "code",
   "execution_count": 338,
   "metadata": {},
   "outputs": [
    {
     "data": {
      "application/vnd.plotly.v1+json": {
       "data": [
        {
         "marker": {
          "color": "#9b59b6"
         },
         "orientation": "v",
         "type": "bar",
         "x": [
          "the",
          "movies",
          "movie",
          "of",
          "in",
          "what",
          "me",
          "for",
          "show",
          "find",
          "i",
          "to",
          "is",
          "who",
          "a",
          "by",
          "was",
          "produced",
          "about",
          "list",
          "did",
          "directed",
          "how",
          "want",
          "director",
          "all",
          "can",
          "from",
          "are",
          "rated",
          "on",
          "'s",
          "released",
          "that",
          "and",
          "when",
          "see",
          "please",
          "nemo",
          "rating",
          "finding",
          "with",
          "you",
          "information",
          "star",
          "search",
          "look",
          "much",
          "made",
          "will",
          "budget",
          "has",
          "up",
          "films",
          "avatar",
          "like",
          "some",
          "have",
          "wars",
          "date",
          "spielberg",
          "release",
          "r",
          "watch",
          "language",
          "revenue",
          "give",
          "tell",
          "name",
          "would",
          "pg",
          "out",
          "at",
          "genre",
          "dancing",
          "end",
          "know",
          "thirteen",
          "french",
          "cast",
          "life",
          "actor",
          "steven",
          "info",
          "g",
          "played",
          "ferrell",
          "tom",
          "does",
          "july",
          "where",
          "twenty",
          "country",
          "dirty",
          "producer",
          "details",
          "gross",
          "street",
          "house",
          "make",
          "black",
          "this",
          "need",
          "any",
          "film",
          "many",
          "get",
          "spanish",
          "which",
          "an",
          "be",
          "beautiful",
          "four",
          "japanese",
          "reviews",
          "been",
          "other",
          "it",
          "campaign",
          "writers",
          "kristen",
          "pretty",
          "produce",
          "company",
          "two",
          "names",
          "lionsgate",
          "direct",
          "crew",
          "money",
          "looper",
          "do",
          "starred",
          "more",
          "new",
          "swan",
          "cruise",
          "twilight",
          "come",
          "english",
          "robert",
          "stewart",
          "freedom",
          "avengers",
          "chinese",
          "actress",
          "wise",
          "display",
          "production",
          "were",
          "eastwood",
          "clint",
          "twelve",
          "orange",
          "brad",
          "pitt",
          "paramount",
          "actors",
          "there",
          "woman",
          "apollo",
          "alfred",
          "hitchcock",
          "take",
          "war",
          "starring",
          "titanic",
          "jennifer",
          "million",
          "warner",
          "time",
          "evil",
          "-",
          "james",
          "most",
          "best",
          "one",
          "hitch",
          "iron",
          "hanks",
          "man",
          "filmed",
          "smith"
         ],
         "y": [
          406,
          367,
          200,
          194,
          184,
          178,
          160,
          146,
          141,
          117,
          109,
          105,
          102,
          97,
          83,
          79,
          77,
          62,
          61,
          60,
          58,
          54,
          48,
          47,
          45,
          43,
          42,
          41,
          39,
          38,
          38,
          36,
          35,
          35,
          34,
          34,
          33,
          33,
          33,
          33,
          32,
          32,
          32,
          31,
          30,
          30,
          30,
          28,
          28,
          28,
          27,
          27,
          27,
          26,
          25,
          24,
          24,
          24,
          23,
          22,
          21,
          21,
          21,
          21,
          19,
          19,
          19,
          19,
          19,
          18,
          18,
          18,
          18,
          18,
          17,
          17,
          17,
          16,
          16,
          16,
          16,
          15,
          15,
          15,
          15,
          15,
          15,
          15,
          14,
          14,
          14,
          14,
          14,
          14,
          14,
          13,
          13,
          13,
          13,
          13,
          13,
          13,
          13,
          13,
          13,
          12,
          12,
          12,
          12,
          12,
          11,
          11,
          11,
          11,
          11,
          11,
          11,
          11,
          10,
          10,
          10,
          10,
          10,
          10,
          10,
          9,
          9,
          9,
          9,
          9,
          9,
          9,
          9,
          9,
          9,
          9,
          9,
          9,
          9,
          9,
          9,
          9,
          9,
          9,
          9,
          8,
          8,
          8,
          8,
          8,
          8,
          8,
          8,
          7,
          7,
          7,
          7,
          7,
          7,
          7,
          7,
          6,
          6,
          6,
          6,
          6,
          6,
          6,
          6,
          6,
          6,
          6,
          6,
          6,
          6,
          6,
          6,
          6,
          6,
          6,
          6,
          6,
          6
         ]
        }
       ],
       "layout": {
        "margin": {
         "b": 150
        },
        "title": "<b>Train tokens distribution</b>",
        "xaxis": {
         "dtick": 3,
         "title": "<b>Tokens</b>",
         "titlefont": {
          "color": "#9b59b6"
         }
        },
        "yaxis": {
         "title": "<b>Frequency</b>",
         "titlefont": {
          "color": "#9b59b6"
         }
        }
       }
      },
      "text/html": [
       "<div id=\"68a8d8b4-2207-4dc5-bde7-3327ddf04179\" style=\"height: 525px; width: 100%;\" class=\"plotly-graph-div\"></div><script type=\"text/javascript\">require([\"plotly\"], function(Plotly) { window.PLOTLYENV=window.PLOTLYENV || {};window.PLOTLYENV.BASE_URL=\"https://plot.ly\";Plotly.newPlot(\"68a8d8b4-2207-4dc5-bde7-3327ddf04179\", [{\"marker\": {\"color\": \"#9b59b6\"}, \"y\": [406, 367, 200, 194, 184, 178, 160, 146, 141, 117, 109, 105, 102, 97, 83, 79, 77, 62, 61, 60, 58, 54, 48, 47, 45, 43, 42, 41, 39, 38, 38, 36, 35, 35, 34, 34, 33, 33, 33, 33, 32, 32, 32, 31, 30, 30, 30, 28, 28, 28, 27, 27, 27, 26, 25, 24, 24, 24, 23, 22, 21, 21, 21, 21, 19, 19, 19, 19, 19, 18, 18, 18, 18, 18, 17, 17, 17, 16, 16, 16, 16, 15, 15, 15, 15, 15, 15, 15, 14, 14, 14, 14, 14, 14, 14, 13, 13, 13, 13, 13, 13, 13, 13, 13, 13, 12, 12, 12, 12, 12, 11, 11, 11, 11, 11, 11, 11, 11, 10, 10, 10, 10, 10, 10, 10, 9, 9, 9, 9, 9, 9, 9, 9, 9, 9, 9, 9, 9, 9, 9, 9, 9, 9, 9, 9, 8, 8, 8, 8, 8, 8, 8, 8, 7, 7, 7, 7, 7, 7, 7, 7, 6, 6, 6, 6, 6, 6, 6, 6, 6, 6, 6, 6, 6, 6, 6, 6, 6, 6, 6, 6, 6, 6], \"orientation\": \"v\", \"type\": \"bar\", \"x\": [\"the\", \"movies\", \"movie\", \"of\", \"in\", \"what\", \"me\", \"for\", \"show\", \"find\", \"i\", \"to\", \"is\", \"who\", \"a\", \"by\", \"was\", \"produced\", \"about\", \"list\", \"did\", \"directed\", \"how\", \"want\", \"director\", \"all\", \"can\", \"from\", \"are\", \"rated\", \"on\", \"'s\", \"released\", \"that\", \"and\", \"when\", \"see\", \"please\", \"nemo\", \"rating\", \"finding\", \"with\", \"you\", \"information\", \"star\", \"search\", \"look\", \"much\", \"made\", \"will\", \"budget\", \"has\", \"up\", \"films\", \"avatar\", \"like\", \"some\", \"have\", \"wars\", \"date\", \"spielberg\", \"release\", \"r\", \"watch\", \"language\", \"revenue\", \"give\", \"tell\", \"name\", \"would\", \"pg\", \"out\", \"at\", \"genre\", \"dancing\", \"end\", \"know\", \"thirteen\", \"french\", \"cast\", \"life\", \"actor\", \"steven\", \"info\", \"g\", \"played\", \"ferrell\", \"tom\", \"does\", \"july\", \"where\", \"twenty\", \"country\", \"dirty\", \"producer\", \"details\", \"gross\", \"street\", \"house\", \"make\", \"black\", \"this\", \"need\", \"any\", \"film\", \"many\", \"get\", \"spanish\", \"which\", \"an\", \"be\", \"beautiful\", \"four\", \"japanese\", \"reviews\", \"been\", \"other\", \"it\", \"campaign\", \"writers\", \"kristen\", \"pretty\", \"produce\", \"company\", \"two\", \"names\", \"lionsgate\", \"direct\", \"crew\", \"money\", \"looper\", \"do\", \"starred\", \"more\", \"new\", \"swan\", \"cruise\", \"twilight\", \"come\", \"english\", \"robert\", \"stewart\", \"freedom\", \"avengers\", \"chinese\", \"actress\", \"wise\", \"display\", \"production\", \"were\", \"eastwood\", \"clint\", \"twelve\", \"orange\", \"brad\", \"pitt\", \"paramount\", \"actors\", \"there\", \"woman\", \"apollo\", \"alfred\", \"hitchcock\", \"take\", \"war\", \"starring\", \"titanic\", \"jennifer\", \"million\", \"warner\", \"time\", \"evil\", \"-\", \"james\", \"most\", \"best\", \"one\", \"hitch\", \"iron\", \"hanks\", \"man\", \"filmed\", \"smith\"]}], {\"margin\": {\"b\": 150}, \"yaxis\": {\"titlefont\": {\"color\": \"#9b59b6\"}, \"title\": \"<b>Frequency</b>\"}, \"xaxis\": {\"titlefont\": {\"color\": \"#9b59b6\"}, \"dtick\": 3, \"title\": \"<b>Tokens</b>\"}, \"title\": \"<b>Train tokens distribution</b>\"}, {\"showLink\": true, \"linkText\": \"Export to plot.ly\"})});</script>"
      ],
      "text/vnd.plotly.v1+html": [
       "<div id=\"68a8d8b4-2207-4dc5-bde7-3327ddf04179\" style=\"height: 525px; width: 100%;\" class=\"plotly-graph-div\"></div><script type=\"text/javascript\">require([\"plotly\"], function(Plotly) { window.PLOTLYENV=window.PLOTLYENV || {};window.PLOTLYENV.BASE_URL=\"https://plot.ly\";Plotly.newPlot(\"68a8d8b4-2207-4dc5-bde7-3327ddf04179\", [{\"marker\": {\"color\": \"#9b59b6\"}, \"y\": [406, 367, 200, 194, 184, 178, 160, 146, 141, 117, 109, 105, 102, 97, 83, 79, 77, 62, 61, 60, 58, 54, 48, 47, 45, 43, 42, 41, 39, 38, 38, 36, 35, 35, 34, 34, 33, 33, 33, 33, 32, 32, 32, 31, 30, 30, 30, 28, 28, 28, 27, 27, 27, 26, 25, 24, 24, 24, 23, 22, 21, 21, 21, 21, 19, 19, 19, 19, 19, 18, 18, 18, 18, 18, 17, 17, 17, 16, 16, 16, 16, 15, 15, 15, 15, 15, 15, 15, 14, 14, 14, 14, 14, 14, 14, 13, 13, 13, 13, 13, 13, 13, 13, 13, 13, 12, 12, 12, 12, 12, 11, 11, 11, 11, 11, 11, 11, 11, 10, 10, 10, 10, 10, 10, 10, 9, 9, 9, 9, 9, 9, 9, 9, 9, 9, 9, 9, 9, 9, 9, 9, 9, 9, 9, 9, 8, 8, 8, 8, 8, 8, 8, 8, 7, 7, 7, 7, 7, 7, 7, 7, 6, 6, 6, 6, 6, 6, 6, 6, 6, 6, 6, 6, 6, 6, 6, 6, 6, 6, 6, 6, 6, 6], \"orientation\": \"v\", \"type\": \"bar\", \"x\": [\"the\", \"movies\", \"movie\", \"of\", \"in\", \"what\", \"me\", \"for\", \"show\", \"find\", \"i\", \"to\", \"is\", \"who\", \"a\", \"by\", \"was\", \"produced\", \"about\", \"list\", \"did\", \"directed\", \"how\", \"want\", \"director\", \"all\", \"can\", \"from\", \"are\", \"rated\", \"on\", \"'s\", \"released\", \"that\", \"and\", \"when\", \"see\", \"please\", \"nemo\", \"rating\", \"finding\", \"with\", \"you\", \"information\", \"star\", \"search\", \"look\", \"much\", \"made\", \"will\", \"budget\", \"has\", \"up\", \"films\", \"avatar\", \"like\", \"some\", \"have\", \"wars\", \"date\", \"spielberg\", \"release\", \"r\", \"watch\", \"language\", \"revenue\", \"give\", \"tell\", \"name\", \"would\", \"pg\", \"out\", \"at\", \"genre\", \"dancing\", \"end\", \"know\", \"thirteen\", \"french\", \"cast\", \"life\", \"actor\", \"steven\", \"info\", \"g\", \"played\", \"ferrell\", \"tom\", \"does\", \"july\", \"where\", \"twenty\", \"country\", \"dirty\", \"producer\", \"details\", \"gross\", \"street\", \"house\", \"make\", \"black\", \"this\", \"need\", \"any\", \"film\", \"many\", \"get\", \"spanish\", \"which\", \"an\", \"be\", \"beautiful\", \"four\", \"japanese\", \"reviews\", \"been\", \"other\", \"it\", \"campaign\", \"writers\", \"kristen\", \"pretty\", \"produce\", \"company\", \"two\", \"names\", \"lionsgate\", \"direct\", \"crew\", \"money\", \"looper\", \"do\", \"starred\", \"more\", \"new\", \"swan\", \"cruise\", \"twilight\", \"come\", \"english\", \"robert\", \"stewart\", \"freedom\", \"avengers\", \"chinese\", \"actress\", \"wise\", \"display\", \"production\", \"were\", \"eastwood\", \"clint\", \"twelve\", \"orange\", \"brad\", \"pitt\", \"paramount\", \"actors\", \"there\", \"woman\", \"apollo\", \"alfred\", \"hitchcock\", \"take\", \"war\", \"starring\", \"titanic\", \"jennifer\", \"million\", \"warner\", \"time\", \"evil\", \"-\", \"james\", \"most\", \"best\", \"one\", \"hitch\", \"iron\", \"hanks\", \"man\", \"filmed\", \"smith\"]}], {\"margin\": {\"b\": 150}, \"yaxis\": {\"titlefont\": {\"color\": \"#9b59b6\"}, \"title\": \"<b>Frequency</b>\"}, \"xaxis\": {\"titlefont\": {\"color\": \"#9b59b6\"}, \"dtick\": 3, \"title\": \"<b>Tokens</b>\"}, \"title\": \"<b>Train tokens distribution</b>\"}, {\"showLink\": true, \"linkText\": \"Export to plot.ly\"})});</script>"
      ]
     },
     "metadata": {},
     "output_type": "display_data"
    }
   ],
   "source": [
    "X_axis = []\n",
    "Y_axis = []\n",
    "sorted_dict = sorted(token_count_dictionary.items(), key=itemgetter(1), reverse=True)\n",
    "\n",
    "for token, token_count in sorted_dict:\n",
    "    if token_count > 5:\n",
    "        X_axis.append(token)\n",
    "        Y_axis.append(token_count)\n",
    "\n",
    "assert(len(X_axis) == len(Y_axis)) \n",
    "\n",
    "plotly.offline.iplot({\n",
    "    \"data\": [Bar(orientation = \"v\",\n",
    "                 x = X_axis,\n",
    "                 y = Y_axis,\n",
    "                 marker = dict(color = \"#9b59b6\"))],\n",
    "    \"layout\": Layout(title=\"<b>Train tokens distribution</b>\",\n",
    "                     xaxis=dict(title='<b>Tokens</b>', dtick=3, titlefont=dict(color='#9b59b6')),\n",
    "                     yaxis=dict(title='<b>Frequency</b>', titlefont=dict(color='#9b59b6')),\n",
    "                     margin=Margin(b=150)\n",
    "                    )\n",
    "})"
   ]
  },
  {
   "cell_type": "code",
   "execution_count": 339,
   "metadata": {},
   "outputs": [
    {
     "data": {
      "application/vnd.plotly.v1+json": {
       "data": [
        {
         "marker": {
          "color": "#9b59b6"
         },
         "orientation": "v",
         "type": "bar",
         "x": [
          "O",
          "I-movie.name",
          "B-movie.name",
          "B-actor.name",
          "I-director.name",
          "B-director.name",
          "I-actor.name",
          "B-producer.name",
          "B-movie.language",
          "B-country.name",
          "B-rating.name",
          "I-producer.name",
          "B-movie.subject",
          "I-movie.release_date",
          "B-movie.genre",
          "B-person.name",
          "I-person.name",
          "B-movie.release_date",
          "I-movie.gross_revenue",
          "I-movie.subject",
          "B-character.name",
          "I-rating.name",
          "B-award.ceremony",
          "B-movie.location",
          "I-character.name",
          "I-country.name",
          "B-movie.gross_revenue",
          "B-movie.release_region",
          "B-movie.type",
          "I-movie.location",
          "I-movie.language",
          "B-award.category",
          "I-award.category",
          "I-movie.release_region",
          "B-actor.type",
          "I-movie.genre",
          "B-actor.nationality",
          "B-movie.star_rating",
          "B-director.nationality"
         ],
         "y": [
          5135,
          557,
          473,
          80,
          78,
          78,
          77,
          73,
          69,
          62,
          61,
          48,
          44,
          42,
          36,
          34,
          32,
          28,
          15,
          15,
          15,
          8,
          7,
          7,
          6,
          5,
          5,
          4,
          4,
          4,
          3,
          2,
          2,
          2,
          2,
          1,
          1,
          1,
          1
         ]
        }
       ],
       "layout": {
        "margin": {
         "b": 200
        },
        "title": "<b>Train concepts including prefix distribution</b>",
        "xaxis": {
         "title": "<b>Concepts</b>",
         "titlefont": {
          "color": "#9b59b6"
         }
        },
        "yaxis": {
         "dtick": 1000,
         "title": "<b>Frequency</b>",
         "titlefont": {
          "color": "#9b59b6"
         }
        }
       }
      },
      "text/html": [
       "<div id=\"7fd1da8c-b129-44b8-835d-e42eb65d2e1e\" style=\"height: 525px; width: 100%;\" class=\"plotly-graph-div\"></div><script type=\"text/javascript\">require([\"plotly\"], function(Plotly) { window.PLOTLYENV=window.PLOTLYENV || {};window.PLOTLYENV.BASE_URL=\"https://plot.ly\";Plotly.newPlot(\"7fd1da8c-b129-44b8-835d-e42eb65d2e1e\", [{\"marker\": {\"color\": \"#9b59b6\"}, \"y\": [5135, 557, 473, 80, 78, 78, 77, 73, 69, 62, 61, 48, 44, 42, 36, 34, 32, 28, 15, 15, 15, 8, 7, 7, 6, 5, 5, 4, 4, 4, 3, 2, 2, 2, 2, 1, 1, 1, 1], \"orientation\": \"v\", \"type\": \"bar\", \"x\": [\"O\", \"I-movie.name\", \"B-movie.name\", \"B-actor.name\", \"I-director.name\", \"B-director.name\", \"I-actor.name\", \"B-producer.name\", \"B-movie.language\", \"B-country.name\", \"B-rating.name\", \"I-producer.name\", \"B-movie.subject\", \"I-movie.release_date\", \"B-movie.genre\", \"B-person.name\", \"I-person.name\", \"B-movie.release_date\", \"I-movie.gross_revenue\", \"I-movie.subject\", \"B-character.name\", \"I-rating.name\", \"B-award.ceremony\", \"B-movie.location\", \"I-character.name\", \"I-country.name\", \"B-movie.gross_revenue\", \"B-movie.release_region\", \"B-movie.type\", \"I-movie.location\", \"I-movie.language\", \"B-award.category\", \"I-award.category\", \"I-movie.release_region\", \"B-actor.type\", \"I-movie.genre\", \"B-actor.nationality\", \"B-movie.star_rating\", \"B-director.nationality\"]}], {\"margin\": {\"b\": 200}, \"yaxis\": {\"titlefont\": {\"color\": \"#9b59b6\"}, \"dtick\": 1000, \"title\": \"<b>Frequency</b>\"}, \"xaxis\": {\"titlefont\": {\"color\": \"#9b59b6\"}, \"title\": \"<b>Concepts</b>\"}, \"title\": \"<b>Train concepts including prefix distribution</b>\"}, {\"showLink\": true, \"linkText\": \"Export to plot.ly\"})});</script>"
      ],
      "text/vnd.plotly.v1+html": [
       "<div id=\"7fd1da8c-b129-44b8-835d-e42eb65d2e1e\" style=\"height: 525px; width: 100%;\" class=\"plotly-graph-div\"></div><script type=\"text/javascript\">require([\"plotly\"], function(Plotly) { window.PLOTLYENV=window.PLOTLYENV || {};window.PLOTLYENV.BASE_URL=\"https://plot.ly\";Plotly.newPlot(\"7fd1da8c-b129-44b8-835d-e42eb65d2e1e\", [{\"marker\": {\"color\": \"#9b59b6\"}, \"y\": [5135, 557, 473, 80, 78, 78, 77, 73, 69, 62, 61, 48, 44, 42, 36, 34, 32, 28, 15, 15, 15, 8, 7, 7, 6, 5, 5, 4, 4, 4, 3, 2, 2, 2, 2, 1, 1, 1, 1], \"orientation\": \"v\", \"type\": \"bar\", \"x\": [\"O\", \"I-movie.name\", \"B-movie.name\", \"B-actor.name\", \"I-director.name\", \"B-director.name\", \"I-actor.name\", \"B-producer.name\", \"B-movie.language\", \"B-country.name\", \"B-rating.name\", \"I-producer.name\", \"B-movie.subject\", \"I-movie.release_date\", \"B-movie.genre\", \"B-person.name\", \"I-person.name\", \"B-movie.release_date\", \"I-movie.gross_revenue\", \"I-movie.subject\", \"B-character.name\", \"I-rating.name\", \"B-award.ceremony\", \"B-movie.location\", \"I-character.name\", \"I-country.name\", \"B-movie.gross_revenue\", \"B-movie.release_region\", \"B-movie.type\", \"I-movie.location\", \"I-movie.language\", \"B-award.category\", \"I-award.category\", \"I-movie.release_region\", \"B-actor.type\", \"I-movie.genre\", \"B-actor.nationality\", \"B-movie.star_rating\", \"B-director.nationality\"]}], {\"margin\": {\"b\": 200}, \"yaxis\": {\"titlefont\": {\"color\": \"#9b59b6\"}, \"dtick\": 1000, \"title\": \"<b>Frequency</b>\"}, \"xaxis\": {\"titlefont\": {\"color\": \"#9b59b6\"}, \"title\": \"<b>Concepts</b>\"}, \"title\": \"<b>Train concepts including prefix distribution</b>\"}, {\"showLink\": true, \"linkText\": \"Export to plot.ly\"})});</script>"
      ]
     },
     "metadata": {},
     "output_type": "display_data"
    }
   ],
   "source": [
    "X_axis = []\n",
    "Y_axis = []\n",
    "sorted_dict = sorted(concept_including_prefix_count_dictionary.items(), key=itemgetter(1), reverse=True)\n",
    "\n",
    "for concept_including_prefix, concept_including_prefix_count in sorted_dict:\n",
    "    if concept_including_prefix_count > 0:\n",
    "        X_axis.append(concept_including_prefix)\n",
    "        Y_axis.append(concept_including_prefix_count)\n",
    "\n",
    "assert(len(X_axis) == len(Y_axis)) \n",
    "\n",
    "plotly.offline.iplot({\n",
    "    \"data\": [Bar(orientation = 'v',\n",
    "                 x = X_axis,\n",
    "                 y = Y_axis,\n",
    "                 marker = dict(color = \"#9b59b6\"))],\n",
    "    \"layout\": Layout(title=\"<b>Train concepts including prefix distribution</b>\", \n",
    "                     xaxis=dict(title='<b>Concepts</b>', titlefont=dict(color='#9b59b6')),\n",
    "                     yaxis=dict(title='<b>Frequency</b>', dtick = 1000, titlefont=dict(color='#9b59b6')),\n",
    "                     margin=Margin(b=200)\n",
    "                    )\n",
    "})"
   ]
  },
  {
   "cell_type": "code",
   "execution_count": 342,
   "metadata": {},
   "outputs": [
    {
     "data": {
      "application/vnd.plotly.v1+json": {
       "data": [
        {
         "marker": {
          "color": "#9b59b6"
         },
         "orientation": "v",
         "type": "bar",
         "x": [
          "O",
          "movie.name",
          "actor.name",
          "director.name",
          "producer.name",
          "movie.language",
          "movie.release_date",
          "rating.name",
          "country.name",
          "person.name",
          "movie.subject",
          "movie.genre",
          "character.name",
          "movie.gross_revenue",
          "movie.location",
          "award.ceremony",
          "movie.release_region",
          "award.category",
          "movie.type",
          "actor.type",
          "actor.nationality",
          "movie.star_rating",
          "director.nationality"
         ],
         "y": [
          5135,
          1030,
          157,
          156,
          121,
          72,
          70,
          69,
          67,
          66,
          59,
          37,
          21,
          20,
          11,
          7,
          6,
          4,
          4,
          2,
          1,
          1,
          1
         ]
        }
       ],
       "layout": {
        "margin": {
         "b": 150
        },
        "title": "<b>Train concepts without prefix distribution</b>",
        "xaxis": {
         "tickangle": 90,
         "title": "<b>Concepts</b>",
         "titlefont": {
          "color": "#9b59b6"
         }
        },
        "yaxis": {
         "dtick": 1000,
         "title": "<b>Frequency</b>",
         "titlefont": {
          "color": "#9b59b6"
         }
        }
       }
      },
      "text/html": [
       "<div id=\"ee3a3154-4153-4e0d-ac25-84a362b76b6d\" style=\"height: 525px; width: 100%;\" class=\"plotly-graph-div\"></div><script type=\"text/javascript\">require([\"plotly\"], function(Plotly) { window.PLOTLYENV=window.PLOTLYENV || {};window.PLOTLYENV.BASE_URL=\"https://plot.ly\";Plotly.newPlot(\"ee3a3154-4153-4e0d-ac25-84a362b76b6d\", [{\"marker\": {\"color\": \"#9b59b6\"}, \"y\": [5135, 1030, 157, 156, 121, 72, 70, 69, 67, 66, 59, 37, 21, 20, 11, 7, 6, 4, 4, 2, 1, 1, 1], \"orientation\": \"v\", \"type\": \"bar\", \"x\": [\"O\", \"movie.name\", \"actor.name\", \"director.name\", \"producer.name\", \"movie.language\", \"movie.release_date\", \"rating.name\", \"country.name\", \"person.name\", \"movie.subject\", \"movie.genre\", \"character.name\", \"movie.gross_revenue\", \"movie.location\", \"award.ceremony\", \"movie.release_region\", \"award.category\", \"movie.type\", \"actor.type\", \"actor.nationality\", \"movie.star_rating\", \"director.nationality\"]}], {\"margin\": {\"b\": 150}, \"yaxis\": {\"titlefont\": {\"color\": \"#9b59b6\"}, \"dtick\": 1000, \"title\": \"<b>Frequency</b>\"}, \"xaxis\": {\"tickangle\": 90, \"titlefont\": {\"color\": \"#9b59b6\"}, \"title\": \"<b>Concepts</b>\"}, \"title\": \"<b>Train concepts without prefix distribution</b>\"}, {\"showLink\": true, \"linkText\": \"Export to plot.ly\"})});</script>"
      ],
      "text/vnd.plotly.v1+html": [
       "<div id=\"ee3a3154-4153-4e0d-ac25-84a362b76b6d\" style=\"height: 525px; width: 100%;\" class=\"plotly-graph-div\"></div><script type=\"text/javascript\">require([\"plotly\"], function(Plotly) { window.PLOTLYENV=window.PLOTLYENV || {};window.PLOTLYENV.BASE_URL=\"https://plot.ly\";Plotly.newPlot(\"ee3a3154-4153-4e0d-ac25-84a362b76b6d\", [{\"marker\": {\"color\": \"#9b59b6\"}, \"y\": [5135, 1030, 157, 156, 121, 72, 70, 69, 67, 66, 59, 37, 21, 20, 11, 7, 6, 4, 4, 2, 1, 1, 1], \"orientation\": \"v\", \"type\": \"bar\", \"x\": [\"O\", \"movie.name\", \"actor.name\", \"director.name\", \"producer.name\", \"movie.language\", \"movie.release_date\", \"rating.name\", \"country.name\", \"person.name\", \"movie.subject\", \"movie.genre\", \"character.name\", \"movie.gross_revenue\", \"movie.location\", \"award.ceremony\", \"movie.release_region\", \"award.category\", \"movie.type\", \"actor.type\", \"actor.nationality\", \"movie.star_rating\", \"director.nationality\"]}], {\"margin\": {\"b\": 150}, \"yaxis\": {\"titlefont\": {\"color\": \"#9b59b6\"}, \"dtick\": 1000, \"title\": \"<b>Frequency</b>\"}, \"xaxis\": {\"tickangle\": 90, \"titlefont\": {\"color\": \"#9b59b6\"}, \"title\": \"<b>Concepts</b>\"}, \"title\": \"<b>Train concepts without prefix distribution</b>\"}, {\"showLink\": true, \"linkText\": \"Export to plot.ly\"})});</script>"
      ]
     },
     "metadata": {},
     "output_type": "display_data"
    }
   ],
   "source": [
    "X_axis = []\n",
    "Y_axis = []\n",
    "sorted_dict = sorted(concept_without_prefix_count_dictionary.items(), key=itemgetter(1), reverse=True)\n",
    "\n",
    "for concept_without_prefix, concept_without_prefix_count in sorted_dict:\n",
    "    if concept_without_prefix_count > 0:\n",
    "        X_axis.append(concept_without_prefix)\n",
    "        Y_axis.append(concept_without_prefix_count)\n",
    "\n",
    "assert(len(X_axis) == len(Y_axis)) \n",
    "\n",
    "plotly.offline.iplot({\n",
    "    \"data\": [Bar(orientation = 'v',\n",
    "                 x = X_axis,\n",
    "                 y = Y_axis,\n",
    "                 marker = dict(color = \"#9b59b6\"))],\n",
    "    \"layout\": Layout(title=\"<b>Train concepts without prefix distribution</b>\", \n",
    "                     xaxis=dict(title='<b>Concepts</b>', tickangle=90, titlefont=dict(color='#9b59b6')),\n",
    "                     yaxis=dict(title='<b>Frequency</b>', dtick = 1000, titlefont=dict(color='#9b59b6')),\n",
    "                     margin=Margin(b=150)\n",
    "                    )\n",
    "})"
   ]
  },
  {
   "cell_type": "markdown",
   "metadata": {},
   "source": [
    "### Train with features file analysis"
   ]
  },
  {
   "cell_type": "code",
   "execution_count": 260,
   "metadata": {},
   "outputs": [],
   "source": [
    "train_file = open(TRAIN_FEATS_FILE, \"r\", encoding=\"utf8\")\n",
    "\n",
    "token_count_dictionary = {}\n",
    "pos_count_dictionary = {}\n",
    "lemma_count_dictionary = {}\n",
    "sentences_count = 0\n",
    "train_file_lines = []\n",
    "\n",
    "for line in train_file:\n",
    "    line = line.replace(\"\\n\", \"\")\n",
    "    train_file_lines.append(line)\n",
    "    \n",
    "    if len(line) == 0: #check if end of sentence\n",
    "        sentences_count += 1\n",
    "        continue\n",
    "    \n",
    "    line_split = line.split(\"\\t\")\n",
    "    assert(len(line_split) == 3)\n",
    "    \n",
    "    token = line_split[0]\n",
    "    pos = line_split[1]\n",
    "    lemma = line_split[2]\n",
    "    \n",
    "    if token not in token_count_dictionary:\n",
    "        token_count_dictionary[token] = 1\n",
    "    else:\n",
    "        token_count_dictionary[token] += 1\n",
    "        \n",
    "    if pos not in pos_count_dictionary:\n",
    "        pos_count_dictionary[pos] = 1\n",
    "    else:\n",
    "        pos_count_dictionary[pos] += 1\n",
    "        \n",
    "    if lemma not in lemma_count_dictionary:\n",
    "        lemma_count_dictionary[lemma] = 1\n",
    "    else:\n",
    "        lemma_count_dictionary[lemma] += 1\n",
    "    \n",
    "train_file.close()"
   ]
  },
  {
   "cell_type": "code",
   "execution_count": 261,
   "metadata": {},
   "outputs": [
    {
     "name": "stdout",
     "output_type": "stream",
     "text": [
      "> length of the train file:\t24791\n"
     ]
    }
   ],
   "source": [
    "train_file_length = len(train_file_lines)\n",
    "print(\"> length of the train file:\\t{0}\".format(train_file_length))"
   ]
  },
  {
   "cell_type": "code",
   "execution_count": 262,
   "metadata": {},
   "outputs": [
    {
     "name": "stdout",
     "output_type": "stream",
     "text": [
      "> number of sentences:\t3338\n"
     ]
    }
   ],
   "source": [
    "print(\"> number of sentences:\\t{0}\".format(sentences_count))"
   ]
  },
  {
   "cell_type": "code",
   "execution_count": 263,
   "metadata": {},
   "outputs": [
    {
     "name": "stdout",
     "output_type": "stream",
     "text": [
      "> number of tokens:\t21453\n"
     ]
    }
   ],
   "source": [
    "total_number_of_tokens = 0\n",
    "for token_count in token_count_dictionary.values():\n",
    "    total_number_of_tokens += token_count\n",
    "print(\"> number of tokens:\\t{0}\".format(total_number_of_tokens))    "
   ]
  },
  {
   "cell_type": "code",
   "execution_count": 264,
   "metadata": {},
   "outputs": [
    {
     "name": "stdout",
     "output_type": "stream",
     "text": [
      "> number of unique tokens:\t1728\n"
     ]
    }
   ],
   "source": [
    "number_of_tokens = len(token_count_dictionary)\n",
    "print(\"> number of unique tokens:\\t{0}\".format(number_of_tokens))"
   ]
  },
  {
   "cell_type": "code",
   "execution_count": 265,
   "metadata": {},
   "outputs": [
    {
     "name": "stdout",
     "output_type": "stream",
     "text": [
      "> number of unique pos:\t49\n"
     ]
    }
   ],
   "source": [
    "number_of_pos = len(pos_count_dictionary)\n",
    "print(\"> number of unique pos:\\t{0}\".format(number_of_pos))"
   ]
  },
  {
   "cell_type": "code",
   "execution_count": 266,
   "metadata": {},
   "outputs": [
    {
     "name": "stdout",
     "output_type": "stream",
     "text": [
      "> number of unique lemmas:\t1582\n"
     ]
    }
   ],
   "source": [
    "number_of_lemma = len(lemma_count_dictionary)\n",
    "print(\"> number of unique lemmas:\\t{0}\".format(number_of_lemma))"
   ]
  },
  {
   "cell_type": "code",
   "execution_count": 343,
   "metadata": {
    "scrolled": false
   },
   "outputs": [
    {
     "data": {
      "application/vnd.plotly.v1+json": {
       "data": [
        {
         "marker": {
          "color": "#9b59b6"
         },
         "orientation": "v",
         "type": "bar",
         "x": [
          "NN",
          "IN",
          "NNS",
          "DT",
          "VV",
          "JJ",
          "WP",
          "PP",
          "VVN",
          "VVD",
          "VBZ",
          "WRB",
          "TO",
          "VVP",
          "VBD",
          "RB",
          "MD",
          "CD",
          "NP",
          "VVG",
          "VBP",
          "WDT",
          "VVZ",
          "RP",
          "POS",
          "CC",
          "VHZ",
          "VHP",
          "UH",
          "JJR",
          "VB",
          "PP$",
          "JJS",
          "VBN",
          "PDT",
          "IN/that",
          ":",
          "FW",
          "SYM",
          "RBS",
          "SENT",
          "VHD",
          "EX",
          "RBR",
          "VHG",
          "''",
          "WP$",
          "LS",
          "VH"
         ],
         "y": [
          5796,
          2502,
          2322,
          1871,
          1472,
          1140,
          847,
          721,
          576,
          510,
          344,
          297,
          271,
          268,
          261,
          259,
          254,
          251,
          235,
          181,
          177,
          124,
          98,
          83,
          82,
          78,
          78,
          60,
          47,
          35,
          33,
          31,
          29,
          25,
          21,
          17,
          12,
          12,
          10,
          8,
          3,
          2,
          2,
          2,
          2,
          1,
          1,
          1,
          1
         ]
        }
       ],
       "layout": {
        "margin": {
         "b": 150
        },
        "title": "<b>Train feats pos distribution</b>",
        "xaxis": {
         "title": "<b>POS-tag</b>",
         "titlefont": {
          "color": "#9b59b6"
         }
        },
        "yaxis": {
         "dtick": 500,
         "title": "<b>Frequency</b>",
         "titlefont": {
          "color": "#9b59b6"
         }
        }
       }
      },
      "text/html": [
       "<div id=\"5311a7a6-287a-46de-aab9-7bfa023f8e57\" style=\"height: 525px; width: 100%;\" class=\"plotly-graph-div\"></div><script type=\"text/javascript\">require([\"plotly\"], function(Plotly) { window.PLOTLYENV=window.PLOTLYENV || {};window.PLOTLYENV.BASE_URL=\"https://plot.ly\";Plotly.newPlot(\"5311a7a6-287a-46de-aab9-7bfa023f8e57\", [{\"marker\": {\"color\": \"#9b59b6\"}, \"y\": [5796, 2502, 2322, 1871, 1472, 1140, 847, 721, 576, 510, 344, 297, 271, 268, 261, 259, 254, 251, 235, 181, 177, 124, 98, 83, 82, 78, 78, 60, 47, 35, 33, 31, 29, 25, 21, 17, 12, 12, 10, 8, 3, 2, 2, 2, 2, 1, 1, 1, 1], \"orientation\": \"v\", \"type\": \"bar\", \"x\": [\"NN\", \"IN\", \"NNS\", \"DT\", \"VV\", \"JJ\", \"WP\", \"PP\", \"VVN\", \"VVD\", \"VBZ\", \"WRB\", \"TO\", \"VVP\", \"VBD\", \"RB\", \"MD\", \"CD\", \"NP\", \"VVG\", \"VBP\", \"WDT\", \"VVZ\", \"RP\", \"POS\", \"CC\", \"VHZ\", \"VHP\", \"UH\", \"JJR\", \"VB\", \"PP$\", \"JJS\", \"VBN\", \"PDT\", \"IN/that\", \":\", \"FW\", \"SYM\", \"RBS\", \"SENT\", \"VHD\", \"EX\", \"RBR\", \"VHG\", \"''\", \"WP$\", \"LS\", \"VH\"]}], {\"margin\": {\"b\": 150}, \"yaxis\": {\"titlefont\": {\"color\": \"#9b59b6\"}, \"dtick\": 500, \"title\": \"<b>Frequency</b>\"}, \"xaxis\": {\"titlefont\": {\"color\": \"#9b59b6\"}, \"title\": \"<b>POS-tag</b>\"}, \"title\": \"<b>Train feats pos distribution</b>\"}, {\"showLink\": true, \"linkText\": \"Export to plot.ly\"})});</script>"
      ],
      "text/vnd.plotly.v1+html": [
       "<div id=\"5311a7a6-287a-46de-aab9-7bfa023f8e57\" style=\"height: 525px; width: 100%;\" class=\"plotly-graph-div\"></div><script type=\"text/javascript\">require([\"plotly\"], function(Plotly) { window.PLOTLYENV=window.PLOTLYENV || {};window.PLOTLYENV.BASE_URL=\"https://plot.ly\";Plotly.newPlot(\"5311a7a6-287a-46de-aab9-7bfa023f8e57\", [{\"marker\": {\"color\": \"#9b59b6\"}, \"y\": [5796, 2502, 2322, 1871, 1472, 1140, 847, 721, 576, 510, 344, 297, 271, 268, 261, 259, 254, 251, 235, 181, 177, 124, 98, 83, 82, 78, 78, 60, 47, 35, 33, 31, 29, 25, 21, 17, 12, 12, 10, 8, 3, 2, 2, 2, 2, 1, 1, 1, 1], \"orientation\": \"v\", \"type\": \"bar\", \"x\": [\"NN\", \"IN\", \"NNS\", \"DT\", \"VV\", \"JJ\", \"WP\", \"PP\", \"VVN\", \"VVD\", \"VBZ\", \"WRB\", \"TO\", \"VVP\", \"VBD\", \"RB\", \"MD\", \"CD\", \"NP\", \"VVG\", \"VBP\", \"WDT\", \"VVZ\", \"RP\", \"POS\", \"CC\", \"VHZ\", \"VHP\", \"UH\", \"JJR\", \"VB\", \"PP$\", \"JJS\", \"VBN\", \"PDT\", \"IN/that\", \":\", \"FW\", \"SYM\", \"RBS\", \"SENT\", \"VHD\", \"EX\", \"RBR\", \"VHG\", \"''\", \"WP$\", \"LS\", \"VH\"]}], {\"margin\": {\"b\": 150}, \"yaxis\": {\"titlefont\": {\"color\": \"#9b59b6\"}, \"dtick\": 500, \"title\": \"<b>Frequency</b>\"}, \"xaxis\": {\"titlefont\": {\"color\": \"#9b59b6\"}, \"title\": \"<b>POS-tag</b>\"}, \"title\": \"<b>Train feats pos distribution</b>\"}, {\"showLink\": true, \"linkText\": \"Export to plot.ly\"})});</script>"
      ]
     },
     "metadata": {},
     "output_type": "display_data"
    }
   ],
   "source": [
    "X_axis = []\n",
    "Y_axis = []\n",
    "sorted_dict = sorted(pos_count_dictionary.items(), key=itemgetter(1), reverse=True)\n",
    "\n",
    "for pos, pos_count in sorted_dict:\n",
    "    if pos_count > 0:\n",
    "        X_axis.append(pos)\n",
    "        Y_axis.append(pos_count)\n",
    "\n",
    "assert(len(X_axis) == len(Y_axis)) \n",
    "\n",
    "plotly.offline.iplot({\n",
    "    \"data\": [Bar(orientation = \"v\",\n",
    "                 x = X_axis,\n",
    "                 y = Y_axis,\n",
    "                 marker = dict(color = \"#9b59b6\"))],\n",
    "    \"layout\": Layout(title=\"<b>Train feats pos distribution</b>\", \n",
    "                     xaxis=dict(title='<b>POS-tag</b>', titlefont=dict(color='#9b59b6')),\n",
    "                     yaxis=dict(title='<b>Frequency</b>', dtick = 500, titlefont=dict(color='#9b59b6')),\n",
    "                     margin=Margin(b=150)\n",
    "                    )\n",
    "})"
   ]
  },
  {
   "cell_type": "code",
   "execution_count": 346,
   "metadata": {},
   "outputs": [
    {
     "data": {
      "application/vnd.plotly.v1+json": {
       "data": [
        {
         "marker": {
          "color": "#9b59b6"
         },
         "orientation": "v",
         "type": "bar",
         "x": [
          "movie",
          "the",
          "be",
          "of",
          "in",
          "what",
          "me",
          "show",
          "for",
          "find",
          "who",
          "i",
          "to",
          "do",
          "a",
          "by",
          "list",
          "about",
          "direct",
          "produce",
          "film",
          "make",
          "how",
          "release",
          "have",
          "director",
          "all",
          "with",
          "star",
          "can",
          "want",
          "rating",
          "search",
          "you",
          "information",
          "will",
          "rate",
          "from",
          "on",
          "see",
          "when",
          "that",
          "look",
          "name",
          "'s",
          "actor",
          "much",
          "budget",
          "like",
          "some",
          "nemo",
          "language",
          "producer",
          "revenue",
          "please",
          "and",
          "spielberg",
          "avatar",
          "war",
          "pg",
          "would",
          "play",
          "get",
          "up",
          "date",
          "life",
          "know",
          "info",
          "tom",
          "this",
          "r",
          "twenty",
          "cast",
          "country",
          "dancing",
          "steven",
          "tell",
          "beautiful",
          "which",
          "dirty",
          "house",
          "give",
          "ferrell",
          "genre",
          "watch",
          "out",
          "need",
          "at",
          "street",
          "where",
          "g",
          "Spanish",
          "French",
          "come",
          "many",
          "end",
          "hitch",
          "black",
          "thirteen",
          "any",
          "campaign",
          "company",
          "go",
          "zombie",
          "review",
          "detail",
          "more",
          "crew",
          "pitt",
          "@card@",
          "july",
          "brad",
          "gross",
          "swan",
          "lionsgate",
          "hank",
          "hitchcock",
          "new",
          "twelve",
          "display",
          "cruise",
          "man",
          "four",
          "year",
          "it",
          "there",
          "cost",
          "avenger",
          "money",
          "only",
          "time",
          "titanic",
          "wind",
          "page",
          "robert",
          "comedy"
         ],
         "y": [
          1690,
          1337,
          840,
          607,
          582,
          545,
          539,
          503,
          472,
          392,
          303,
          295,
          271,
          242,
          236,
          221,
          214,
          208,
          201,
          193,
          160,
          156,
          152,
          151,
          143,
          138,
          137,
          125,
          121,
          121,
          120,
          114,
          114,
          113,
          109,
          105,
          103,
          101,
          100,
          97,
          97,
          95,
          94,
          87,
          82,
          82,
          79,
          79,
          78,
          78,
          78,
          72,
          70,
          69,
          69,
          68,
          68,
          67,
          65,
          65,
          62,
          61,
          60,
          58,
          57,
          57,
          57,
          53,
          53,
          53,
          52,
          50,
          49,
          49,
          49,
          49,
          49,
          48,
          47,
          47,
          47,
          47,
          47,
          46,
          46,
          45,
          44,
          44,
          44,
          44,
          44,
          44,
          43,
          42,
          41,
          41,
          40,
          38,
          37,
          37,
          37,
          36,
          36,
          36,
          33,
          32,
          31,
          30,
          29,
          29,
          29,
          29,
          28,
          28,
          27,
          27,
          27,
          27,
          27,
          26,
          26,
          26,
          25,
          24,
          24,
          24,
          23,
          23,
          23,
          23,
          22,
          22,
          22,
          22,
          22,
          21
         ]
        }
       ],
       "layout": {
        "margin": {
         "b": 150
        },
        "title": "<b>Train feats lemma distribution</b>",
        "xaxis": {
         "dtick": 3,
         "title": "<b>Lemma</b>",
         "titlefont": {
          "color": "#9b59b6"
         }
        },
        "yaxis": {
         "dtick": 100,
         "title": "<b>Frequency</b>",
         "titlefont": {
          "color": "#9b59b6"
         }
        }
       }
      },
      "text/html": [
       "<div id=\"86076538-1965-44f4-a614-62c45c51ef8f\" style=\"height: 525px; width: 100%;\" class=\"plotly-graph-div\"></div><script type=\"text/javascript\">require([\"plotly\"], function(Plotly) { window.PLOTLYENV=window.PLOTLYENV || {};window.PLOTLYENV.BASE_URL=\"https://plot.ly\";Plotly.newPlot(\"86076538-1965-44f4-a614-62c45c51ef8f\", [{\"marker\": {\"color\": \"#9b59b6\"}, \"y\": [1690, 1337, 840, 607, 582, 545, 539, 503, 472, 392, 303, 295, 271, 242, 236, 221, 214, 208, 201, 193, 160, 156, 152, 151, 143, 138, 137, 125, 121, 121, 120, 114, 114, 113, 109, 105, 103, 101, 100, 97, 97, 95, 94, 87, 82, 82, 79, 79, 78, 78, 78, 72, 70, 69, 69, 68, 68, 67, 65, 65, 62, 61, 60, 58, 57, 57, 57, 53, 53, 53, 52, 50, 49, 49, 49, 49, 49, 48, 47, 47, 47, 47, 47, 46, 46, 45, 44, 44, 44, 44, 44, 44, 43, 42, 41, 41, 40, 38, 37, 37, 37, 36, 36, 36, 33, 32, 31, 30, 29, 29, 29, 29, 28, 28, 27, 27, 27, 27, 27, 26, 26, 26, 25, 24, 24, 24, 23, 23, 23, 23, 22, 22, 22, 22, 22, 21], \"orientation\": \"v\", \"type\": \"bar\", \"x\": [\"movie\", \"the\", \"be\", \"of\", \"in\", \"what\", \"me\", \"show\", \"for\", \"find\", \"who\", \"i\", \"to\", \"do\", \"a\", \"by\", \"list\", \"about\", \"direct\", \"produce\", \"film\", \"make\", \"how\", \"release\", \"have\", \"director\", \"all\", \"with\", \"star\", \"can\", \"want\", \"rating\", \"search\", \"you\", \"information\", \"will\", \"rate\", \"from\", \"on\", \"see\", \"when\", \"that\", \"look\", \"name\", \"'s\", \"actor\", \"much\", \"budget\", \"like\", \"some\", \"nemo\", \"language\", \"producer\", \"revenue\", \"please\", \"and\", \"spielberg\", \"avatar\", \"war\", \"pg\", \"would\", \"play\", \"get\", \"up\", \"date\", \"life\", \"know\", \"info\", \"tom\", \"this\", \"r\", \"twenty\", \"cast\", \"country\", \"dancing\", \"steven\", \"tell\", \"beautiful\", \"which\", \"dirty\", \"house\", \"give\", \"ferrell\", \"genre\", \"watch\", \"out\", \"need\", \"at\", \"street\", \"where\", \"g\", \"Spanish\", \"French\", \"come\", \"many\", \"end\", \"hitch\", \"black\", \"thirteen\", \"any\", \"campaign\", \"company\", \"go\", \"zombie\", \"review\", \"detail\", \"more\", \"crew\", \"pitt\", \"@card@\", \"july\", \"brad\", \"gross\", \"swan\", \"lionsgate\", \"hank\", \"hitchcock\", \"new\", \"twelve\", \"display\", \"cruise\", \"man\", \"four\", \"year\", \"it\", \"there\", \"cost\", \"avenger\", \"money\", \"only\", \"time\", \"titanic\", \"wind\", \"page\", \"robert\", \"comedy\"]}], {\"margin\": {\"b\": 150}, \"yaxis\": {\"titlefont\": {\"color\": \"#9b59b6\"}, \"dtick\": 100, \"title\": \"<b>Frequency</b>\"}, \"xaxis\": {\"titlefont\": {\"color\": \"#9b59b6\"}, \"dtick\": 3, \"title\": \"<b>Lemma</b>\"}, \"title\": \"<b>Train feats lemma distribution</b>\"}, {\"showLink\": true, \"linkText\": \"Export to plot.ly\"})});</script>"
      ],
      "text/vnd.plotly.v1+html": [
       "<div id=\"86076538-1965-44f4-a614-62c45c51ef8f\" style=\"height: 525px; width: 100%;\" class=\"plotly-graph-div\"></div><script type=\"text/javascript\">require([\"plotly\"], function(Plotly) { window.PLOTLYENV=window.PLOTLYENV || {};window.PLOTLYENV.BASE_URL=\"https://plot.ly\";Plotly.newPlot(\"86076538-1965-44f4-a614-62c45c51ef8f\", [{\"marker\": {\"color\": \"#9b59b6\"}, \"y\": [1690, 1337, 840, 607, 582, 545, 539, 503, 472, 392, 303, 295, 271, 242, 236, 221, 214, 208, 201, 193, 160, 156, 152, 151, 143, 138, 137, 125, 121, 121, 120, 114, 114, 113, 109, 105, 103, 101, 100, 97, 97, 95, 94, 87, 82, 82, 79, 79, 78, 78, 78, 72, 70, 69, 69, 68, 68, 67, 65, 65, 62, 61, 60, 58, 57, 57, 57, 53, 53, 53, 52, 50, 49, 49, 49, 49, 49, 48, 47, 47, 47, 47, 47, 46, 46, 45, 44, 44, 44, 44, 44, 44, 43, 42, 41, 41, 40, 38, 37, 37, 37, 36, 36, 36, 33, 32, 31, 30, 29, 29, 29, 29, 28, 28, 27, 27, 27, 27, 27, 26, 26, 26, 25, 24, 24, 24, 23, 23, 23, 23, 22, 22, 22, 22, 22, 21], \"orientation\": \"v\", \"type\": \"bar\", \"x\": [\"movie\", \"the\", \"be\", \"of\", \"in\", \"what\", \"me\", \"show\", \"for\", \"find\", \"who\", \"i\", \"to\", \"do\", \"a\", \"by\", \"list\", \"about\", \"direct\", \"produce\", \"film\", \"make\", \"how\", \"release\", \"have\", \"director\", \"all\", \"with\", \"star\", \"can\", \"want\", \"rating\", \"search\", \"you\", \"information\", \"will\", \"rate\", \"from\", \"on\", \"see\", \"when\", \"that\", \"look\", \"name\", \"'s\", \"actor\", \"much\", \"budget\", \"like\", \"some\", \"nemo\", \"language\", \"producer\", \"revenue\", \"please\", \"and\", \"spielberg\", \"avatar\", \"war\", \"pg\", \"would\", \"play\", \"get\", \"up\", \"date\", \"life\", \"know\", \"info\", \"tom\", \"this\", \"r\", \"twenty\", \"cast\", \"country\", \"dancing\", \"steven\", \"tell\", \"beautiful\", \"which\", \"dirty\", \"house\", \"give\", \"ferrell\", \"genre\", \"watch\", \"out\", \"need\", \"at\", \"street\", \"where\", \"g\", \"Spanish\", \"French\", \"come\", \"many\", \"end\", \"hitch\", \"black\", \"thirteen\", \"any\", \"campaign\", \"company\", \"go\", \"zombie\", \"review\", \"detail\", \"more\", \"crew\", \"pitt\", \"@card@\", \"july\", \"brad\", \"gross\", \"swan\", \"lionsgate\", \"hank\", \"hitchcock\", \"new\", \"twelve\", \"display\", \"cruise\", \"man\", \"four\", \"year\", \"it\", \"there\", \"cost\", \"avenger\", \"money\", \"only\", \"time\", \"titanic\", \"wind\", \"page\", \"robert\", \"comedy\"]}], {\"margin\": {\"b\": 150}, \"yaxis\": {\"titlefont\": {\"color\": \"#9b59b6\"}, \"dtick\": 100, \"title\": \"<b>Frequency</b>\"}, \"xaxis\": {\"titlefont\": {\"color\": \"#9b59b6\"}, \"dtick\": 3, \"title\": \"<b>Lemma</b>\"}, \"title\": \"<b>Train feats lemma distribution</b>\"}, {\"showLink\": true, \"linkText\": \"Export to plot.ly\"})});</script>"
      ]
     },
     "metadata": {},
     "output_type": "display_data"
    }
   ],
   "source": [
    "X_axis = []\n",
    "Y_axis = []\n",
    "sorted_dict = sorted(lemma_count_dictionary.items(), key=itemgetter(1), reverse=True)\n",
    "\n",
    "for lemma, lemma_count in sorted_dict:\n",
    "    if lemma_count > 20:\n",
    "        X_axis.append(lemma)\n",
    "        Y_axis.append(lemma_count)\n",
    "\n",
    "assert(len(X_axis) == len(Y_axis)) \n",
    "\n",
    "plotly.offline.iplot({\n",
    "    \"data\": [Bar(orientation = \"v\",\n",
    "                 x = X_axis,\n",
    "                 y = Y_axis,\n",
    "                 marker = dict(color = \"#9b59b6\"))],\n",
    "    \"layout\": Layout(title=\"<b>Train feats lemma distribution</b>\",\n",
    "                     xaxis=dict(title='<b>Lemma</b>', dtick=3, titlefont=dict(color='#9b59b6')),\n",
    "                     yaxis=dict(title='<b>Frequency</b>', dtick=100, titlefont=dict(color='#9b59b6')),\n",
    "                     margin=Margin(b=150)\n",
    "                    )\n",
    "})"
   ]
  },
  {
   "cell_type": "markdown",
   "metadata": {},
   "source": [
    "### Test file analysis"
   ]
  },
  {
   "cell_type": "code",
   "execution_count": 357,
   "metadata": {},
   "outputs": [],
   "source": [
    "test_file = open(TEST_FILE, \"r\", encoding=\"utf8\")\n",
    "\n",
    "token_count_dictionary = {}\n",
    "concept_including_prefix_count_dictionary = {}\n",
    "concept_without_prefix_count_dictionary = {}\n",
    "sentences_count = 0\n",
    "test_file_lines = []\n",
    "\n",
    "for line in test_file:\n",
    "    line = line.replace(\"\\n\", \"\")\n",
    "    test_file_lines.append(line)\n",
    "    \n",
    "    if len(line) == 0: #check if end of sentence\n",
    "        sentences_count += 1\n",
    "        continue\n",
    "    \n",
    "    line_split = line.split(\"\\t\")\n",
    "    assert(len(line_split) == 2)\n",
    "    \n",
    "    token = line_split[0]\n",
    "    concept_including_prefix = line_split[1]\n",
    "    concept_without_prefix = \"X\"\n",
    "    \n",
    "    if concept_including_prefix.startswith(\"B\") or\\\n",
    "       concept_including_prefix.startswith(\"I\") or\\\n",
    "       concept_including_prefix.startswith(\"E\"):\n",
    "        concept_without_prefix = concept_including_prefix[2:]\n",
    "    else:\n",
    "        concept_without_prefix = concept_including_prefix\n",
    "    assert(concept_without_prefix != \"X\")\n",
    "    \n",
    "    if token not in token_count_dictionary:\n",
    "        token_count_dictionary[token] = 1\n",
    "    else:\n",
    "        token_count_dictionary[token] += 1\n",
    "        \n",
    "    if concept_including_prefix not in concept_including_prefix_count_dictionary:\n",
    "        concept_including_prefix_count_dictionary[concept_including_prefix] = 1\n",
    "    else:\n",
    "        concept_including_prefix_count_dictionary[concept_including_prefix] += 1\n",
    "    \n",
    "    if concept_without_prefix not in concept_without_prefix_count_dictionary:\n",
    "        concept_without_prefix_count_dictionary[concept_without_prefix] = 1\n",
    "    else:\n",
    "        concept_without_prefix_count_dictionary[concept_without_prefix] += 1        \n",
    "\n",
    "test_file.close() "
   ]
  },
  {
   "cell_type": "code",
   "execution_count": 358,
   "metadata": {},
   "outputs": [
    {
     "name": "stdout",
     "output_type": "stream",
     "text": [
      "> length of the test file:\t8201\n"
     ]
    }
   ],
   "source": [
    "test_file_length = len(test_file_lines)\n",
    "print(\"> length of the test file:\\t{0}\".format(test_file_length))"
   ]
  },
  {
   "cell_type": "code",
   "execution_count": 359,
   "metadata": {},
   "outputs": [
    {
     "name": "stdout",
     "output_type": "stream",
     "text": [
      "> number of sentences:\t1084\n"
     ]
    }
   ],
   "source": [
    "print(\"> number of sentences:\\t{0}\".format(sentences_count))"
   ]
  },
  {
   "cell_type": "code",
   "execution_count": 360,
   "metadata": {},
   "outputs": [
    {
     "name": "stdout",
     "output_type": "stream",
     "text": [
      "> number of tokens:\t7117\n"
     ]
    }
   ],
   "source": [
    "total_number_of_tokens = 0\n",
    "for token_count in token_count_dictionary.values():\n",
    "    total_number_of_tokens += token_count\n",
    "print(\"> number of tokens:\\t{0}\".format(total_number_of_tokens))  "
   ]
  },
  {
   "cell_type": "code",
   "execution_count": 361,
   "metadata": {},
   "outputs": [
    {
     "name": "stdout",
     "output_type": "stream",
     "text": [
      "> number of unique tokens:\t1039\n"
     ]
    }
   ],
   "source": [
    "number_of_tokens = len(token_count_dictionary)\n",
    "print(\"> number of unique tokens:\\t{0}\".format(number_of_tokens))"
   ]
  },
  {
   "cell_type": "code",
   "execution_count": 362,
   "metadata": {},
   "outputs": [
    {
     "name": "stdout",
     "output_type": "stream",
     "text": [
      "> number of unique concepts including prefix:\t39\n"
     ]
    }
   ],
   "source": [
    "number_of_concepts_including_prefix = len(concept_including_prefix_count_dictionary)\n",
    "print(\"> number of unique concepts including prefix:\\t{0}\".format(number_of_concepts_including_prefix))"
   ]
  },
  {
   "cell_type": "code",
   "execution_count": 363,
   "metadata": {},
   "outputs": [
    {
     "name": "stdout",
     "output_type": "stream",
     "text": [
      "> number of concepts without prefix:\t23\n"
     ]
    }
   ],
   "source": [
    "number_of_concepts_without_prefix = len(concept_without_prefix_count_dictionary)\n",
    "print(\"> number of concepts without prefix:\\t{0}\".format(number_of_concepts_without_prefix))"
   ]
  },
  {
   "cell_type": "code",
   "execution_count": 364,
   "metadata": {},
   "outputs": [
    {
     "data": {
      "application/vnd.plotly.v1+json": {
       "data": [
        {
         "marker": {
          "color": "#3498db"
         },
         "orientation": "v",
         "type": "bar",
         "x": [
          "the",
          "movies",
          "movie",
          "of",
          "in",
          "what",
          "me",
          "for",
          "show",
          "find",
          "i",
          "to",
          "is",
          "who",
          "a",
          "by",
          "was",
          "produced",
          "about",
          "list",
          "did",
          "directed",
          "how",
          "want",
          "director",
          "all",
          "can",
          "from",
          "are",
          "rated",
          "on",
          "'s",
          "released",
          "that",
          "and",
          "when",
          "see",
          "please",
          "nemo",
          "rating",
          "finding",
          "with",
          "you",
          "information",
          "star",
          "search",
          "look",
          "much",
          "made",
          "will",
          "budget",
          "has",
          "up",
          "films",
          "avatar",
          "like",
          "some",
          "have",
          "wars",
          "date",
          "spielberg",
          "release",
          "r",
          "watch",
          "language",
          "revenue",
          "give",
          "tell",
          "name",
          "would",
          "pg",
          "out",
          "at",
          "genre",
          "dancing",
          "end",
          "know",
          "thirteen",
          "french",
          "cast",
          "life",
          "actor",
          "steven",
          "info",
          "g",
          "played",
          "ferrell",
          "tom",
          "does",
          "july",
          "where",
          "twenty",
          "country",
          "dirty",
          "producer",
          "details",
          "gross",
          "street",
          "house",
          "make",
          "black",
          "this",
          "need",
          "any",
          "film",
          "many",
          "get",
          "spanish",
          "which",
          "an",
          "be",
          "beautiful",
          "four",
          "japanese",
          "reviews",
          "been",
          "other",
          "it",
          "campaign",
          "writers",
          "kristen",
          "pretty",
          "produce",
          "company",
          "two",
          "names",
          "lionsgate",
          "direct",
          "crew",
          "money",
          "looper",
          "do",
          "starred",
          "more",
          "new",
          "swan",
          "cruise",
          "twilight",
          "come",
          "english",
          "robert",
          "stewart",
          "freedom",
          "avengers",
          "chinese",
          "actress",
          "wise",
          "display",
          "production",
          "were",
          "eastwood",
          "clint",
          "twelve",
          "orange",
          "brad",
          "pitt",
          "paramount",
          "actors",
          "there",
          "woman",
          "apollo",
          "alfred",
          "hitchcock",
          "take",
          "war",
          "starring",
          "titanic",
          "jennifer",
          "million",
          "warner",
          "time",
          "evil",
          "-",
          "james",
          "most",
          "best",
          "one",
          "hitch",
          "iron",
          "hanks",
          "man",
          "filmed",
          "smith"
         ],
         "y": [
          406,
          367,
          200,
          194,
          184,
          178,
          160,
          146,
          141,
          117,
          109,
          105,
          102,
          97,
          83,
          79,
          77,
          62,
          61,
          60,
          58,
          54,
          48,
          47,
          45,
          43,
          42,
          41,
          39,
          38,
          38,
          36,
          35,
          35,
          34,
          34,
          33,
          33,
          33,
          33,
          32,
          32,
          32,
          31,
          30,
          30,
          30,
          28,
          28,
          28,
          27,
          27,
          27,
          26,
          25,
          24,
          24,
          24,
          23,
          22,
          21,
          21,
          21,
          21,
          19,
          19,
          19,
          19,
          19,
          18,
          18,
          18,
          18,
          18,
          17,
          17,
          17,
          16,
          16,
          16,
          16,
          15,
          15,
          15,
          15,
          15,
          15,
          15,
          14,
          14,
          14,
          14,
          14,
          14,
          14,
          13,
          13,
          13,
          13,
          13,
          13,
          13,
          13,
          13,
          13,
          12,
          12,
          12,
          12,
          12,
          11,
          11,
          11,
          11,
          11,
          11,
          11,
          11,
          10,
          10,
          10,
          10,
          10,
          10,
          10,
          9,
          9,
          9,
          9,
          9,
          9,
          9,
          9,
          9,
          9,
          9,
          9,
          9,
          9,
          9,
          9,
          9,
          9,
          9,
          9,
          8,
          8,
          8,
          8,
          8,
          8,
          8,
          8,
          7,
          7,
          7,
          7,
          7,
          7,
          7,
          7,
          6,
          6,
          6,
          6,
          6,
          6,
          6,
          6,
          6,
          6,
          6,
          6,
          6,
          6,
          6,
          6,
          6,
          6,
          6,
          6,
          6,
          6
         ]
        }
       ],
       "layout": {
        "margin": {
         "b": 150
        },
        "title": "<b>Test tokens distribution</b>",
        "xaxis": {
         "dtick": 3,
         "title": "<b>Tokens</b>",
         "titlefont": {
          "color": "#3498db"
         }
        },
        "yaxis": {
         "title": "<b>Frequency</b>",
         "titlefont": {
          "color": "#3498db"
         }
        }
       }
      },
      "text/html": [
       "<div id=\"cbcddd3b-36bf-4597-9067-f0b64776a315\" style=\"height: 525px; width: 100%;\" class=\"plotly-graph-div\"></div><script type=\"text/javascript\">require([\"plotly\"], function(Plotly) { window.PLOTLYENV=window.PLOTLYENV || {};window.PLOTLYENV.BASE_URL=\"https://plot.ly\";Plotly.newPlot(\"cbcddd3b-36bf-4597-9067-f0b64776a315\", [{\"marker\": {\"color\": \"#3498db\"}, \"y\": [406, 367, 200, 194, 184, 178, 160, 146, 141, 117, 109, 105, 102, 97, 83, 79, 77, 62, 61, 60, 58, 54, 48, 47, 45, 43, 42, 41, 39, 38, 38, 36, 35, 35, 34, 34, 33, 33, 33, 33, 32, 32, 32, 31, 30, 30, 30, 28, 28, 28, 27, 27, 27, 26, 25, 24, 24, 24, 23, 22, 21, 21, 21, 21, 19, 19, 19, 19, 19, 18, 18, 18, 18, 18, 17, 17, 17, 16, 16, 16, 16, 15, 15, 15, 15, 15, 15, 15, 14, 14, 14, 14, 14, 14, 14, 13, 13, 13, 13, 13, 13, 13, 13, 13, 13, 12, 12, 12, 12, 12, 11, 11, 11, 11, 11, 11, 11, 11, 10, 10, 10, 10, 10, 10, 10, 9, 9, 9, 9, 9, 9, 9, 9, 9, 9, 9, 9, 9, 9, 9, 9, 9, 9, 9, 9, 8, 8, 8, 8, 8, 8, 8, 8, 7, 7, 7, 7, 7, 7, 7, 7, 6, 6, 6, 6, 6, 6, 6, 6, 6, 6, 6, 6, 6, 6, 6, 6, 6, 6, 6, 6, 6, 6], \"orientation\": \"v\", \"type\": \"bar\", \"x\": [\"the\", \"movies\", \"movie\", \"of\", \"in\", \"what\", \"me\", \"for\", \"show\", \"find\", \"i\", \"to\", \"is\", \"who\", \"a\", \"by\", \"was\", \"produced\", \"about\", \"list\", \"did\", \"directed\", \"how\", \"want\", \"director\", \"all\", \"can\", \"from\", \"are\", \"rated\", \"on\", \"'s\", \"released\", \"that\", \"and\", \"when\", \"see\", \"please\", \"nemo\", \"rating\", \"finding\", \"with\", \"you\", \"information\", \"star\", \"search\", \"look\", \"much\", \"made\", \"will\", \"budget\", \"has\", \"up\", \"films\", \"avatar\", \"like\", \"some\", \"have\", \"wars\", \"date\", \"spielberg\", \"release\", \"r\", \"watch\", \"language\", \"revenue\", \"give\", \"tell\", \"name\", \"would\", \"pg\", \"out\", \"at\", \"genre\", \"dancing\", \"end\", \"know\", \"thirteen\", \"french\", \"cast\", \"life\", \"actor\", \"steven\", \"info\", \"g\", \"played\", \"ferrell\", \"tom\", \"does\", \"july\", \"where\", \"twenty\", \"country\", \"dirty\", \"producer\", \"details\", \"gross\", \"street\", \"house\", \"make\", \"black\", \"this\", \"need\", \"any\", \"film\", \"many\", \"get\", \"spanish\", \"which\", \"an\", \"be\", \"beautiful\", \"four\", \"japanese\", \"reviews\", \"been\", \"other\", \"it\", \"campaign\", \"writers\", \"kristen\", \"pretty\", \"produce\", \"company\", \"two\", \"names\", \"lionsgate\", \"direct\", \"crew\", \"money\", \"looper\", \"do\", \"starred\", \"more\", \"new\", \"swan\", \"cruise\", \"twilight\", \"come\", \"english\", \"robert\", \"stewart\", \"freedom\", \"avengers\", \"chinese\", \"actress\", \"wise\", \"display\", \"production\", \"were\", \"eastwood\", \"clint\", \"twelve\", \"orange\", \"brad\", \"pitt\", \"paramount\", \"actors\", \"there\", \"woman\", \"apollo\", \"alfred\", \"hitchcock\", \"take\", \"war\", \"starring\", \"titanic\", \"jennifer\", \"million\", \"warner\", \"time\", \"evil\", \"-\", \"james\", \"most\", \"best\", \"one\", \"hitch\", \"iron\", \"hanks\", \"man\", \"filmed\", \"smith\"]}], {\"margin\": {\"b\": 150}, \"yaxis\": {\"titlefont\": {\"color\": \"#3498db\"}, \"title\": \"<b>Frequency</b>\"}, \"xaxis\": {\"titlefont\": {\"color\": \"#3498db\"}, \"dtick\": 3, \"title\": \"<b>Tokens</b>\"}, \"title\": \"<b>Test tokens distribution</b>\"}, {\"showLink\": true, \"linkText\": \"Export to plot.ly\"})});</script>"
      ],
      "text/vnd.plotly.v1+html": [
       "<div id=\"cbcddd3b-36bf-4597-9067-f0b64776a315\" style=\"height: 525px; width: 100%;\" class=\"plotly-graph-div\"></div><script type=\"text/javascript\">require([\"plotly\"], function(Plotly) { window.PLOTLYENV=window.PLOTLYENV || {};window.PLOTLYENV.BASE_URL=\"https://plot.ly\";Plotly.newPlot(\"cbcddd3b-36bf-4597-9067-f0b64776a315\", [{\"marker\": {\"color\": \"#3498db\"}, \"y\": [406, 367, 200, 194, 184, 178, 160, 146, 141, 117, 109, 105, 102, 97, 83, 79, 77, 62, 61, 60, 58, 54, 48, 47, 45, 43, 42, 41, 39, 38, 38, 36, 35, 35, 34, 34, 33, 33, 33, 33, 32, 32, 32, 31, 30, 30, 30, 28, 28, 28, 27, 27, 27, 26, 25, 24, 24, 24, 23, 22, 21, 21, 21, 21, 19, 19, 19, 19, 19, 18, 18, 18, 18, 18, 17, 17, 17, 16, 16, 16, 16, 15, 15, 15, 15, 15, 15, 15, 14, 14, 14, 14, 14, 14, 14, 13, 13, 13, 13, 13, 13, 13, 13, 13, 13, 12, 12, 12, 12, 12, 11, 11, 11, 11, 11, 11, 11, 11, 10, 10, 10, 10, 10, 10, 10, 9, 9, 9, 9, 9, 9, 9, 9, 9, 9, 9, 9, 9, 9, 9, 9, 9, 9, 9, 9, 8, 8, 8, 8, 8, 8, 8, 8, 7, 7, 7, 7, 7, 7, 7, 7, 6, 6, 6, 6, 6, 6, 6, 6, 6, 6, 6, 6, 6, 6, 6, 6, 6, 6, 6, 6, 6, 6], \"orientation\": \"v\", \"type\": \"bar\", \"x\": [\"the\", \"movies\", \"movie\", \"of\", \"in\", \"what\", \"me\", \"for\", \"show\", \"find\", \"i\", \"to\", \"is\", \"who\", \"a\", \"by\", \"was\", \"produced\", \"about\", \"list\", \"did\", \"directed\", \"how\", \"want\", \"director\", \"all\", \"can\", \"from\", \"are\", \"rated\", \"on\", \"'s\", \"released\", \"that\", \"and\", \"when\", \"see\", \"please\", \"nemo\", \"rating\", \"finding\", \"with\", \"you\", \"information\", \"star\", \"search\", \"look\", \"much\", \"made\", \"will\", \"budget\", \"has\", \"up\", \"films\", \"avatar\", \"like\", \"some\", \"have\", \"wars\", \"date\", \"spielberg\", \"release\", \"r\", \"watch\", \"language\", \"revenue\", \"give\", \"tell\", \"name\", \"would\", \"pg\", \"out\", \"at\", \"genre\", \"dancing\", \"end\", \"know\", \"thirteen\", \"french\", \"cast\", \"life\", \"actor\", \"steven\", \"info\", \"g\", \"played\", \"ferrell\", \"tom\", \"does\", \"july\", \"where\", \"twenty\", \"country\", \"dirty\", \"producer\", \"details\", \"gross\", \"street\", \"house\", \"make\", \"black\", \"this\", \"need\", \"any\", \"film\", \"many\", \"get\", \"spanish\", \"which\", \"an\", \"be\", \"beautiful\", \"four\", \"japanese\", \"reviews\", \"been\", \"other\", \"it\", \"campaign\", \"writers\", \"kristen\", \"pretty\", \"produce\", \"company\", \"two\", \"names\", \"lionsgate\", \"direct\", \"crew\", \"money\", \"looper\", \"do\", \"starred\", \"more\", \"new\", \"swan\", \"cruise\", \"twilight\", \"come\", \"english\", \"robert\", \"stewart\", \"freedom\", \"avengers\", \"chinese\", \"actress\", \"wise\", \"display\", \"production\", \"were\", \"eastwood\", \"clint\", \"twelve\", \"orange\", \"brad\", \"pitt\", \"paramount\", \"actors\", \"there\", \"woman\", \"apollo\", \"alfred\", \"hitchcock\", \"take\", \"war\", \"starring\", \"titanic\", \"jennifer\", \"million\", \"warner\", \"time\", \"evil\", \"-\", \"james\", \"most\", \"best\", \"one\", \"hitch\", \"iron\", \"hanks\", \"man\", \"filmed\", \"smith\"]}], {\"margin\": {\"b\": 150}, \"yaxis\": {\"titlefont\": {\"color\": \"#3498db\"}, \"title\": \"<b>Frequency</b>\"}, \"xaxis\": {\"titlefont\": {\"color\": \"#3498db\"}, \"dtick\": 3, \"title\": \"<b>Tokens</b>\"}, \"title\": \"<b>Test tokens distribution</b>\"}, {\"showLink\": true, \"linkText\": \"Export to plot.ly\"})});</script>"
      ]
     },
     "metadata": {},
     "output_type": "display_data"
    }
   ],
   "source": [
    "X_axis = []\n",
    "Y_axis = []\n",
    "sorted_dict = sorted(token_count_dictionary.items(), key=itemgetter(1), reverse=True)\n",
    "\n",
    "for token, token_count in sorted_dict:\n",
    "        if token_count > 5:\n",
    "            X_axis.append(token)\n",
    "            Y_axis.append(token_count)\n",
    "\n",
    "assert(len(X_axis) == len(Y_axis)) \n",
    "\n",
    "plotly.offline.iplot({\n",
    "    \"data\": [Bar(orientation = \"v\",\n",
    "                 x = X_axis,\n",
    "                 y = Y_axis,\n",
    "                 marker = dict(color = \"#3498db\"))],\n",
    "    \"layout\": Layout(title=\"<b>Test tokens distribution</b>\", \n",
    "                     xaxis=dict(title='<b>Tokens</b>', dtick=3, titlefont=dict(color='#3498db')),\n",
    "                     yaxis=dict(title='<b>Frequency</b>', titlefont=dict(color='#3498db')),\n",
    "                     margin=Margin(b=150)\n",
    "                    )\n",
    "})"
   ]
  },
  {
   "cell_type": "code",
   "execution_count": 356,
   "metadata": {},
   "outputs": [
    {
     "data": {
      "application/vnd.plotly.v1+json": {
       "data": [
        {
         "marker": {
          "color": "#3498db"
         },
         "orientation": "v",
         "type": "bar",
         "x": [
          "O",
          "I-movie.name",
          "B-movie.name",
          "B-actor.name",
          "I-director.name",
          "B-director.name",
          "I-actor.name",
          "B-producer.name",
          "B-movie.language",
          "B-country.name",
          "B-rating.name",
          "I-producer.name",
          "B-movie.subject",
          "I-movie.release_date",
          "B-movie.genre",
          "B-person.name",
          "I-person.name",
          "B-movie.release_date",
          "I-movie.gross_revenue",
          "I-movie.subject",
          "B-character.name",
          "I-rating.name",
          "B-award.ceremony",
          "B-movie.location",
          "I-character.name",
          "I-country.name",
          "B-movie.gross_revenue",
          "B-movie.release_region",
          "B-movie.type",
          "I-movie.location",
          "I-movie.language",
          "B-award.category",
          "I-award.category",
          "I-movie.release_region",
          "B-actor.type",
          "I-movie.genre",
          "B-actor.nationality",
          "B-movie.star_rating",
          "B-director.nationality"
         ],
         "y": [
          5135,
          557,
          473,
          80,
          78,
          78,
          77,
          73,
          69,
          62,
          61,
          48,
          44,
          42,
          36,
          34,
          32,
          28,
          15,
          15,
          15,
          8,
          7,
          7,
          6,
          5,
          5,
          4,
          4,
          4,
          3,
          2,
          2,
          2,
          2,
          1,
          1,
          1,
          1
         ]
        }
       ],
       "layout": {
        "margin": {
         "b": 150
        },
        "title": "<b>Test concepts including prefix distribution</b>",
        "xaxis": {
         "title": "<b>Concepts</b>",
         "titlefont": {
          "color": "#3498db"
         }
        },
        "yaxis": {
         "dtick": 1000,
         "title": "<b>Frequency</b>",
         "titlefont": {
          "color": "#3498db"
         }
        }
       }
      },
      "text/html": [
       "<div id=\"e08e1b12-7d98-4687-9df4-668692cdbd3b\" style=\"height: 525px; width: 100%;\" class=\"plotly-graph-div\"></div><script type=\"text/javascript\">require([\"plotly\"], function(Plotly) { window.PLOTLYENV=window.PLOTLYENV || {};window.PLOTLYENV.BASE_URL=\"https://plot.ly\";Plotly.newPlot(\"e08e1b12-7d98-4687-9df4-668692cdbd3b\", [{\"marker\": {\"color\": \"#3498db\"}, \"y\": [5135, 557, 473, 80, 78, 78, 77, 73, 69, 62, 61, 48, 44, 42, 36, 34, 32, 28, 15, 15, 15, 8, 7, 7, 6, 5, 5, 4, 4, 4, 3, 2, 2, 2, 2, 1, 1, 1, 1], \"orientation\": \"v\", \"type\": \"bar\", \"x\": [\"O\", \"I-movie.name\", \"B-movie.name\", \"B-actor.name\", \"I-director.name\", \"B-director.name\", \"I-actor.name\", \"B-producer.name\", \"B-movie.language\", \"B-country.name\", \"B-rating.name\", \"I-producer.name\", \"B-movie.subject\", \"I-movie.release_date\", \"B-movie.genre\", \"B-person.name\", \"I-person.name\", \"B-movie.release_date\", \"I-movie.gross_revenue\", \"I-movie.subject\", \"B-character.name\", \"I-rating.name\", \"B-award.ceremony\", \"B-movie.location\", \"I-character.name\", \"I-country.name\", \"B-movie.gross_revenue\", \"B-movie.release_region\", \"B-movie.type\", \"I-movie.location\", \"I-movie.language\", \"B-award.category\", \"I-award.category\", \"I-movie.release_region\", \"B-actor.type\", \"I-movie.genre\", \"B-actor.nationality\", \"B-movie.star_rating\", \"B-director.nationality\"]}], {\"margin\": {\"b\": 150}, \"yaxis\": {\"titlefont\": {\"color\": \"#3498db\"}, \"dtick\": 1000, \"title\": \"<b>Frequency</b>\"}, \"xaxis\": {\"titlefont\": {\"color\": \"#3498db\"}, \"title\": \"<b>Concepts</b>\"}, \"title\": \"<b>Test concepts including prefix distribution</b>\"}, {\"showLink\": true, \"linkText\": \"Export to plot.ly\"})});</script>"
      ],
      "text/vnd.plotly.v1+html": [
       "<div id=\"e08e1b12-7d98-4687-9df4-668692cdbd3b\" style=\"height: 525px; width: 100%;\" class=\"plotly-graph-div\"></div><script type=\"text/javascript\">require([\"plotly\"], function(Plotly) { window.PLOTLYENV=window.PLOTLYENV || {};window.PLOTLYENV.BASE_URL=\"https://plot.ly\";Plotly.newPlot(\"e08e1b12-7d98-4687-9df4-668692cdbd3b\", [{\"marker\": {\"color\": \"#3498db\"}, \"y\": [5135, 557, 473, 80, 78, 78, 77, 73, 69, 62, 61, 48, 44, 42, 36, 34, 32, 28, 15, 15, 15, 8, 7, 7, 6, 5, 5, 4, 4, 4, 3, 2, 2, 2, 2, 1, 1, 1, 1], \"orientation\": \"v\", \"type\": \"bar\", \"x\": [\"O\", \"I-movie.name\", \"B-movie.name\", \"B-actor.name\", \"I-director.name\", \"B-director.name\", \"I-actor.name\", \"B-producer.name\", \"B-movie.language\", \"B-country.name\", \"B-rating.name\", \"I-producer.name\", \"B-movie.subject\", \"I-movie.release_date\", \"B-movie.genre\", \"B-person.name\", \"I-person.name\", \"B-movie.release_date\", \"I-movie.gross_revenue\", \"I-movie.subject\", \"B-character.name\", \"I-rating.name\", \"B-award.ceremony\", \"B-movie.location\", \"I-character.name\", \"I-country.name\", \"B-movie.gross_revenue\", \"B-movie.release_region\", \"B-movie.type\", \"I-movie.location\", \"I-movie.language\", \"B-award.category\", \"I-award.category\", \"I-movie.release_region\", \"B-actor.type\", \"I-movie.genre\", \"B-actor.nationality\", \"B-movie.star_rating\", \"B-director.nationality\"]}], {\"margin\": {\"b\": 150}, \"yaxis\": {\"titlefont\": {\"color\": \"#3498db\"}, \"dtick\": 1000, \"title\": \"<b>Frequency</b>\"}, \"xaxis\": {\"titlefont\": {\"color\": \"#3498db\"}, \"title\": \"<b>Concepts</b>\"}, \"title\": \"<b>Test concepts including prefix distribution</b>\"}, {\"showLink\": true, \"linkText\": \"Export to plot.ly\"})});</script>"
      ]
     },
     "metadata": {},
     "output_type": "display_data"
    }
   ],
   "source": [
    "X_axis = []\n",
    "Y_axis = []\n",
    "sorted_dict = sorted(concept_including_prefix_count_dictionary.items(), key=itemgetter(1), reverse=True)\n",
    "\n",
    "for concept_including_prefix, concept_including_prefix_count in sorted_dict:\n",
    "    if concept_including_prefix_count > 0:\n",
    "        X_axis.append(concept_including_prefix)\n",
    "        Y_axis.append(concept_including_prefix_count)\n",
    "\n",
    "assert(len(X_axis) == len(Y_axis)) \n",
    "\n",
    "plotly.offline.iplot({\n",
    "    \"data\": [Bar(orientation = 'v',\n",
    "                 x = X_axis,\n",
    "                 y = Y_axis,\n",
    "                 marker = dict(color = \"#3498db\"))],\n",
    "    \"layout\": Layout(title=\"<b>Test concepts including prefix distribution</b>\", \n",
    "                     xaxis=dict(title='<b>Concepts</b>', titlefont=dict(color='#3498db')),\n",
    "                     yaxis=dict(title='<b>Frequency</b>', dtick = 1000, titlefont=dict(color='#3498db')),\n",
    "                     margin=Margin(b=150)\n",
    "                    )\n",
    "})"
   ]
  },
  {
   "cell_type": "code",
   "execution_count": 350,
   "metadata": {},
   "outputs": [
    {
     "data": {
      "application/vnd.plotly.v1+json": {
       "data": [
        {
         "marker": {
          "color": "#3498db"
         },
         "orientation": "v",
         "type": "bar",
         "x": [
          "O",
          "movie.name",
          "actor.name",
          "director.name",
          "producer.name",
          "movie.language",
          "movie.release_date",
          "rating.name",
          "country.name",
          "person.name",
          "movie.subject",
          "movie.genre",
          "character.name",
          "movie.gross_revenue",
          "movie.location",
          "award.ceremony",
          "movie.release_region",
          "award.category",
          "movie.type",
          "actor.type",
          "actor.nationality",
          "movie.star_rating",
          "director.nationality"
         ],
         "y": [
          5135,
          1030,
          157,
          156,
          121,
          72,
          70,
          69,
          67,
          66,
          59,
          37,
          21,
          20,
          11,
          7,
          6,
          4,
          4,
          2,
          1,
          1,
          1
         ]
        }
       ],
       "layout": {
        "margin": {
         "b": 150
        },
        "title": "<b>Concepts without prefix distribution</b>",
        "xaxis": {
         "dtick": 1,
         "tickangle": 90,
         "title": "<b>Concepts</b>",
         "titlefont": {
          "color": "#3498db"
         }
        },
        "yaxis": {
         "dtick": 1000,
         "title": "<b>Frequency</b>",
         "titlefont": {
          "color": "#3498db"
         }
        }
       }
      },
      "text/html": [
       "<div id=\"9a99ee9c-7b9f-44c6-8ecf-d07ed8c46868\" style=\"height: 525px; width: 100%;\" class=\"plotly-graph-div\"></div><script type=\"text/javascript\">require([\"plotly\"], function(Plotly) { window.PLOTLYENV=window.PLOTLYENV || {};window.PLOTLYENV.BASE_URL=\"https://plot.ly\";Plotly.newPlot(\"9a99ee9c-7b9f-44c6-8ecf-d07ed8c46868\", [{\"marker\": {\"color\": \"#3498db\"}, \"y\": [5135, 1030, 157, 156, 121, 72, 70, 69, 67, 66, 59, 37, 21, 20, 11, 7, 6, 4, 4, 2, 1, 1, 1], \"orientation\": \"v\", \"type\": \"bar\", \"x\": [\"O\", \"movie.name\", \"actor.name\", \"director.name\", \"producer.name\", \"movie.language\", \"movie.release_date\", \"rating.name\", \"country.name\", \"person.name\", \"movie.subject\", \"movie.genre\", \"character.name\", \"movie.gross_revenue\", \"movie.location\", \"award.ceremony\", \"movie.release_region\", \"award.category\", \"movie.type\", \"actor.type\", \"actor.nationality\", \"movie.star_rating\", \"director.nationality\"]}], {\"margin\": {\"b\": 150}, \"yaxis\": {\"titlefont\": {\"color\": \"#3498db\"}, \"dtick\": 1000, \"title\": \"<b>Frequency</b>\"}, \"xaxis\": {\"tickangle\": 90, \"titlefont\": {\"color\": \"#3498db\"}, \"dtick\": 1, \"title\": \"<b>Concepts</b>\"}, \"title\": \"<b>Concepts without prefix distribution</b>\"}, {\"showLink\": true, \"linkText\": \"Export to plot.ly\"})});</script>"
      ],
      "text/vnd.plotly.v1+html": [
       "<div id=\"9a99ee9c-7b9f-44c6-8ecf-d07ed8c46868\" style=\"height: 525px; width: 100%;\" class=\"plotly-graph-div\"></div><script type=\"text/javascript\">require([\"plotly\"], function(Plotly) { window.PLOTLYENV=window.PLOTLYENV || {};window.PLOTLYENV.BASE_URL=\"https://plot.ly\";Plotly.newPlot(\"9a99ee9c-7b9f-44c6-8ecf-d07ed8c46868\", [{\"marker\": {\"color\": \"#3498db\"}, \"y\": [5135, 1030, 157, 156, 121, 72, 70, 69, 67, 66, 59, 37, 21, 20, 11, 7, 6, 4, 4, 2, 1, 1, 1], \"orientation\": \"v\", \"type\": \"bar\", \"x\": [\"O\", \"movie.name\", \"actor.name\", \"director.name\", \"producer.name\", \"movie.language\", \"movie.release_date\", \"rating.name\", \"country.name\", \"person.name\", \"movie.subject\", \"movie.genre\", \"character.name\", \"movie.gross_revenue\", \"movie.location\", \"award.ceremony\", \"movie.release_region\", \"award.category\", \"movie.type\", \"actor.type\", \"actor.nationality\", \"movie.star_rating\", \"director.nationality\"]}], {\"margin\": {\"b\": 150}, \"yaxis\": {\"titlefont\": {\"color\": \"#3498db\"}, \"dtick\": 1000, \"title\": \"<b>Frequency</b>\"}, \"xaxis\": {\"tickangle\": 90, \"titlefont\": {\"color\": \"#3498db\"}, \"dtick\": 1, \"title\": \"<b>Concepts</b>\"}, \"title\": \"<b>Concepts without prefix distribution</b>\"}, {\"showLink\": true, \"linkText\": \"Export to plot.ly\"})});</script>"
      ]
     },
     "metadata": {},
     "output_type": "display_data"
    }
   ],
   "source": [
    "X_axis = []\n",
    "Y_axis = []\n",
    "sorted_dict = sorted(concept_without_prefix_count_dictionary.items(), key=itemgetter(1), reverse=True)\n",
    "\n",
    "for concept_without_prefix, concept_without_prefix_count in sorted_dict:\n",
    "    if concept_without_prefix_count > 0:\n",
    "        X_axis.append(concept_without_prefix)\n",
    "        Y_axis.append(concept_without_prefix_count)\n",
    "\n",
    "assert(len(X_axis) == len(Y_axis)) \n",
    "\n",
    "plotly.offline.iplot({\n",
    "    \"data\": [Bar(orientation = 'v',\n",
    "                 x = X_axis,\n",
    "                 y = Y_axis,\n",
    "                 marker = dict(color = \"#3498db\"))],\n",
    "    \"layout\": Layout(title=\"<b>Concepts without prefix distribution</b>\", \n",
    "                     xaxis=dict(title='<b>Concepts</b>', tickangle=90, dtick=1, titlefont=dict(color='#3498db')),\n",
    "                     yaxis=dict(title='<b>Frequency</b>', dtick = 1000, titlefont=dict(color='#3498db')),\n",
    "                     margin=Margin(b=150)\n",
    "                    )\n",
    "})"
   ]
  },
  {
   "cell_type": "markdown",
   "metadata": {},
   "source": [
    "### Test with features file analysis"
   ]
  },
  {
   "cell_type": "code",
   "execution_count": 249,
   "metadata": {},
   "outputs": [],
   "source": [
    "test_file = open(TEST_FEATS_FILE, \"r\", encoding=\"utf8\")\n",
    "\n",
    "token_count_dictionary = {}\n",
    "pos_count_dictionary = {}\n",
    "lemma_count_dictionary = {}\n",
    "sentences_count = 0\n",
    "test_file_lines = []\n",
    "\n",
    "for line in test_file:\n",
    "    line = line.replace(\"\\n\", \"\")\n",
    "    test_file_lines.append(line)\n",
    "    \n",
    "    if len(line) == 0: #check if end of sentence\n",
    "        sentences_count += 1\n",
    "        continue\n",
    "    \n",
    "    line_split = line.split(\"\\t\")\n",
    "    assert(len(line_split) == 3)\n",
    "    \n",
    "    token = line_split[0]\n",
    "    pos = line_split[1]\n",
    "    lemma = line_split[2]\n",
    "    \n",
    "    if token not in token_count_dictionary:\n",
    "        token_count_dictionary[token] = 1\n",
    "    else:\n",
    "        token_count_dictionary[token] += 1\n",
    "        \n",
    "    if pos not in pos_count_dictionary:\n",
    "        pos_count_dictionary[pos] = 1\n",
    "    else:\n",
    "        pos_count_dictionary[pos] += 1\n",
    "        \n",
    "    if lemma not in lemma_count_dictionary:\n",
    "        lemma_count_dictionary[lemma] = 1\n",
    "    else:\n",
    "        lemma_count_dictionary[lemma] += 1\n",
    "    \n",
    "test_file.close()"
   ]
  },
  {
   "cell_type": "code",
   "execution_count": 250,
   "metadata": {},
   "outputs": [
    {
     "name": "stdout",
     "output_type": "stream",
     "text": [
      "> length of the test file:\t8201\n"
     ]
    }
   ],
   "source": [
    "test_file_length = len(test_file_lines)\n",
    "print(\"> length of the test file:\\t{0}\".format(test_file_length))"
   ]
  },
  {
   "cell_type": "code",
   "execution_count": 251,
   "metadata": {},
   "outputs": [
    {
     "name": "stdout",
     "output_type": "stream",
     "text": [
      "> number of sentences:\t1084\n"
     ]
    }
   ],
   "source": [
    "print(\"> number of sentences:\\t{0}\".format(sentences_count))"
   ]
  },
  {
   "cell_type": "code",
   "execution_count": 252,
   "metadata": {},
   "outputs": [
    {
     "name": "stdout",
     "output_type": "stream",
     "text": [
      "> number of tokens:\t7117\n"
     ]
    }
   ],
   "source": [
    "total_number_of_tokens = 0\n",
    "for token_count in token_count_dictionary.values():\n",
    "    total_number_of_tokens += token_count\n",
    "print(\"> number of tokens:\\t{0}\".format(total_number_of_tokens)) "
   ]
  },
  {
   "cell_type": "code",
   "execution_count": 254,
   "metadata": {},
   "outputs": [
    {
     "name": "stdout",
     "output_type": "stream",
     "text": [
      "> number of unique tokens:\t1039\n"
     ]
    }
   ],
   "source": [
    "number_of_tokens = len(token_count_dictionary)\n",
    "print(\"> number of unique tokens:\\t{0}\".format(number_of_tokens))"
   ]
  },
  {
   "cell_type": "code",
   "execution_count": 175,
   "metadata": {},
   "outputs": [
    {
     "name": "stdout",
     "output_type": "stream",
     "text": [
      "> number of pos:\t46\n"
     ]
    }
   ],
   "source": [
    "number_of_pos = len(pos_count_dictionary)\n",
    "print(\"> number of pos:\\t{0}\".format(number_of_pos))"
   ]
  },
  {
   "cell_type": "code",
   "execution_count": 177,
   "metadata": {},
   "outputs": [
    {
     "name": "stdout",
     "output_type": "stream",
     "text": [
      "> number of unique lemmas:\t952\n"
     ]
    }
   ],
   "source": [
    "number_of_lemma = len(lemma_count_dictionary)\n",
    "print(\"> number of unique lemmas:\\t{0}\".format(number_of_lemma))"
   ]
  },
  {
   "cell_type": "code",
   "execution_count": 351,
   "metadata": {},
   "outputs": [
    {
     "data": {
      "application/vnd.plotly.v1+json": {
       "data": [
        {
         "marker": {
          "color": "#3498db"
         },
         "orientation": "v",
         "type": "bar",
         "x": [
          "NN",
          "IN",
          "NNS",
          "DT",
          "VV",
          "JJ",
          "WP",
          "PP",
          "VVN",
          "VVD",
          "VBZ",
          "WRB",
          "TO",
          "VVP",
          "VBD",
          "RB",
          "MD",
          "CD",
          "NP",
          "VVG",
          "VBP",
          "WDT",
          "VVZ",
          "RP",
          "POS",
          "CC",
          "VHZ",
          "VHP",
          "UH",
          "JJR",
          "VB",
          "PP$",
          "JJS",
          "VBN",
          "PDT",
          "IN/that",
          ":",
          "FW",
          "SYM",
          "RBS",
          "SENT",
          "VHD",
          "EX",
          "RBR",
          "VHG",
          "''",
          "WP$",
          "LS",
          "VH"
         ],
         "y": [
          5796,
          2502,
          2322,
          1871,
          1472,
          1140,
          847,
          721,
          576,
          510,
          344,
          297,
          271,
          268,
          261,
          259,
          254,
          251,
          235,
          181,
          177,
          124,
          98,
          83,
          82,
          78,
          78,
          60,
          47,
          35,
          33,
          31,
          29,
          25,
          21,
          17,
          12,
          12,
          10,
          8,
          3,
          2,
          2,
          2,
          2,
          1,
          1,
          1,
          1
         ]
        }
       ],
       "layout": {
        "margin": {
         "b": 150
        },
        "title": "<b>Test feats pos distribution</b>",
        "xaxis": {
         "title": "<b>POS-tag</b>",
         "titlefont": {
          "color": "#3498db"
         }
        },
        "yaxis": {
         "dtick": 500,
         "title": "<b>Frequency</b>",
         "titlefont": {
          "color": "#3498db"
         }
        }
       }
      },
      "text/html": [
       "<div id=\"705d6b7a-4db9-4c10-8ba9-7240243f91cf\" style=\"height: 525px; width: 100%;\" class=\"plotly-graph-div\"></div><script type=\"text/javascript\">require([\"plotly\"], function(Plotly) { window.PLOTLYENV=window.PLOTLYENV || {};window.PLOTLYENV.BASE_URL=\"https://plot.ly\";Plotly.newPlot(\"705d6b7a-4db9-4c10-8ba9-7240243f91cf\", [{\"marker\": {\"color\": \"#3498db\"}, \"y\": [5796, 2502, 2322, 1871, 1472, 1140, 847, 721, 576, 510, 344, 297, 271, 268, 261, 259, 254, 251, 235, 181, 177, 124, 98, 83, 82, 78, 78, 60, 47, 35, 33, 31, 29, 25, 21, 17, 12, 12, 10, 8, 3, 2, 2, 2, 2, 1, 1, 1, 1], \"orientation\": \"v\", \"type\": \"bar\", \"x\": [\"NN\", \"IN\", \"NNS\", \"DT\", \"VV\", \"JJ\", \"WP\", \"PP\", \"VVN\", \"VVD\", \"VBZ\", \"WRB\", \"TO\", \"VVP\", \"VBD\", \"RB\", \"MD\", \"CD\", \"NP\", \"VVG\", \"VBP\", \"WDT\", \"VVZ\", \"RP\", \"POS\", \"CC\", \"VHZ\", \"VHP\", \"UH\", \"JJR\", \"VB\", \"PP$\", \"JJS\", \"VBN\", \"PDT\", \"IN/that\", \":\", \"FW\", \"SYM\", \"RBS\", \"SENT\", \"VHD\", \"EX\", \"RBR\", \"VHG\", \"''\", \"WP$\", \"LS\", \"VH\"]}], {\"margin\": {\"b\": 150}, \"yaxis\": {\"titlefont\": {\"color\": \"#3498db\"}, \"dtick\": 500, \"title\": \"<b>Frequency</b>\"}, \"xaxis\": {\"titlefont\": {\"color\": \"#3498db\"}, \"title\": \"<b>POS-tag</b>\"}, \"title\": \"<b>Test feats pos distribution</b>\"}, {\"showLink\": true, \"linkText\": \"Export to plot.ly\"})});</script>"
      ],
      "text/vnd.plotly.v1+html": [
       "<div id=\"705d6b7a-4db9-4c10-8ba9-7240243f91cf\" style=\"height: 525px; width: 100%;\" class=\"plotly-graph-div\"></div><script type=\"text/javascript\">require([\"plotly\"], function(Plotly) { window.PLOTLYENV=window.PLOTLYENV || {};window.PLOTLYENV.BASE_URL=\"https://plot.ly\";Plotly.newPlot(\"705d6b7a-4db9-4c10-8ba9-7240243f91cf\", [{\"marker\": {\"color\": \"#3498db\"}, \"y\": [5796, 2502, 2322, 1871, 1472, 1140, 847, 721, 576, 510, 344, 297, 271, 268, 261, 259, 254, 251, 235, 181, 177, 124, 98, 83, 82, 78, 78, 60, 47, 35, 33, 31, 29, 25, 21, 17, 12, 12, 10, 8, 3, 2, 2, 2, 2, 1, 1, 1, 1], \"orientation\": \"v\", \"type\": \"bar\", \"x\": [\"NN\", \"IN\", \"NNS\", \"DT\", \"VV\", \"JJ\", \"WP\", \"PP\", \"VVN\", \"VVD\", \"VBZ\", \"WRB\", \"TO\", \"VVP\", \"VBD\", \"RB\", \"MD\", \"CD\", \"NP\", \"VVG\", \"VBP\", \"WDT\", \"VVZ\", \"RP\", \"POS\", \"CC\", \"VHZ\", \"VHP\", \"UH\", \"JJR\", \"VB\", \"PP$\", \"JJS\", \"VBN\", \"PDT\", \"IN/that\", \":\", \"FW\", \"SYM\", \"RBS\", \"SENT\", \"VHD\", \"EX\", \"RBR\", \"VHG\", \"''\", \"WP$\", \"LS\", \"VH\"]}], {\"margin\": {\"b\": 150}, \"yaxis\": {\"titlefont\": {\"color\": \"#3498db\"}, \"dtick\": 500, \"title\": \"<b>Frequency</b>\"}, \"xaxis\": {\"titlefont\": {\"color\": \"#3498db\"}, \"title\": \"<b>POS-tag</b>\"}, \"title\": \"<b>Test feats pos distribution</b>\"}, {\"showLink\": true, \"linkText\": \"Export to plot.ly\"})});</script>"
      ]
     },
     "metadata": {},
     "output_type": "display_data"
    }
   ],
   "source": [
    "X_axis = []\n",
    "Y_axis = []\n",
    "sorted_dict = sorted(pos_count_dictionary.items(), key=itemgetter(1), reverse=True)\n",
    "\n",
    "for pos, pos_count in sorted_dict:\n",
    "    if pos_count > 0:\n",
    "        X_axis.append(pos)\n",
    "        Y_axis.append(pos_count)\n",
    "\n",
    "assert(len(X_axis) == len(Y_axis)) \n",
    "\n",
    "plotly.offline.iplot({\n",
    "    \"data\": [Bar(orientation = 'v',\n",
    "                 x = X_axis,\n",
    "                 y = Y_axis,\n",
    "                 marker = dict(color = \"#3498db\"))],\n",
    "    \"layout\": Layout(title=\"<b>Test feats pos distribution</b>\", \n",
    "                     xaxis=dict(title='<b>POS-tag</b>', titlefont=dict(color='#3498db')),\n",
    "                     yaxis=dict(title='<b>Frequency</b>', dtick = 500, titlefont=dict(color='#3498db')),\n",
    "                     margin=Margin(b=150)\n",
    "                    )\n",
    "})"
   ]
  },
  {
   "cell_type": "code",
   "execution_count": 354,
   "metadata": {},
   "outputs": [
    {
     "data": {
      "application/vnd.plotly.v1+json": {
       "data": [
        {
         "marker": {
          "color": "#3498db"
         },
         "orientation": "v",
         "type": "bar",
         "x": [
          "movie",
          "the",
          "be",
          "of",
          "in",
          "what",
          "me",
          "show",
          "for",
          "find",
          "who",
          "i",
          "to",
          "do",
          "a",
          "by",
          "list",
          "about",
          "direct",
          "produce",
          "film",
          "make",
          "how",
          "release",
          "have",
          "director",
          "all",
          "with",
          "star",
          "can",
          "want",
          "rating",
          "search",
          "you",
          "information",
          "will",
          "rate",
          "from",
          "on",
          "see",
          "when",
          "that",
          "look",
          "name",
          "'s",
          "actor",
          "much",
          "budget",
          "like",
          "some",
          "nemo",
          "language",
          "producer",
          "revenue",
          "please",
          "and",
          "spielberg",
          "avatar",
          "war",
          "pg",
          "would",
          "play",
          "get",
          "up",
          "date",
          "life",
          "know",
          "info",
          "tom",
          "this",
          "r",
          "twenty",
          "cast",
          "country",
          "dancing",
          "steven",
          "tell",
          "beautiful",
          "which",
          "dirty",
          "house",
          "give",
          "ferrell",
          "genre",
          "watch",
          "out",
          "need",
          "at",
          "street",
          "where",
          "g",
          "Spanish",
          "French",
          "come",
          "many",
          "end",
          "hitch",
          "black",
          "thirteen",
          "any",
          "campaign",
          "company",
          "go",
          "zombie",
          "review",
          "detail",
          "more",
          "crew",
          "pitt",
          "@card@",
          "july",
          "brad",
          "gross",
          "swan",
          "lionsgate",
          "hank",
          "hitchcock",
          "new",
          "twelve",
          "display",
          "cruise",
          "man",
          "four",
          "year",
          "it",
          "there",
          "cost",
          "avenger",
          "money",
          "only",
          "time",
          "titanic",
          "wind",
          "page",
          "robert",
          "comedy"
         ],
         "y": [
          1690,
          1337,
          840,
          607,
          582,
          545,
          539,
          503,
          472,
          392,
          303,
          295,
          271,
          242,
          236,
          221,
          214,
          208,
          201,
          193,
          160,
          156,
          152,
          151,
          143,
          138,
          137,
          125,
          121,
          121,
          120,
          114,
          114,
          113,
          109,
          105,
          103,
          101,
          100,
          97,
          97,
          95,
          94,
          87,
          82,
          82,
          79,
          79,
          78,
          78,
          78,
          72,
          70,
          69,
          69,
          68,
          68,
          67,
          65,
          65,
          62,
          61,
          60,
          58,
          57,
          57,
          57,
          53,
          53,
          53,
          52,
          50,
          49,
          49,
          49,
          49,
          49,
          48,
          47,
          47,
          47,
          47,
          47,
          46,
          46,
          45,
          44,
          44,
          44,
          44,
          44,
          44,
          43,
          42,
          41,
          41,
          40,
          38,
          37,
          37,
          37,
          36,
          36,
          36,
          33,
          32,
          31,
          30,
          29,
          29,
          29,
          29,
          28,
          28,
          27,
          27,
          27,
          27,
          27,
          26,
          26,
          26,
          25,
          24,
          24,
          24,
          23,
          23,
          23,
          23,
          22,
          22,
          22,
          22,
          22,
          21
         ]
        }
       ],
       "layout": {
        "margin": {
         "b": 150
        },
        "title": "<b>Test feats lemmas distribution</b>",
        "xaxis": {
         "dtick": 3,
         "title": "<b>Lemma</b>",
         "titlefont": {
          "color": "#3498db"
         }
        },
        "yaxis": {
         "dtick": 100,
         "title": "<b>Frequency</b>",
         "titlefont": {
          "color": "#3498db"
         }
        }
       }
      },
      "text/html": [
       "<div id=\"6a7483b8-1069-4470-be93-b89ae73c3686\" style=\"height: 525px; width: 100%;\" class=\"plotly-graph-div\"></div><script type=\"text/javascript\">require([\"plotly\"], function(Plotly) { window.PLOTLYENV=window.PLOTLYENV || {};window.PLOTLYENV.BASE_URL=\"https://plot.ly\";Plotly.newPlot(\"6a7483b8-1069-4470-be93-b89ae73c3686\", [{\"marker\": {\"color\": \"#3498db\"}, \"y\": [1690, 1337, 840, 607, 582, 545, 539, 503, 472, 392, 303, 295, 271, 242, 236, 221, 214, 208, 201, 193, 160, 156, 152, 151, 143, 138, 137, 125, 121, 121, 120, 114, 114, 113, 109, 105, 103, 101, 100, 97, 97, 95, 94, 87, 82, 82, 79, 79, 78, 78, 78, 72, 70, 69, 69, 68, 68, 67, 65, 65, 62, 61, 60, 58, 57, 57, 57, 53, 53, 53, 52, 50, 49, 49, 49, 49, 49, 48, 47, 47, 47, 47, 47, 46, 46, 45, 44, 44, 44, 44, 44, 44, 43, 42, 41, 41, 40, 38, 37, 37, 37, 36, 36, 36, 33, 32, 31, 30, 29, 29, 29, 29, 28, 28, 27, 27, 27, 27, 27, 26, 26, 26, 25, 24, 24, 24, 23, 23, 23, 23, 22, 22, 22, 22, 22, 21], \"orientation\": \"v\", \"type\": \"bar\", \"x\": [\"movie\", \"the\", \"be\", \"of\", \"in\", \"what\", \"me\", \"show\", \"for\", \"find\", \"who\", \"i\", \"to\", \"do\", \"a\", \"by\", \"list\", \"about\", \"direct\", \"produce\", \"film\", \"make\", \"how\", \"release\", \"have\", \"director\", \"all\", \"with\", \"star\", \"can\", \"want\", \"rating\", \"search\", \"you\", \"information\", \"will\", \"rate\", \"from\", \"on\", \"see\", \"when\", \"that\", \"look\", \"name\", \"'s\", \"actor\", \"much\", \"budget\", \"like\", \"some\", \"nemo\", \"language\", \"producer\", \"revenue\", \"please\", \"and\", \"spielberg\", \"avatar\", \"war\", \"pg\", \"would\", \"play\", \"get\", \"up\", \"date\", \"life\", \"know\", \"info\", \"tom\", \"this\", \"r\", \"twenty\", \"cast\", \"country\", \"dancing\", \"steven\", \"tell\", \"beautiful\", \"which\", \"dirty\", \"house\", \"give\", \"ferrell\", \"genre\", \"watch\", \"out\", \"need\", \"at\", \"street\", \"where\", \"g\", \"Spanish\", \"French\", \"come\", \"many\", \"end\", \"hitch\", \"black\", \"thirteen\", \"any\", \"campaign\", \"company\", \"go\", \"zombie\", \"review\", \"detail\", \"more\", \"crew\", \"pitt\", \"@card@\", \"july\", \"brad\", \"gross\", \"swan\", \"lionsgate\", \"hank\", \"hitchcock\", \"new\", \"twelve\", \"display\", \"cruise\", \"man\", \"four\", \"year\", \"it\", \"there\", \"cost\", \"avenger\", \"money\", \"only\", \"time\", \"titanic\", \"wind\", \"page\", \"robert\", \"comedy\"]}], {\"margin\": {\"b\": 150}, \"yaxis\": {\"titlefont\": {\"color\": \"#3498db\"}, \"dtick\": 100, \"title\": \"<b>Frequency</b>\"}, \"xaxis\": {\"titlefont\": {\"color\": \"#3498db\"}, \"dtick\": 3, \"title\": \"<b>Lemma</b>\"}, \"title\": \"<b>Test feats lemmas distribution</b>\"}, {\"showLink\": true, \"linkText\": \"Export to plot.ly\"})});</script>"
      ],
      "text/vnd.plotly.v1+html": [
       "<div id=\"6a7483b8-1069-4470-be93-b89ae73c3686\" style=\"height: 525px; width: 100%;\" class=\"plotly-graph-div\"></div><script type=\"text/javascript\">require([\"plotly\"], function(Plotly) { window.PLOTLYENV=window.PLOTLYENV || {};window.PLOTLYENV.BASE_URL=\"https://plot.ly\";Plotly.newPlot(\"6a7483b8-1069-4470-be93-b89ae73c3686\", [{\"marker\": {\"color\": \"#3498db\"}, \"y\": [1690, 1337, 840, 607, 582, 545, 539, 503, 472, 392, 303, 295, 271, 242, 236, 221, 214, 208, 201, 193, 160, 156, 152, 151, 143, 138, 137, 125, 121, 121, 120, 114, 114, 113, 109, 105, 103, 101, 100, 97, 97, 95, 94, 87, 82, 82, 79, 79, 78, 78, 78, 72, 70, 69, 69, 68, 68, 67, 65, 65, 62, 61, 60, 58, 57, 57, 57, 53, 53, 53, 52, 50, 49, 49, 49, 49, 49, 48, 47, 47, 47, 47, 47, 46, 46, 45, 44, 44, 44, 44, 44, 44, 43, 42, 41, 41, 40, 38, 37, 37, 37, 36, 36, 36, 33, 32, 31, 30, 29, 29, 29, 29, 28, 28, 27, 27, 27, 27, 27, 26, 26, 26, 25, 24, 24, 24, 23, 23, 23, 23, 22, 22, 22, 22, 22, 21], \"orientation\": \"v\", \"type\": \"bar\", \"x\": [\"movie\", \"the\", \"be\", \"of\", \"in\", \"what\", \"me\", \"show\", \"for\", \"find\", \"who\", \"i\", \"to\", \"do\", \"a\", \"by\", \"list\", \"about\", \"direct\", \"produce\", \"film\", \"make\", \"how\", \"release\", \"have\", \"director\", \"all\", \"with\", \"star\", \"can\", \"want\", \"rating\", \"search\", \"you\", \"information\", \"will\", \"rate\", \"from\", \"on\", \"see\", \"when\", \"that\", \"look\", \"name\", \"'s\", \"actor\", \"much\", \"budget\", \"like\", \"some\", \"nemo\", \"language\", \"producer\", \"revenue\", \"please\", \"and\", \"spielberg\", \"avatar\", \"war\", \"pg\", \"would\", \"play\", \"get\", \"up\", \"date\", \"life\", \"know\", \"info\", \"tom\", \"this\", \"r\", \"twenty\", \"cast\", \"country\", \"dancing\", \"steven\", \"tell\", \"beautiful\", \"which\", \"dirty\", \"house\", \"give\", \"ferrell\", \"genre\", \"watch\", \"out\", \"need\", \"at\", \"street\", \"where\", \"g\", \"Spanish\", \"French\", \"come\", \"many\", \"end\", \"hitch\", \"black\", \"thirteen\", \"any\", \"campaign\", \"company\", \"go\", \"zombie\", \"review\", \"detail\", \"more\", \"crew\", \"pitt\", \"@card@\", \"july\", \"brad\", \"gross\", \"swan\", \"lionsgate\", \"hank\", \"hitchcock\", \"new\", \"twelve\", \"display\", \"cruise\", \"man\", \"four\", \"year\", \"it\", \"there\", \"cost\", \"avenger\", \"money\", \"only\", \"time\", \"titanic\", \"wind\", \"page\", \"robert\", \"comedy\"]}], {\"margin\": {\"b\": 150}, \"yaxis\": {\"titlefont\": {\"color\": \"#3498db\"}, \"dtick\": 100, \"title\": \"<b>Frequency</b>\"}, \"xaxis\": {\"titlefont\": {\"color\": \"#3498db\"}, \"dtick\": 3, \"title\": \"<b>Lemma</b>\"}, \"title\": \"<b>Test feats lemmas distribution</b>\"}, {\"showLink\": true, \"linkText\": \"Export to plot.ly\"})});</script>"
      ]
     },
     "metadata": {},
     "output_type": "display_data"
    }
   ],
   "source": [
    "X_axis = []\n",
    "Y_axis = []\n",
    "sorted_dict = sorted(lemma_count_dictionary.items(), key=itemgetter(1), reverse=True)\n",
    "\n",
    "for lemma, lemma_count in sorted_dict:\n",
    "    if lemma_count > 20:\n",
    "        X_axis.append(lemma)\n",
    "        Y_axis.append(lemma_count)\n",
    "\n",
    "assert(len(X_axis) == len(Y_axis)) \n",
    "\n",
    "plotly.offline.iplot({\n",
    "    \"data\": [Bar(orientation = \"v\",\n",
    "                 x = X_axis,\n",
    "                 y = Y_axis,\n",
    "                 marker = dict(color = \"#3498db\"))],\n",
    "    \"layout\": Layout(title=\"<b>Test feats lemmas distribution</b>\", \n",
    "                     xaxis=dict(title='<b>Lemma</b>', dtick = 3, titlefont=dict(color='#3498db')),\n",
    "                     yaxis=dict(title='<b>Frequency</b>', dtick = 100, titlefont=dict(color='#3498db')),\n",
    "                     margin=Margin(b=150)\n",
    "                    )\n",
    "})"
   ]
  },
  {
   "cell_type": "markdown",
   "metadata": {},
   "source": [
    "### Compute OOV rate"
   ]
  },
  {
   "cell_type": "code",
   "execution_count": 365,
   "metadata": {},
   "outputs": [
    {
     "name": "stdout",
     "output_type": "stream",
     "text": [
      "> OOV rate:\t0.1423611111111111\n"
     ]
    }
   ],
   "source": [
    "train_file = open(TRAIN_FILE, \"r\", encoding=\"utf8\")\n",
    "\n",
    "train_tokens = []\n",
    "\n",
    "for line in train_file:\n",
    "    line = line.replace(\"\\n\", \"\")\n",
    "    \n",
    "    if len(line) == 0: #check if end of sentence\n",
    "        continue\n",
    "    \n",
    "    line_split = line.split(\"\\t\")\n",
    "    assert(len(line_split) == 2)\n",
    "    \n",
    "    token = line_split[0]\n",
    "    \n",
    "    if token not in train_tokens:\n",
    "        train_tokens.append(token)\n",
    "        \n",
    "train_file.close()\n",
    "\n",
    "test_tokens = []\n",
    "oov_tokens = []\n",
    "\n",
    "test_file = open(TEST_FILE, \"r\", encoding=\"utf8\")\n",
    "\n",
    "for line in test_file:\n",
    "    line = line.replace(\"\\n\", \"\")\n",
    "    \n",
    "    if len(line) == 0: #check if end of sentence\n",
    "        continue\n",
    "    \n",
    "    line_split = line.split(\"\\t\")\n",
    "    assert(len(line_split) == 2)\n",
    "    \n",
    "    token = line_split[0]\n",
    "    \n",
    "    if token not in test_tokens:\n",
    "        test_tokens.append(token)\n",
    "    \n",
    "    if token not in train_tokens:\n",
    "        oov_tokens.append(token)\n",
    "        \n",
    "test_file.close()\n",
    "\n",
    "print(\"> OOV rate:\\t{0}\".format(len(oov_tokens)/len(train_tokens)))"
   ]
  },
  {
   "cell_type": "code",
   "execution_count": 366,
   "metadata": {},
   "outputs": [
    {
     "data": {
      "text/plain": [
       "1728"
      ]
     },
     "execution_count": 366,
     "metadata": {},
     "output_type": "execute_result"
    }
   ],
   "source": [
    "len(train_tokens)"
   ]
  },
  {
   "cell_type": "code",
   "execution_count": 367,
   "metadata": {},
   "outputs": [
    {
     "data": {
      "text/plain": [
       "246"
      ]
     },
     "execution_count": 367,
     "metadata": {},
     "output_type": "execute_result"
    }
   ],
   "source": [
    "len(oov_tokens)"
   ]
  },
  {
   "cell_type": "code",
   "execution_count": null,
   "metadata": {},
   "outputs": [],
   "source": []
  }
 ],
 "metadata": {
  "kernelspec": {
   "display_name": "Python 3",
   "language": "python",
   "name": "python3"
  },
  "language_info": {
   "codemirror_mode": {
    "name": "ipython",
    "version": 3
   },
   "file_extension": ".py",
   "mimetype": "text/x-python",
   "name": "python",
   "nbconvert_exporter": "python",
   "pygments_lexer": "ipython3",
   "version": "3.5.2"
  }
 },
 "nbformat": 4,
 "nbformat_minor": 2
}
