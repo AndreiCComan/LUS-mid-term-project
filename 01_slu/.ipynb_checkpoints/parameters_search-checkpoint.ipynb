{
 "cells": [
  {
   "cell_type": "markdown",
   "metadata": {},
   "source": [
    "![DISI](../resources/DISI.jpeg)"
   ]
  },
  {
   "cell_type": "markdown",
   "metadata": {},
   "source": [
    "### Import"
   ]
  },
  {
   "cell_type": "code",
   "execution_count": null,
   "metadata": {},
   "outputs": [],
   "source": [
    "import json\n",
    "import subprocess\n",
    "import pprint"
   ]
  },
  {
   "cell_type": "code",
   "execution_count": null,
   "metadata": {},
   "outputs": [],
   "source": [
    "CONFIGURATION_FILE_NAME = \"config.json\""
   ]
  },
  {
   "cell_type": "code",
   "execution_count": null,
   "metadata": {},
   "outputs": [],
   "source": [
    "OUTPUT_DIR = \"parameters_search\"\n",
    "TRAIN_FILE = \"NLSPARQL.train.data\"\n",
    "TRAIN_FEATS_FILE = \"NLSPARQL.train.feats.txt\"\n",
    "TEST_FILE = \"NLSPARQL.test.data\"\n",
    "TEST_FEATS_FILE = \"NLSPARQL.test.feats.txt\"\n",
    "\n",
    "HANDLE_UNK = [\"uniform\", \"cut_off_1\", \"cut_off_2\"]\n",
    "NGRAM_SIZE = [2, 3, 4, 5, 6]\n",
    "SMOOTHINGS = [\"witten_bell\", \"kneser_ney\", \"katz\", \"absolute\", \"presmoothed\"]\n",
    "ADDITIONAL_FEATURES = [\"none\", \"lemma\", \"lemmapos\", \"tokenpos\"]\n",
    "IMPROVEMENTS = [\"none\", \"wise\", \"naive\"]\n",
    "\n",
    "BACKOFF = \"false\"\n",
    "BINS = -1\n",
    "WITTEN_BELL_K = 1.0\n",
    "DISCOUNT_D = -1"
   ]
  },
  {
   "cell_type": "code",
   "execution_count": null,
   "metadata": {},
   "outputs": [],
   "source": [
    "assert(subprocess.call(\"[[ -e config.json ]] && cp config.json config_bak.json\", shell = True) == 0),\\\n",
    "\"> unable to make a copy of configuration file\""
   ]
  },
  {
   "cell_type": "code",
   "execution_count": null,
   "metadata": {},
   "outputs": [],
   "source": [
    "try:\n",
    "    for handle_unk in HANDLE_UNK:\n",
    "        for ngram_size in NGRAM_SIZE:\n",
    "            for smoothing_algorithm in SMOOTHINGS:\n",
    "                for additional_feature in ADDITIONAL_FEATURES:\n",
    "                    for improvement in IMPROVEMENTS:\n",
    "                        configuration = {}\n",
    "                        configuration[\"output_dir\"] = OUTPUT_DIR\n",
    "                        configuration[\"train_file\"] = TRAIN_FILE\n",
    "                        configuration[\"train_feats_file\"] = TRAIN_FEATS_FILE\n",
    "                        configuration[\"test_file\"] = TEST_FILE\n",
    "                        configuration[\"test_feats_file\"] = TEST_FEATS_FILE\n",
    "                        configuration[\"handle_unk\"] = handle_unk\n",
    "                        configuration[\"ngram_size\"] = ngram_size\n",
    "                        configuration[\"smoothing\"] = smoothing_algorithm\n",
    "                        configuration[\"additional_feature\"] = additional_feature\n",
    "                        configuration[\"improvement\"] = improvement\n",
    "                        configuration[\"backoff\"] = BACKOFF\n",
    "                        configuration[\"bins\"] = BINS\n",
    "                        configuration[\"witten_bell_k\"] = WITTEN_BELL_K\n",
    "                        configuration[\"discount_D\"] = DISCOUNT_D\n",
    "\n",
    "                        configuration_file = open(CONFIGURATION_FILE_NAME, 'w', encoding=\"utf8\")\n",
    "                        json.dump(configuration, configuration_file)\n",
    "                        configuration_file.close()\n",
    "\n",
    "                        print(\"+---------------+\")\n",
    "                        print(\"| CONFIGURATION |\")\n",
    "                        print(\"+---------------+----------------------------------------------\")\n",
    "                        pp = pprint.PrettyPrinter()\n",
    "                        pp.pprint(configuration)\n",
    "\n",
    "                        assert(subprocess.call(\"python3 slu.py\", shell = True) == 0),\\\n",
    "                        \"> unable to run the script\"\n",
    "\n",
    "                        print(\"\\n\")\n",
    "except:\n",
    "    pass"
   ]
  },
  {
   "cell_type": "code",
   "execution_count": null,
   "metadata": {},
   "outputs": [],
   "source": [
    "assert(subprocess.call(\"[[ -e config_bak.json ]] && mv config_bak.json config.json\", shell = True) == 0),\\\n",
    "\"> unable to make a copy of configuration file\""
   ]
  }
 ],
 "metadata": {
  "kernelspec": {
   "display_name": "Python 3",
   "language": "python",
   "name": "python3"
  },
  "language_info": {
   "codemirror_mode": {
    "name": "ipython",
    "version": 3
   },
   "file_extension": ".py",
   "mimetype": "text/x-python",
   "name": "python",
   "nbconvert_exporter": "python",
   "pygments_lexer": "ipython3",
   "version": "3.5.2"
  }
 },
 "nbformat": 4,
 "nbformat_minor": 2
}
