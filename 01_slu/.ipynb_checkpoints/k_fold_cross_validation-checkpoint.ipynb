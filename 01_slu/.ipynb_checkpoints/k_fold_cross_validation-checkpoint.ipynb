{
 "cells": [
  {
   "cell_type": "markdown",
   "metadata": {},
   "source": [
    "![DISI](../resources/DISI.jpeg)"
   ]
  },
  {
   "cell_type": "markdown",
   "metadata": {},
   "source": [
    "### Import"
   ]
  },
  {
   "cell_type": "code",
   "execution_count": null,
   "metadata": {},
   "outputs": [],
   "source": [
    "import json\n",
    "import subprocess\n",
    "import numpy as np"
   ]
  },
  {
   "cell_type": "code",
   "execution_count": null,
   "metadata": {},
   "outputs": [],
   "source": [
    "K = 10"
   ]
  },
  {
   "cell_type": "code",
   "execution_count": null,
   "metadata": {},
   "outputs": [],
   "source": [
    "CONFIGURATION_FILE_NAME = \"config.json\""
   ]
  },
  {
   "cell_type": "code",
   "execution_count": null,
   "metadata": {},
   "outputs": [],
   "source": [
    "OUTPUT_DIR = \"{0}_fold_cross_validation\".format(K)\n",
    "TRAIN_FILE = \"NLSPARQL.train.data\"\n",
    "TRAIN_FEATS_FILE = \"NLSPARQL.train.feats.txt\"\n",
    "\n",
    "TRAIN_TEMP_FILE = \"{0}/temp_train.txt\".format(OUTPUT_DIR)\n",
    "TRAIN_TEMP_FEATS_FILE = \"{0}/temp_train_feats.txt\".format(OUTPUT_DIR)\n",
    "TEST_TEMP_FILE = \"{0}/temp_test.txt\".format(OUTPUT_DIR)\n",
    "TEST_TEMP_FEATS_FILE = \"{0}/temp_test_feats.txt\".format(OUTPUT_DIR)\n",
    "\n",
    "HANDLE_UNK = \"uniform\"\n",
    "NGRAM_SIZE = 4\n",
    "SMOOTHING = \"kneser_ney\"\n",
    "ADDITIONAL_FEATURE = \"none\"\n",
    "IMPROVEMENT = \"naive\"\n",
    "\n",
    "BACKOFF = \"false\"\n",
    "BINS = -1\n",
    "WITTEN_BELL_K = 1.0\n",
    "DISCOUNT_D = -1"
   ]
  },
  {
   "cell_type": "code",
   "execution_count": null,
   "metadata": {},
   "outputs": [],
   "source": [
    "assert(subprocess.call(\"[[ -e config.json ]] && cp config.json config_bak.json\", shell = True) == 0),\\\n",
    "\"> unable to make a copy of configuration file\""
   ]
  },
  {
   "cell_type": "code",
   "execution_count": null,
   "metadata": {},
   "outputs": [],
   "source": [
    "# remove the output directory if already exists\n",
    "assert(subprocess.call(\"rm -rf {0}\".format(OUTPUT_DIR), shell = True) == 0),\\\n",
    "\"> unable to remove {0}\".format(OUTPUT_DIR)\n",
    "\n",
    "# make another directory with the specified output directory name\n",
    "assert(subprocess.call(\"mkdir -p {0}\".format(OUTPUT_DIR), shell = True) == 0),\\\n",
    "\"> unable to mkdir {0}\".format(OUTPUT_DIR)"
   ]
  },
  {
   "cell_type": "code",
   "execution_count": null,
   "metadata": {},
   "outputs": [],
   "source": [
    "def read_sentences(input_file_path):\n",
    "    input_file = open(input_file_path, \"r\", encoding=\"utf8\")\n",
    "    \n",
    "    input_file_sentences = []\n",
    "    sentence = []\n",
    "    \n",
    "    for line in input_file:\n",
    "        line = line.replace(\"\\n\", \"\")\n",
    "        \n",
    "        if len(line) == 0:\n",
    "            input_file_sentences.append(sentence)\n",
    "            sentence = []\n",
    "        \n",
    "        sentence.append(line)\n",
    "        \n",
    "    input_file.close()\n",
    "    \n",
    "    return input_file_sentences"
   ]
  },
  {
   "cell_type": "code",
   "execution_count": null,
   "metadata": {},
   "outputs": [],
   "source": [
    "train_sentences = read_sentences(TRAIN_FILE)\n",
    "train_feats_sentences = read_sentences(TRAIN_FEATS_FILE)\n",
    "\n",
    "assert(len(train_sentences) == len(train_feats_sentences))"
   ]
  },
  {
   "cell_type": "code",
   "execution_count": null,
   "metadata": {},
   "outputs": [],
   "source": [
    "train_folds = np.array_split(train_sentences, K)\n",
    "train_feats_folds = np.array_split(train_feats_sentences, K)"
   ]
  },
  {
   "cell_type": "code",
   "execution_count": null,
   "metadata": {},
   "outputs": [],
   "source": [
    "def write_fold_to_file(fold, output_file_path):\n",
    "    output_file = open(output_file_path, \"w\", encoding=\"utf8\")\n",
    "    for sentence in fold:\n",
    "        for line in sentence:\n",
    "            output_file.write(\"{0}\\n\".format(line))\n",
    "    output_file.close()"
   ]
  },
  {
   "cell_type": "code",
   "execution_count": null,
   "metadata": {},
   "outputs": [],
   "source": [
    "try:\n",
    "    for fold_index in range(len(train_folds)):\n",
    "\n",
    "        print(\"> fold index:\\t{0}\\n\".format(fold_index))\n",
    "\n",
    "        test_fold = train_folds[fold_index]\n",
    "        test_feats_fold = train_feats_folds[fold_index]\n",
    "\n",
    "        write_fold_to_file(test_fold, TEST_TEMP_FILE)\n",
    "        write_fold_to_file(test_feats_fold, TEST_TEMP_FEATS_FILE)\n",
    "\n",
    "        train_folds_indices = list(range(len(train_folds)))\n",
    "        train_folds_indices.remove(fold_index)\n",
    "\n",
    "        train = []\n",
    "        train_feats = []\n",
    "\n",
    "        for train_fold_index in train_folds_indices:\n",
    "            train.append(train_folds[train_fold_index])\n",
    "            train_feats.append(train_feats_folds[train_fold_index])\n",
    "\n",
    "        train = np.concatenate(train)\n",
    "        train_feats = np.concatenate(train_feats)\n",
    "\n",
    "        write_fold_to_file(train, TRAIN_TEMP_FILE)\n",
    "        write_fold_to_file(train_feats, TRAIN_TEMP_FEATS_FILE)\n",
    "\n",
    "        configuration = {}\n",
    "        configuration[\"output_dir\"] = \"{0}/fold_{1}\".format(OUTPUT_DIR, fold_index)\n",
    "        configuration[\"train_file\"] = TRAIN_TEMP_FILE\n",
    "        configuration[\"train_feats_file\"] = TRAIN_TEMP_FEATS_FILE\n",
    "        configuration[\"test_file\"] = TEST_TEMP_FILE\n",
    "        configuration[\"test_feats_file\"] = TEST_TEMP_FEATS_FILE\n",
    "        configuration[\"handle_unk\"] = HANDLE_UNK\n",
    "        configuration[\"ngram_size\"] = NGRAM_SIZE\n",
    "        configuration[\"smoothing\"] = SMOOTHING\n",
    "        configuration[\"additional_feature\"] = ADDITIONAL_FEATURE\n",
    "        configuration[\"improvement\"] = IMPROVEMENT\n",
    "        configuration[\"backoff\"] = BACKOFF\n",
    "        configuration[\"bins\"] = BINS\n",
    "        configuration[\"witten_bell_k\"] = WITTEN_BELL_K\n",
    "        configuration[\"discount_D\"] = DISCOUNT_D\n",
    "\n",
    "        configuration_file = open(CONFIGURATION_FILE_NAME, 'w', encoding=\"utf8\")\n",
    "        json.dump(configuration, configuration_file)\n",
    "        configuration_file.close()\n",
    "\n",
    "        assert(subprocess.call(\"python3 slu.py\", shell = True) == 0),\\\n",
    "                        \"> unable to run the script\"\n",
    "        print(\"\\n\")\n",
    "except:\n",
    "    pass"
   ]
  },
  {
   "cell_type": "code",
   "execution_count": null,
   "metadata": {},
   "outputs": [],
   "source": [
    "assert(subprocess.call(\"[[ -e config_bak.json ]] && mv config_bak.json config.json\", shell = True) == 0),\\\n",
    "\"> unable to make a copy of configuration file\""
   ]
  }
 ],
 "metadata": {
  "kernelspec": {
   "display_name": "Python 3",
   "language": "python",
   "name": "python3"
  },
  "language_info": {
   "codemirror_mode": {
    "name": "ipython",
    "version": 3
   },
   "file_extension": ".py",
   "mimetype": "text/x-python",
   "name": "python",
   "nbconvert_exporter": "python",
   "pygments_lexer": "ipython3",
   "version": "3.5.2"
  }
 },
 "nbformat": 4,
 "nbformat_minor": 2
}
