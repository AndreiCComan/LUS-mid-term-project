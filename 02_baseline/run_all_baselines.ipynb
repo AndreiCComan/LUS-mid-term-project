{
 "cells": [
  {
   "cell_type": "markdown",
   "metadata": {},
   "source": [
    "![DISI](../resources/DISI.jpeg)"
   ]
  },
  {
   "cell_type": "markdown",
   "metadata": {},
   "source": [
    "### Import"
   ]
  },
  {
   "cell_type": "code",
   "execution_count": 17,
   "metadata": {},
   "outputs": [],
   "source": [
    "import json\n",
    "import subprocess"
   ]
  },
  {
   "cell_type": "code",
   "execution_count": 18,
   "metadata": {},
   "outputs": [],
   "source": [
    "CONFIGURATION_FILE_NAME = \"config.json\""
   ]
  },
  {
   "cell_type": "code",
   "execution_count": 19,
   "metadata": {},
   "outputs": [],
   "source": [
    "assert(subprocess.call(\"[[ -e config.json ]] && cp config.json config_bak.json\", shell = True) == 0),\\\n",
    "\"> unable to make a copy of configuration file\""
   ]
  },
  {
   "cell_type": "code",
   "execution_count": 20,
   "metadata": {},
   "outputs": [],
   "source": [
    "BASELINES = [\"random\", \"chance\", \"majority\"]"
   ]
  },
  {
   "cell_type": "code",
   "execution_count": 21,
   "metadata": {},
   "outputs": [
    {
     "name": "stdout",
     "output_type": "stream",
     "text": [
      "> running random baseline\n",
      "> running chance baseline\n",
      "> running majority baseline\n"
     ]
    }
   ],
   "source": [
    "try:\n",
    "    for baseline in BASELINES:\n",
    "        print(\"> running {0} baseline\".format(baseline))\n",
    "        \n",
    "        configuration = {}\n",
    "        configuration[\"baseline\"] = baseline\n",
    "        \n",
    "        configuration_file = open(CONFIGURATION_FILE_NAME, 'w', encoding=\"utf8\")\n",
    "        json.dump(configuration, configuration_file)\n",
    "        configuration_file.close()\n",
    "        \n",
    "        assert(subprocess.call(\"python3 baseline.py\", shell = True) == 0),\\\n",
    "        \"> unable to run the script\"\n",
    "except:\n",
    "    pass"
   ]
  },
  {
   "cell_type": "code",
   "execution_count": 22,
   "metadata": {},
   "outputs": [],
   "source": [
    "assert(subprocess.call(\"[[ -e config_bak.json ]] && mv config_bak.json config.json\", shell = True) == 0),\\\n",
    "\"> unable to make a copy of configuration file\""
   ]
  },
  {
   "cell_type": "code",
   "execution_count": null,
   "metadata": {},
   "outputs": [],
   "source": []
  }
 ],
 "metadata": {
  "kernelspec": {
   "display_name": "Python 3",
   "language": "python",
   "name": "python3"
  },
  "language_info": {
   "codemirror_mode": {
    "name": "ipython",
    "version": 3
   },
   "file_extension": ".py",
   "mimetype": "text/x-python",
   "name": "python",
   "nbconvert_exporter": "python",
   "pygments_lexer": "ipython3",
   "version": "3.5.2"
  }
 },
 "nbformat": 4,
 "nbformat_minor": 2
}
