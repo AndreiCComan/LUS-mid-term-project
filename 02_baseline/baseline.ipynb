{
 "cells": [
  {
   "cell_type": "markdown",
   "metadata": {},
   "source": [
    "![DISI](../resources/DISI.jpeg)"
   ]
  },
  {
   "cell_type": "markdown",
   "metadata": {},
   "source": [
    "### Import"
   ]
  },
  {
   "cell_type": "code",
   "execution_count": 1,
   "metadata": {},
   "outputs": [],
   "source": [
    "import json\n",
    "import numpy as np\n",
    "import operator\n",
    "import subprocess"
   ]
  },
  {
   "cell_type": "markdown",
   "metadata": {},
   "source": [
    "### Load JSON configuration file"
   ]
  },
  {
   "cell_type": "code",
   "execution_count": 2,
   "metadata": {},
   "outputs": [],
   "source": [
    "json_configuration_file = open(\"config.json\", \"r\", encoding=\"utf8\")\n",
    "config = json.load(json_configuration_file)"
   ]
  },
  {
   "cell_type": "code",
   "execution_count": 3,
   "metadata": {},
   "outputs": [],
   "source": [
    "TRAIN_FILE = \"NLSPARQL.train.data\"\n",
    "TEST_FILE = \"NLSPARQL.test.data\"\n",
    "BASELINE = config[\"baseline\"]\n",
    "\n",
    "OUTPUT_DIR = \"\""
   ]
  },
  {
   "cell_type": "code",
   "execution_count": 4,
   "metadata": {},
   "outputs": [],
   "source": [
    "# make sure the parameter assumes the right values\n",
    "assert(BASELINE == \"random\" or\\\n",
    "       BASELINE == \"chance\" or\\\n",
    "       BASELINE == \"majority\"),\\\n",
    "\"> BASELINE value must be either <random>, <chance>, or <majority>, provided value is <{0}>\".format(BASELINE)"
   ]
  },
  {
   "cell_type": "code",
   "execution_count": 5,
   "metadata": {},
   "outputs": [],
   "source": [
    "OUTPUT_DIR += \"{0}\".format(BASELINE)\n",
    "RESULT_FILE = \"{0}/result.txt\".format(OUTPUT_DIR)\n",
    "EVALUATION_FILE = \"{0}/evaluation.txt\".format(OUTPUT_DIR)"
   ]
  },
  {
   "cell_type": "code",
   "execution_count": 6,
   "metadata": {},
   "outputs": [],
   "source": [
    "# remove the output directory if already exists\n",
    "assert(subprocess.call(\"rm -rf {0}\".format(OUTPUT_DIR), shell = True) == 0),\\\n",
    "\"> unable to remove {0}\".format(OUTPUT_DIR)\n",
    "\n",
    "# make another directory with the specified output directory name\n",
    "assert(subprocess.call(\"mkdir -p {0}\".format(OUTPUT_DIR), shell = True) == 0),\\\n",
    "\"> unable to mkdir {0}\".format(OUTPUT_DIR)"
   ]
  },
  {
   "cell_type": "markdown",
   "metadata": {},
   "source": [
    "### Computing train concepts probabilities"
   ]
  },
  {
   "cell_type": "code",
   "execution_count": 7,
   "metadata": {},
   "outputs": [],
   "source": [
    "train_file = open(TRAIN_FILE, \"r\", encoding=\"utf8\")\n",
    "\n",
    "total_concepts_count = 0\n",
    "concept_including_prefix_count_dictionary = {}\n",
    "\n",
    "for line in train_file:\n",
    "    line = line.replace(\"\\n\", \"\")\n",
    "    \n",
    "    if len(line) == 0: #check if end of sentence\n",
    "        continue\n",
    "    \n",
    "    line_split = line.split(\"\\t\")\n",
    "    assert(len(line_split) == 2)\n",
    "    \n",
    "    concept_including_prefix = line_split[1]\n",
    "    \n",
    "    if concept_including_prefix not in concept_including_prefix_count_dictionary:\n",
    "        concept_including_prefix_count_dictionary[concept_including_prefix] = 1\n",
    "    else:\n",
    "        concept_including_prefix_count_dictionary[concept_including_prefix] += 1\n",
    "        \n",
    "    total_concepts_count += 1\n",
    "    \n",
    "train_file.close()    "
   ]
  },
  {
   "cell_type": "code",
   "execution_count": 8,
   "metadata": {},
   "outputs": [],
   "source": [
    "concepts_list = []\n",
    "concepts_probabilities = []\n",
    "\n",
    "for concept, concept_count in concept_including_prefix_count_dictionary.items():\n",
    "    concepts_list.append(concept)\n",
    "    concepts_probabilities.append(concept_count/total_concepts_count)"
   ]
  },
  {
   "cell_type": "markdown",
   "metadata": {},
   "source": [
    "### Generating the result file"
   ]
  },
  {
   "cell_type": "code",
   "execution_count": 9,
   "metadata": {},
   "outputs": [],
   "source": [
    "result_file = open(RESULT_FILE, \"w\", encoding=\"utf8\")\n",
    "test_file = open(TEST_FILE, \"r\", encoding=\"utf8\")\n",
    "\n",
    "for line in test_file:\n",
    "    line = line.replace(\"\\n\", \"\")\n",
    "    \n",
    "    if len(line) == 0: #check if end of sentence\n",
    "        result_file.write(\"\\n\")\n",
    "        continue\n",
    "    \n",
    "    line_split = line.split(\"\\t\")\n",
    "    assert(len(line_split) == 2)\n",
    "    \n",
    "    token = line_split[0]\n",
    "    concept_including_prefix = line_split[1]\n",
    "    \n",
    "    predicted_concept = \"\"\n",
    "    \n",
    "    if BASELINE == \"random\":\n",
    "        predicted_concept = np.random.choice(concepts_list, 1)[0]\n",
    "    elif BASELINE == \"chance\":\n",
    "        predicted_concept = np.random.choice(concepts_list, 1, p=concepts_probabilities)[0]\n",
    "    elif BASELINE == \"majority\":\n",
    "        predicted_concept = max(concept_including_prefix_count_dictionary.items(), key=operator.itemgetter(1))[0]\n",
    "    \n",
    "    assert(predicted_concept != \"\")\n",
    "    \n",
    "    result_file.write(\"{0} {1} {2}\\n\".format(token, concept_including_prefix, predicted_concept))\n",
    "    \n",
    "result_file.close()\n",
    "test_file.close()"
   ]
  },
  {
   "cell_type": "markdown",
   "metadata": {},
   "source": [
    "### Generating the evaluation file"
   ]
  },
  {
   "cell_type": "code",
   "execution_count": 10,
   "metadata": {},
   "outputs": [],
   "source": [
    "assert(subprocess.call(\"./conlleval.pl < {0} > {1}\".format(RESULT_FILE, EVALUATION_FILE), shell = True) == 0)"
   ]
  }
 ],
 "metadata": {
  "kernelspec": {
   "display_name": "Python 3",
   "language": "python",
   "name": "python3"
  },
  "language_info": {
   "codemirror_mode": {
    "name": "ipython",
    "version": 3
   },
   "file_extension": ".py",
   "mimetype": "text/x-python",
   "name": "python",
   "nbconvert_exporter": "python",
   "pygments_lexer": "ipython3",
   "version": "3.5.2"
  }
 },
 "nbformat": 4,
 "nbformat_minor": 2
}
